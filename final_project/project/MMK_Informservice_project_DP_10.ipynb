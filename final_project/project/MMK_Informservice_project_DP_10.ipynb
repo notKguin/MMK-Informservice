{
  "nbformat": 4,
  "nbformat_minor": 0,
  "metadata": {
    "colab": {
      "provenance": [],
      "authorship_tag": "ABX9TyPCPCb+3W2UoIAqASzOOOf0",
      "include_colab_link": true
    },
    "kernelspec": {
      "name": "python3",
      "display_name": "Python 3"
    },
    "language_info": {
      "name": "python"
    }
  },
  "cells": [
    {
      "cell_type": "markdown",
      "metadata": {
        "id": "view-in-github",
        "colab_type": "text"
      },
      "source": [
        "<a href=\"https://colab.research.google.com/github/notKguin/MMK-Informservice/blob/main/final_project/project/MMK_Informservice_project_DP_10.ipynb\" target=\"_parent\"><img src=\"https://colab.research.google.com/assets/colab-badge.svg\" alt=\"Open In Colab\"/></a>"
      ]
    },
    {
      "cell_type": "code",
      "execution_count": 15,
      "metadata": {
        "id": "Ahx0srZtgV5P"
      },
      "outputs": [],
      "source": [
        "import gradio as gr\n",
        "import pandas as pd\n",
        "import numpy as np\n",
        "import pickle\n",
        "\n",
        "# Загрузка датасетов\n",
        "chugun_df = pd.read_csv(\"chugun.csv\")\n",
        "coke_df = pd.read_csv(\"coke.csv\")\n",
        "\n",
        "# Загрузка моделей\n",
        "with open(\"gb_model_chugun.pkl\", \"rb\") as f:\n",
        "    gb_model_chugun = pickle.load(f)\n",
        "with open(\"gb_model_coke.pkl\", \"rb\") as f:\n",
        "    gb_model_coke = pickle.load(f)"
      ]
    },
    {
      "cell_type": "code",
      "source": [
        "import gradio as gr\n",
        "import pandas as pd\n",
        "import numpy as np\n",
        "import pickle\n",
        "\n",
        "# Загрузка датасетов\n",
        "chugun_df = pd.read_csv(\"chugun.csv\")\n",
        "coke_df = pd.read_csv(\"coke.csv\")\n",
        "\n",
        "# Загрузка моделей\n",
        "with open(\"gb_model_chugun.pkl\", \"rb\") as f:\n",
        "    gb_model_chugun = pickle.load(f)\n",
        "with open(\"gb_model_coke.pkl\", \"rb\") as f:\n",
        "    gb_model_coke = pickle.load(f)\n",
        "\n",
        "# Функция для получения случайной строки из датасета\n",
        "def get_random_sample(dataset):\n",
        "    return dataset.sample(1)\n",
        "\n",
        "# Функция для форматирования признаков с учетом ожидаемых признаков модели\n",
        "def format_features(sample, target_column, model):\n",
        "    # Удаляем целевую переменную из признаков\n",
        "    features = sample.drop(columns=[target_column])\n",
        "    feature_names = list(features.columns)\n",
        "\n",
        "    # Проверяем, совпадают ли признаки с ожидаемыми моделью\n",
        "    expected_features = model.feature_names_in_ if hasattr(model, 'feature_names_in_') else feature_names\n",
        "    if set(feature_names) != set(expected_features):\n",
        "        missing_features = set(expected_features) - set(feature_names)\n",
        "        extra_features = set(feature_names) - set(expected_features)\n",
        "        if missing_features:\n",
        "            raise ValueError(f\"Датасет не содержит ожидаемые признаки: {missing_features}\")\n",
        "        if extra_features:\n",
        "            # Удаляем лишние признаки\n",
        "            features = features[expected_features]\n",
        "            feature_names = expected_features\n",
        "\n",
        "    feature_values = features.values[0]\n",
        "    return feature_names, feature_values\n",
        "\n",
        "# Основная функция для предсказания\n",
        "def predict(model_choice):\n",
        "    if model_choice == \"Производство чугуна\":\n",
        "        dataset = chugun_df\n",
        "        target_column = \"Количество чугуна (т)\"\n",
        "        model = gb_model_chugun\n",
        "    else:\n",
        "        dataset = coke_df\n",
        "        target_column = \"Удельный расход кокса (кг/т)\"\n",
        "        model = gb_model_coke\n",
        "\n",
        "    # Получаем случайную строку\n",
        "    sample = get_random_sample(dataset)\n",
        "    feature_names, feature_values = format_features(sample, target_column, model)\n",
        "    actual_value = sample[target_column].values[0]\n",
        "\n",
        "    # Преобразуем входные данные в массив\n",
        "    input_data = np.array([feature_values])\n",
        "\n",
        "    # Предсказание\n",
        "    prediction = model.predict(input_data)[0]\n",
        "\n",
        "    # Расчет процентной ошибки\n",
        "    error_percent = abs((prediction - actual_value) / actual_value) * 100\n",
        "\n",
        "    # Формирование результата\n",
        "    result = f\"Предсказанное значение: {prediction:.2f}\\n\"\n",
        "    result += f\"Реальное значение: {actual_value:.2f}\\n\"\n",
        "    result += f\"Процент ошибки: {error_percent:.2f}%\"\n",
        "\n",
        "    return (\n",
        "        gr.Dataframe(headers=[\"Признак\"], value=[[name] for name in feature_names]),\n",
        "        gr.Dataframe(headers=[\"Значение\"], value=[[value] for value in feature_values]),\n",
        "        result\n",
        "    )\n",
        "\n",
        "# Создание интерфейса Gradio\n",
        "with gr.Blocks() as demo:\n",
        "\n",
        "    # Выбор модели\n",
        "    model_choice = gr.Dropdown(\n",
        "        choices=[\"Производство чугуна\", \"Удельный расход кокса\"],\n",
        "        label=\"Выберите модель\",\n",
        "        value=\"Производство чугуна\"\n",
        "    )\n",
        "\n",
        "    # Вывод признаков\n",
        "    with gr.Row():\n",
        "      feature_display = gr.Dataframe(headers=[\"Признак\"], value=[])\n",
        "      value_display = gr.Dataframe(headers=[\"Значение\"], value=[])\n",
        "\n",
        "    # Кнопка предсказания\n",
        "    predict_button = gr.Button(\"Предсказать\")\n",
        "\n",
        "    # Вывод результата\n",
        "    output = gr.Textbox(label=\"Результат предсказания\")\n",
        "\n",
        "    # Логика предсказания\n",
        "    predict_button.click(\n",
        "        fn=predict,\n",
        "        inputs=model_choice,\n",
        "        outputs=[feature_display, value_display, output]\n",
        "    )\n",
        "\n",
        "# Запуск приложения\n",
        "demo.launch()"
      ],
      "metadata": {
        "colab": {
          "base_uri": "https://localhost:8080/",
          "height": 646
        },
        "id": "wMwpkCDZlWqD",
        "outputId": "8444a1b7-3d14-4870-9b22-5036c27a63f2"
      },
      "execution_count": 21,
      "outputs": [
        {
          "output_type": "stream",
          "name": "stdout",
          "text": [
            "It looks like you are running Gradio on a hosted a Jupyter notebook. For the Gradio app to work, sharing must be enabled. Automatically setting `share=True` (you can turn this off by setting `share=False` in `launch()` explicitly).\n",
            "\n",
            "Colab notebook detected. To show errors in colab notebook, set debug=True in launch()\n",
            "* Running on public URL: https://4c4bc90749ae538114.gradio.live\n",
            "\n",
            "This share link expires in 1 week. For free permanent hosting and GPU upgrades, run `gradio deploy` from the terminal in the working directory to deploy to Hugging Face Spaces (https://huggingface.co/spaces)\n"
          ]
        },
        {
          "output_type": "display_data",
          "data": {
            "text/plain": [
              "<IPython.core.display.HTML object>"
            ],
            "text/html": [
              "<div><iframe src=\"https://4c4bc90749ae538114.gradio.live\" width=\"100%\" height=\"500\" allow=\"autoplay; camera; microphone; clipboard-read; clipboard-write;\" frameborder=\"0\" allowfullscreen></iframe></div>"
            ]
          },
          "metadata": {}
        },
        {
          "output_type": "execute_result",
          "data": {
            "text/plain": []
          },
          "metadata": {},
          "execution_count": 21
        }
      ]
    }
  ]
}