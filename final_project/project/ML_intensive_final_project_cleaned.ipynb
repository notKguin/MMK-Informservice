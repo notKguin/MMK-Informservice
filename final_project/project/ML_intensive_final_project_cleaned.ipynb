{
  "nbformat": 4,
  "nbformat_minor": 0,
  "metadata": {
    "colab": {
      "provenance": [],
      "toc_visible": true,
      "authorship_tag": "ABX9TyN2wAtOwvCtixUgFENkAGcN",
      "include_colab_link": true
    },
    "kernelspec": {
      "name": "python3",
      "display_name": "Python 3"
    },
    "language_info": {
      "name": "python"
    }
  },
  "cells": [
    {
      "cell_type": "markdown",
      "metadata": {
        "id": "view-in-github",
        "colab_type": "text"
      },
      "source": [
        "<a href=\"https://colab.research.google.com/github/notKguin/MMK-Informservice/blob/main/final_project/project/ML_intensive_final_project_cleaned.ipynb\" target=\"_parent\"><img src=\"https://colab.research.google.com/assets/colab-badge.svg\" alt=\"Open In Colab\"/></a>"
      ]
    },
    {
      "cell_type": "markdown",
      "source": [
        "# Настройки"
      ],
      "metadata": {
        "id": "fUCcgAKppeOW"
      }
    },
    {
      "cell_type": "code",
      "source": [
        "# pd.set_option('display.max_columns', None) # Убираем ограничение в количестве столбцов\n",
        "# pd.set_option('display.max_rows', None) # Убираем ограничение в количестве строк"
      ],
      "metadata": {
        "id": "Hr85pREFpc6P"
      },
      "execution_count": 1,
      "outputs": []
    },
    {
      "cell_type": "code",
      "source": [
        "# pd.reset_option('display.max_columns') # Сбрасываем ограничение по умолчанию в количестве столбцов\n",
        "# pd.reset_option('display.max_rows') # Сбрасываем ограничение по умолчанию в количестве строк"
      ],
      "metadata": {
        "id": "uRS99G5-p2vw"
      },
      "execution_count": 2,
      "outputs": []
    },
    {
      "cell_type": "markdown",
      "source": [
        "# Загрузка датасета"
      ],
      "metadata": {
        "id": "9MsXeZSIlVOB"
      }
    },
    {
      "cell_type": "code",
      "execution_count": 3,
      "metadata": {
        "colab": {
          "base_uri": "https://localhost:8080/"
        },
        "id": "5-4WT-Wh4S1h",
        "outputId": "52160a57-6d30-4cc8-dabd-3143fe98c279"
      },
      "outputs": [
        {
          "output_type": "stream",
          "name": "stdout",
          "text": [
            "Drive already mounted at /content/drive; to attempt to forcibly remount, call drive.mount(\"/content/drive\", force_remount=True).\n"
          ]
        }
      ],
      "source": [
        "from google.colab import drive\n",
        "import pandas as pd\n",
        "drive.mount('/content/drive')"
      ]
    },
    {
      "cell_type": "code",
      "source": [
        "df = pd.read_csv('/content/drive/MyDrive/MMK_inforservice/datasets/Dataset_DP10_day.csv', sep=';', encoding='cp1251', index_col='Unnamed: 0')"
      ],
      "metadata": {
        "id": "ZAacgv0C5vFd"
      },
      "execution_count": 4,
      "outputs": []
    },
    {
      "cell_type": "code",
      "source": [
        "df"
      ],
      "metadata": {
        "colab": {
          "base_uri": "https://localhost:8080/",
          "height": 1000
        },
        "id": "6-2OdWZr7VD1",
        "outputId": "11a6cd7a-95e6-4461-80ee-3f163c4222f4"
      },
      "execution_count": 5,
      "outputs": [
        {
          "output_type": "execute_result",
          "data": {
            "text/plain": [
              "            Time Iron_count          URK  Расход холодного дутья ( м?/час )  \\\n",
              "1     02.09.2012   4359,847   457,062565                        214677.1855   \n",
              "2     03.09.2012   4425,385  450,1093358                        214572.0651   \n",
              "3     04.09.2012   4372,657  464,1847051                        216907.2760   \n",
              "4     05.09.2012   4447,549   455,028522                        217341.6706   \n",
              "5     06.09.2012   4441,511  467,2329351                        223169.5814   \n",
              "...          ...        ...          ...                                ...   \n",
              "1850  26.09.2017   5141,843  404,5660885                        264492.2077   \n",
              "1851  27.09.2017   5251,577  401,6168941                        268069.9850   \n",
              "1852  28.09.2017   5305,734  401,4540218                        267186.0690   \n",
              "1853  29.09.2017   5360,082   402,017341                        266981.6263   \n",
              "1854  30.09.2017   5288,666  407,7516705                        269118.9583   \n",
              "\n",
              "     Давление горячего дутья ( ат ) Температура горячего дутья ( С )  \\\n",
              "1                             4(ат)                   1055,686386(С)   \n",
              "2                             4(ат)                   1063,769384(С)   \n",
              "3                             4(ат)                   1060,716365(С)   \n",
              "4                             4(ат)                   1058,044291(С)   \n",
              "5                             4(ат)                   1060,088181(С)   \n",
              "...                             ...                              ...   \n",
              "1850                          4(ат)                   1002,055957(С)   \n",
              "1851                          4(ат)                   1002,480761(С)   \n",
              "1852                          4(ат)                   1005,178185(С)   \n",
              "1853                          4(ат)                   1002,133046(С)   \n",
              "1854                          4(ат)                   1002,953089(С)   \n",
              "\n",
              "     Расход природного газа ( м?/час ) Температура природного газа ( ?С )  \\\n",
              "1                          15916,95805                        14,13750247   \n",
              "2                          15998,28292                        14,47928015   \n",
              "3                          15984,38981                         14,4863259   \n",
              "4                          15975,46354                        15,82185074   \n",
              "5                          15999,31665                        18,93565452   \n",
              "...                                ...                                ...   \n",
              "1850                       29951,71387                        4,641558896   \n",
              "1851                       29905,31812                        6,578101267   \n",
              "1852                       29838,85042                        5,593210797   \n",
              "1853                       29622,66935                         5,35199336   \n",
              "1854                       29912,03947                        4,774703225   \n",
              "\n",
              "     Содержание кислорода в дутье ( % ) Расход пара на увлажнение ( т/час )  \\\n",
              "1                           26,30299997                         0,145087693   \n",
              "2                           26,50044982                         0,131810737   \n",
              "3                           26,51146475                         0,117763162   \n",
              "4                           26,62238797                         0,128866268   \n",
              "5                            26,3542157                         0,129628953   \n",
              "...                                 ...                                 ...   \n",
              "1850                        28,24363685                         0,274633718   \n",
              "1851                        28,29148412                                 NaN   \n",
              "1852                        28,14871367                                 NaN   \n",
              "1853                        27,90994938                                 NaN   \n",
              "1854                        27,71687436                                 NaN   \n",
              "\n",
              "      ...         TiO2          Osn            P           Zn           Cr  \\\n",
              "1     ...  0,273174603  1,885476182  0,027623016  0,031146826  0,023928571   \n",
              "2     ...  0,253095238  1,870238091  0,026238096   0,03047619  0,022357143   \n",
              "3     ...  0,254659441  1,898095966  0,026314242  0,029332818   0,02200774   \n",
              "4     ...  0,261315789  1,900649113  0,026508772  0,030535088  0,023970176   \n",
              "5     ...  0,254457236  1,911628279  0,024758224  0,030445724  0,023131579   \n",
              "...   ...          ...          ...          ...          ...          ...   \n",
              "1850  ...   0,24674603  1,822452372  0,032123016  0,040912699  0,025107143   \n",
              "1851  ...  0,247777775  1,850458317  0,032263889  0,042305556  0,024722223   \n",
              "1852  ...  0,241979165  1,808062499  0,033479167    0,0411875   0,02609375   \n",
              "1853  ...  0,242118053  1,794065968  0,032059028  0,038565972  0,025243056   \n",
              "1854  ...  0,238979165  1,815579154       0,0311  0,038589583  0,023072917   \n",
              "\n",
              "              MnO O2 Горячее дутьё Доля.агломерата  \\\n",
              "1     0,297420633       27,3333327           0,603   \n",
              "2     0,280000002      27,23333359           0,602   \n",
              "3     0,269654607      27,16666667           0,603   \n",
              "4     0,279666666      26,83333333           0,605   \n",
              "5     0,285345394               27           0,602   \n",
              "...           ...              ...             ...   \n",
              "1850  0,294285716      28,06666629           0,633   \n",
              "1851  0,297083336      27,79999987           0,635   \n",
              "1852  0,300312503      27,86666616           0,633   \n",
              "1853  0,298506947      27,90000025           0,638   \n",
              "1854  0,286395838      28,43333308           0,635   \n",
              "\n",
              "                                       Колошниковый газ  \\\n",
              "1     {\"CO2\": 18,73333359, \"CO\": \"25,16666667\", \"H2\"...   \n",
              "2     {\"CO2\": 18,6666673, \"CO\": \"25,60000038\", \"H2\":...   \n",
              "3     {\"CO2\": 18,66666667, \"CO\": \"25,23333359\", \"H2\"...   \n",
              "4     {\"CO2\": 18,43333308, \"CO\": \"26,09999975\", \"H2\"...   \n",
              "5     {\"CO2\": 18,86666616, \"CO\": \"25,93333308\", \"H2\"...   \n",
              "...                                                 ...   \n",
              "1850  {\"CO2\": 18,70000013, \"CO\": \"24,56666692\", \"H2\"...   \n",
              "1851  {\"CO2\": 17,66666667, \"CO\": \"23,96666718\", \"H2\"...   \n",
              "1852  {\"CO2\": 18,36666616, \"CO\": \"24,23333359\", \"H2\"...   \n",
              "1853  {\"CO2\": 18,23333359, \"CO\": \"24\", \"H2\": \"9,1333...   \n",
              "1854  {\"CO2\": 19,23333359, \"CO\": \"24,09999975\", \"H2\"...   \n",
              "\n",
              "                                      Колошниковая пыль  \n",
              "1     {\"Al2O3\": \"NA \", \"CaO\": \" NA \", \"Fe\": \" NA \", ...  \n",
              "2     {\"Al2O3\": \"NA \", \"CaO\": \" NA \", \"Fe\": \" NA \", ...  \n",
              "3     {\"Al2O3\": \"NA \", \"CaO\": \" NA \", \"Fe\": \" NA \", ...  \n",
              "4     {\"Al2O3\": \"NA \", \"CaO\": \" NA \", \"Fe\": \" NA \", ...  \n",
              "5     {\"Al2O3\": \"2,170000076 \", \"CaO\": \" 6,019999981...  \n",
              "...                                                 ...  \n",
              "1850  {\"Al2O3\": \"NA \", \"CaO\": \" NA \", \"Fe\": \" NA \", ...  \n",
              "1851  {\"Al2O3\": \"NA \", \"CaO\": \" NA \", \"Fe\": \" NA \", ...  \n",
              "1852  {\"Al2O3\": \"2,079999924 \", \"CaO\": \" 8,600000381...  \n",
              "1853  {\"Al2O3\": \"NA \", \"CaO\": \" NA \", \"Fe\": \" NA \", ...  \n",
              "1854  {\"Al2O3\": \"NA \", \"CaO\": \" NA \", \"Fe\": \" NA \", ...  \n",
              "\n",
              "[1676 rows x 96 columns]"
            ],
            "text/html": [
              "\n",
              "  <div id=\"df-4eb5559e-c764-4695-8a8d-191772666d1c\" class=\"colab-df-container\">\n",
              "    <div>\n",
              "<style scoped>\n",
              "    .dataframe tbody tr th:only-of-type {\n",
              "        vertical-align: middle;\n",
              "    }\n",
              "\n",
              "    .dataframe tbody tr th {\n",
              "        vertical-align: top;\n",
              "    }\n",
              "\n",
              "    .dataframe thead th {\n",
              "        text-align: right;\n",
              "    }\n",
              "</style>\n",
              "<table border=\"1\" class=\"dataframe\">\n",
              "  <thead>\n",
              "    <tr style=\"text-align: right;\">\n",
              "      <th></th>\n",
              "      <th>Time</th>\n",
              "      <th>Iron_count</th>\n",
              "      <th>URK</th>\n",
              "      <th>Расход холодного дутья ( м?/час )</th>\n",
              "      <th>Давление горячего дутья ( ат )</th>\n",
              "      <th>Температура горячего дутья ( С )</th>\n",
              "      <th>Расход природного газа ( м?/час )</th>\n",
              "      <th>Температура природного газа ( ?С )</th>\n",
              "      <th>Содержание кислорода в дутье ( % )</th>\n",
              "      <th>Расход пара на увлажнение ( т/час )</th>\n",
              "      <th>...</th>\n",
              "      <th>TiO2</th>\n",
              "      <th>Osn</th>\n",
              "      <th>P</th>\n",
              "      <th>Zn</th>\n",
              "      <th>Cr</th>\n",
              "      <th>MnO</th>\n",
              "      <th>O2 Горячее дутьё</th>\n",
              "      <th>Доля.агломерата</th>\n",
              "      <th>Колошниковый газ</th>\n",
              "      <th>Колошниковая пыль</th>\n",
              "    </tr>\n",
              "  </thead>\n",
              "  <tbody>\n",
              "    <tr>\n",
              "      <th>1</th>\n",
              "      <td>02.09.2012</td>\n",
              "      <td>4359,847</td>\n",
              "      <td>457,062565</td>\n",
              "      <td>214677.1855</td>\n",
              "      <td>4(ат)</td>\n",
              "      <td>1055,686386(С)</td>\n",
              "      <td>15916,95805</td>\n",
              "      <td>14,13750247</td>\n",
              "      <td>26,30299997</td>\n",
              "      <td>0,145087693</td>\n",
              "      <td>...</td>\n",
              "      <td>0,273174603</td>\n",
              "      <td>1,885476182</td>\n",
              "      <td>0,027623016</td>\n",
              "      <td>0,031146826</td>\n",
              "      <td>0,023928571</td>\n",
              "      <td>0,297420633</td>\n",
              "      <td>27,3333327</td>\n",
              "      <td>0,603</td>\n",
              "      <td>{\"CO2\": 18,73333359, \"CO\": \"25,16666667\", \"H2\"...</td>\n",
              "      <td>{\"Al2O3\": \"NA \", \"CaO\": \" NA \", \"Fe\": \" NA \", ...</td>\n",
              "    </tr>\n",
              "    <tr>\n",
              "      <th>2</th>\n",
              "      <td>03.09.2012</td>\n",
              "      <td>4425,385</td>\n",
              "      <td>450,1093358</td>\n",
              "      <td>214572.0651</td>\n",
              "      <td>4(ат)</td>\n",
              "      <td>1063,769384(С)</td>\n",
              "      <td>15998,28292</td>\n",
              "      <td>14,47928015</td>\n",
              "      <td>26,50044982</td>\n",
              "      <td>0,131810737</td>\n",
              "      <td>...</td>\n",
              "      <td>0,253095238</td>\n",
              "      <td>1,870238091</td>\n",
              "      <td>0,026238096</td>\n",
              "      <td>0,03047619</td>\n",
              "      <td>0,022357143</td>\n",
              "      <td>0,280000002</td>\n",
              "      <td>27,23333359</td>\n",
              "      <td>0,602</td>\n",
              "      <td>{\"CO2\": 18,6666673, \"CO\": \"25,60000038\", \"H2\":...</td>\n",
              "      <td>{\"Al2O3\": \"NA \", \"CaO\": \" NA \", \"Fe\": \" NA \", ...</td>\n",
              "    </tr>\n",
              "    <tr>\n",
              "      <th>3</th>\n",
              "      <td>04.09.2012</td>\n",
              "      <td>4372,657</td>\n",
              "      <td>464,1847051</td>\n",
              "      <td>216907.2760</td>\n",
              "      <td>4(ат)</td>\n",
              "      <td>1060,716365(С)</td>\n",
              "      <td>15984,38981</td>\n",
              "      <td>14,4863259</td>\n",
              "      <td>26,51146475</td>\n",
              "      <td>0,117763162</td>\n",
              "      <td>...</td>\n",
              "      <td>0,254659441</td>\n",
              "      <td>1,898095966</td>\n",
              "      <td>0,026314242</td>\n",
              "      <td>0,029332818</td>\n",
              "      <td>0,02200774</td>\n",
              "      <td>0,269654607</td>\n",
              "      <td>27,16666667</td>\n",
              "      <td>0,603</td>\n",
              "      <td>{\"CO2\": 18,66666667, \"CO\": \"25,23333359\", \"H2\"...</td>\n",
              "      <td>{\"Al2O3\": \"NA \", \"CaO\": \" NA \", \"Fe\": \" NA \", ...</td>\n",
              "    </tr>\n",
              "    <tr>\n",
              "      <th>4</th>\n",
              "      <td>05.09.2012</td>\n",
              "      <td>4447,549</td>\n",
              "      <td>455,028522</td>\n",
              "      <td>217341.6706</td>\n",
              "      <td>4(ат)</td>\n",
              "      <td>1058,044291(С)</td>\n",
              "      <td>15975,46354</td>\n",
              "      <td>15,82185074</td>\n",
              "      <td>26,62238797</td>\n",
              "      <td>0,128866268</td>\n",
              "      <td>...</td>\n",
              "      <td>0,261315789</td>\n",
              "      <td>1,900649113</td>\n",
              "      <td>0,026508772</td>\n",
              "      <td>0,030535088</td>\n",
              "      <td>0,023970176</td>\n",
              "      <td>0,279666666</td>\n",
              "      <td>26,83333333</td>\n",
              "      <td>0,605</td>\n",
              "      <td>{\"CO2\": 18,43333308, \"CO\": \"26,09999975\", \"H2\"...</td>\n",
              "      <td>{\"Al2O3\": \"NA \", \"CaO\": \" NA \", \"Fe\": \" NA \", ...</td>\n",
              "    </tr>\n",
              "    <tr>\n",
              "      <th>5</th>\n",
              "      <td>06.09.2012</td>\n",
              "      <td>4441,511</td>\n",
              "      <td>467,2329351</td>\n",
              "      <td>223169.5814</td>\n",
              "      <td>4(ат)</td>\n",
              "      <td>1060,088181(С)</td>\n",
              "      <td>15999,31665</td>\n",
              "      <td>18,93565452</td>\n",
              "      <td>26,3542157</td>\n",
              "      <td>0,129628953</td>\n",
              "      <td>...</td>\n",
              "      <td>0,254457236</td>\n",
              "      <td>1,911628279</td>\n",
              "      <td>0,024758224</td>\n",
              "      <td>0,030445724</td>\n",
              "      <td>0,023131579</td>\n",
              "      <td>0,285345394</td>\n",
              "      <td>27</td>\n",
              "      <td>0,602</td>\n",
              "      <td>{\"CO2\": 18,86666616, \"CO\": \"25,93333308\", \"H2\"...</td>\n",
              "      <td>{\"Al2O3\": \"2,170000076 \", \"CaO\": \" 6,019999981...</td>\n",
              "    </tr>\n",
              "    <tr>\n",
              "      <th>...</th>\n",
              "      <td>...</td>\n",
              "      <td>...</td>\n",
              "      <td>...</td>\n",
              "      <td>...</td>\n",
              "      <td>...</td>\n",
              "      <td>...</td>\n",
              "      <td>...</td>\n",
              "      <td>...</td>\n",
              "      <td>...</td>\n",
              "      <td>...</td>\n",
              "      <td>...</td>\n",
              "      <td>...</td>\n",
              "      <td>...</td>\n",
              "      <td>...</td>\n",
              "      <td>...</td>\n",
              "      <td>...</td>\n",
              "      <td>...</td>\n",
              "      <td>...</td>\n",
              "      <td>...</td>\n",
              "      <td>...</td>\n",
              "      <td>...</td>\n",
              "    </tr>\n",
              "    <tr>\n",
              "      <th>1850</th>\n",
              "      <td>26.09.2017</td>\n",
              "      <td>5141,843</td>\n",
              "      <td>404,5660885</td>\n",
              "      <td>264492.2077</td>\n",
              "      <td>4(ат)</td>\n",
              "      <td>1002,055957(С)</td>\n",
              "      <td>29951,71387</td>\n",
              "      <td>4,641558896</td>\n",
              "      <td>28,24363685</td>\n",
              "      <td>0,274633718</td>\n",
              "      <td>...</td>\n",
              "      <td>0,24674603</td>\n",
              "      <td>1,822452372</td>\n",
              "      <td>0,032123016</td>\n",
              "      <td>0,040912699</td>\n",
              "      <td>0,025107143</td>\n",
              "      <td>0,294285716</td>\n",
              "      <td>28,06666629</td>\n",
              "      <td>0,633</td>\n",
              "      <td>{\"CO2\": 18,70000013, \"CO\": \"24,56666692\", \"H2\"...</td>\n",
              "      <td>{\"Al2O3\": \"NA \", \"CaO\": \" NA \", \"Fe\": \" NA \", ...</td>\n",
              "    </tr>\n",
              "    <tr>\n",
              "      <th>1851</th>\n",
              "      <td>27.09.2017</td>\n",
              "      <td>5251,577</td>\n",
              "      <td>401,6168941</td>\n",
              "      <td>268069.9850</td>\n",
              "      <td>4(ат)</td>\n",
              "      <td>1002,480761(С)</td>\n",
              "      <td>29905,31812</td>\n",
              "      <td>6,578101267</td>\n",
              "      <td>28,29148412</td>\n",
              "      <td>NaN</td>\n",
              "      <td>...</td>\n",
              "      <td>0,247777775</td>\n",
              "      <td>1,850458317</td>\n",
              "      <td>0,032263889</td>\n",
              "      <td>0,042305556</td>\n",
              "      <td>0,024722223</td>\n",
              "      <td>0,297083336</td>\n",
              "      <td>27,79999987</td>\n",
              "      <td>0,635</td>\n",
              "      <td>{\"CO2\": 17,66666667, \"CO\": \"23,96666718\", \"H2\"...</td>\n",
              "      <td>{\"Al2O3\": \"NA \", \"CaO\": \" NA \", \"Fe\": \" NA \", ...</td>\n",
              "    </tr>\n",
              "    <tr>\n",
              "      <th>1852</th>\n",
              "      <td>28.09.2017</td>\n",
              "      <td>5305,734</td>\n",
              "      <td>401,4540218</td>\n",
              "      <td>267186.0690</td>\n",
              "      <td>4(ат)</td>\n",
              "      <td>1005,178185(С)</td>\n",
              "      <td>29838,85042</td>\n",
              "      <td>5,593210797</td>\n",
              "      <td>28,14871367</td>\n",
              "      <td>NaN</td>\n",
              "      <td>...</td>\n",
              "      <td>0,241979165</td>\n",
              "      <td>1,808062499</td>\n",
              "      <td>0,033479167</td>\n",
              "      <td>0,0411875</td>\n",
              "      <td>0,02609375</td>\n",
              "      <td>0,300312503</td>\n",
              "      <td>27,86666616</td>\n",
              "      <td>0,633</td>\n",
              "      <td>{\"CO2\": 18,36666616, \"CO\": \"24,23333359\", \"H2\"...</td>\n",
              "      <td>{\"Al2O3\": \"2,079999924 \", \"CaO\": \" 8,600000381...</td>\n",
              "    </tr>\n",
              "    <tr>\n",
              "      <th>1853</th>\n",
              "      <td>29.09.2017</td>\n",
              "      <td>5360,082</td>\n",
              "      <td>402,017341</td>\n",
              "      <td>266981.6263</td>\n",
              "      <td>4(ат)</td>\n",
              "      <td>1002,133046(С)</td>\n",
              "      <td>29622,66935</td>\n",
              "      <td>5,35199336</td>\n",
              "      <td>27,90994938</td>\n",
              "      <td>NaN</td>\n",
              "      <td>...</td>\n",
              "      <td>0,242118053</td>\n",
              "      <td>1,794065968</td>\n",
              "      <td>0,032059028</td>\n",
              "      <td>0,038565972</td>\n",
              "      <td>0,025243056</td>\n",
              "      <td>0,298506947</td>\n",
              "      <td>27,90000025</td>\n",
              "      <td>0,638</td>\n",
              "      <td>{\"CO2\": 18,23333359, \"CO\": \"24\", \"H2\": \"9,1333...</td>\n",
              "      <td>{\"Al2O3\": \"NA \", \"CaO\": \" NA \", \"Fe\": \" NA \", ...</td>\n",
              "    </tr>\n",
              "    <tr>\n",
              "      <th>1854</th>\n",
              "      <td>30.09.2017</td>\n",
              "      <td>5288,666</td>\n",
              "      <td>407,7516705</td>\n",
              "      <td>269118.9583</td>\n",
              "      <td>4(ат)</td>\n",
              "      <td>1002,953089(С)</td>\n",
              "      <td>29912,03947</td>\n",
              "      <td>4,774703225</td>\n",
              "      <td>27,71687436</td>\n",
              "      <td>NaN</td>\n",
              "      <td>...</td>\n",
              "      <td>0,238979165</td>\n",
              "      <td>1,815579154</td>\n",
              "      <td>0,0311</td>\n",
              "      <td>0,038589583</td>\n",
              "      <td>0,023072917</td>\n",
              "      <td>0,286395838</td>\n",
              "      <td>28,43333308</td>\n",
              "      <td>0,635</td>\n",
              "      <td>{\"CO2\": 19,23333359, \"CO\": \"24,09999975\", \"H2\"...</td>\n",
              "      <td>{\"Al2O3\": \"NA \", \"CaO\": \" NA \", \"Fe\": \" NA \", ...</td>\n",
              "    </tr>\n",
              "  </tbody>\n",
              "</table>\n",
              "<p>1676 rows × 96 columns</p>\n",
              "</div>\n",
              "    <div class=\"colab-df-buttons\">\n",
              "\n",
              "  <div class=\"colab-df-container\">\n",
              "    <button class=\"colab-df-convert\" onclick=\"convertToInteractive('df-4eb5559e-c764-4695-8a8d-191772666d1c')\"\n",
              "            title=\"Convert this dataframe to an interactive table.\"\n",
              "            style=\"display:none;\">\n",
              "\n",
              "  <svg xmlns=\"http://www.w3.org/2000/svg\" height=\"24px\" viewBox=\"0 -960 960 960\">\n",
              "    <path d=\"M120-120v-720h720v720H120Zm60-500h600v-160H180v160Zm220 220h160v-160H400v160Zm0 220h160v-160H400v160ZM180-400h160v-160H180v160Zm440 0h160v-160H620v160ZM180-180h160v-160H180v160Zm440 0h160v-160H620v160Z\"/>\n",
              "  </svg>\n",
              "    </button>\n",
              "\n",
              "  <style>\n",
              "    .colab-df-container {\n",
              "      display:flex;\n",
              "      gap: 12px;\n",
              "    }\n",
              "\n",
              "    .colab-df-convert {\n",
              "      background-color: #E8F0FE;\n",
              "      border: none;\n",
              "      border-radius: 50%;\n",
              "      cursor: pointer;\n",
              "      display: none;\n",
              "      fill: #1967D2;\n",
              "      height: 32px;\n",
              "      padding: 0 0 0 0;\n",
              "      width: 32px;\n",
              "    }\n",
              "\n",
              "    .colab-df-convert:hover {\n",
              "      background-color: #E2EBFA;\n",
              "      box-shadow: 0px 1px 2px rgba(60, 64, 67, 0.3), 0px 1px 3px 1px rgba(60, 64, 67, 0.15);\n",
              "      fill: #174EA6;\n",
              "    }\n",
              "\n",
              "    .colab-df-buttons div {\n",
              "      margin-bottom: 4px;\n",
              "    }\n",
              "\n",
              "    [theme=dark] .colab-df-convert {\n",
              "      background-color: #3B4455;\n",
              "      fill: #D2E3FC;\n",
              "    }\n",
              "\n",
              "    [theme=dark] .colab-df-convert:hover {\n",
              "      background-color: #434B5C;\n",
              "      box-shadow: 0px 1px 3px 1px rgba(0, 0, 0, 0.15);\n",
              "      filter: drop-shadow(0px 1px 2px rgba(0, 0, 0, 0.3));\n",
              "      fill: #FFFFFF;\n",
              "    }\n",
              "  </style>\n",
              "\n",
              "    <script>\n",
              "      const buttonEl =\n",
              "        document.querySelector('#df-4eb5559e-c764-4695-8a8d-191772666d1c button.colab-df-convert');\n",
              "      buttonEl.style.display =\n",
              "        google.colab.kernel.accessAllowed ? 'block' : 'none';\n",
              "\n",
              "      async function convertToInteractive(key) {\n",
              "        const element = document.querySelector('#df-4eb5559e-c764-4695-8a8d-191772666d1c');\n",
              "        const dataTable =\n",
              "          await google.colab.kernel.invokeFunction('convertToInteractive',\n",
              "                                                    [key], {});\n",
              "        if (!dataTable) return;\n",
              "\n",
              "        const docLinkHtml = 'Like what you see? Visit the ' +\n",
              "          '<a target=\"_blank\" href=https://colab.research.google.com/notebooks/data_table.ipynb>data table notebook</a>'\n",
              "          + ' to learn more about interactive tables.';\n",
              "        element.innerHTML = '';\n",
              "        dataTable['output_type'] = 'display_data';\n",
              "        await google.colab.output.renderOutput(dataTable, element);\n",
              "        const docLink = document.createElement('div');\n",
              "        docLink.innerHTML = docLinkHtml;\n",
              "        element.appendChild(docLink);\n",
              "      }\n",
              "    </script>\n",
              "  </div>\n",
              "\n",
              "\n",
              "    <div id=\"df-7928d562-e268-461b-b015-a7c170b85ef9\">\n",
              "      <button class=\"colab-df-quickchart\" onclick=\"quickchart('df-7928d562-e268-461b-b015-a7c170b85ef9')\"\n",
              "                title=\"Suggest charts\"\n",
              "                style=\"display:none;\">\n",
              "\n",
              "<svg xmlns=\"http://www.w3.org/2000/svg\" height=\"24px\"viewBox=\"0 0 24 24\"\n",
              "     width=\"24px\">\n",
              "    <g>\n",
              "        <path d=\"M19 3H5c-1.1 0-2 .9-2 2v14c0 1.1.9 2 2 2h14c1.1 0 2-.9 2-2V5c0-1.1-.9-2-2-2zM9 17H7v-7h2v7zm4 0h-2V7h2v10zm4 0h-2v-4h2v4z\"/>\n",
              "    </g>\n",
              "</svg>\n",
              "      </button>\n",
              "\n",
              "<style>\n",
              "  .colab-df-quickchart {\n",
              "      --bg-color: #E8F0FE;\n",
              "      --fill-color: #1967D2;\n",
              "      --hover-bg-color: #E2EBFA;\n",
              "      --hover-fill-color: #174EA6;\n",
              "      --disabled-fill-color: #AAA;\n",
              "      --disabled-bg-color: #DDD;\n",
              "  }\n",
              "\n",
              "  [theme=dark] .colab-df-quickchart {\n",
              "      --bg-color: #3B4455;\n",
              "      --fill-color: #D2E3FC;\n",
              "      --hover-bg-color: #434B5C;\n",
              "      --hover-fill-color: #FFFFFF;\n",
              "      --disabled-bg-color: #3B4455;\n",
              "      --disabled-fill-color: #666;\n",
              "  }\n",
              "\n",
              "  .colab-df-quickchart {\n",
              "    background-color: var(--bg-color);\n",
              "    border: none;\n",
              "    border-radius: 50%;\n",
              "    cursor: pointer;\n",
              "    display: none;\n",
              "    fill: var(--fill-color);\n",
              "    height: 32px;\n",
              "    padding: 0;\n",
              "    width: 32px;\n",
              "  }\n",
              "\n",
              "  .colab-df-quickchart:hover {\n",
              "    background-color: var(--hover-bg-color);\n",
              "    box-shadow: 0 1px 2px rgba(60, 64, 67, 0.3), 0 1px 3px 1px rgba(60, 64, 67, 0.15);\n",
              "    fill: var(--button-hover-fill-color);\n",
              "  }\n",
              "\n",
              "  .colab-df-quickchart-complete:disabled,\n",
              "  .colab-df-quickchart-complete:disabled:hover {\n",
              "    background-color: var(--disabled-bg-color);\n",
              "    fill: var(--disabled-fill-color);\n",
              "    box-shadow: none;\n",
              "  }\n",
              "\n",
              "  .colab-df-spinner {\n",
              "    border: 2px solid var(--fill-color);\n",
              "    border-color: transparent;\n",
              "    border-bottom-color: var(--fill-color);\n",
              "    animation:\n",
              "      spin 1s steps(1) infinite;\n",
              "  }\n",
              "\n",
              "  @keyframes spin {\n",
              "    0% {\n",
              "      border-color: transparent;\n",
              "      border-bottom-color: var(--fill-color);\n",
              "      border-left-color: var(--fill-color);\n",
              "    }\n",
              "    20% {\n",
              "      border-color: transparent;\n",
              "      border-left-color: var(--fill-color);\n",
              "      border-top-color: var(--fill-color);\n",
              "    }\n",
              "    30% {\n",
              "      border-color: transparent;\n",
              "      border-left-color: var(--fill-color);\n",
              "      border-top-color: var(--fill-color);\n",
              "      border-right-color: var(--fill-color);\n",
              "    }\n",
              "    40% {\n",
              "      border-color: transparent;\n",
              "      border-right-color: var(--fill-color);\n",
              "      border-top-color: var(--fill-color);\n",
              "    }\n",
              "    60% {\n",
              "      border-color: transparent;\n",
              "      border-right-color: var(--fill-color);\n",
              "    }\n",
              "    80% {\n",
              "      border-color: transparent;\n",
              "      border-right-color: var(--fill-color);\n",
              "      border-bottom-color: var(--fill-color);\n",
              "    }\n",
              "    90% {\n",
              "      border-color: transparent;\n",
              "      border-bottom-color: var(--fill-color);\n",
              "    }\n",
              "  }\n",
              "</style>\n",
              "\n",
              "      <script>\n",
              "        async function quickchart(key) {\n",
              "          const quickchartButtonEl =\n",
              "            document.querySelector('#' + key + ' button');\n",
              "          quickchartButtonEl.disabled = true;  // To prevent multiple clicks.\n",
              "          quickchartButtonEl.classList.add('colab-df-spinner');\n",
              "          try {\n",
              "            const charts = await google.colab.kernel.invokeFunction(\n",
              "                'suggestCharts', [key], {});\n",
              "          } catch (error) {\n",
              "            console.error('Error during call to suggestCharts:', error);\n",
              "          }\n",
              "          quickchartButtonEl.classList.remove('colab-df-spinner');\n",
              "          quickchartButtonEl.classList.add('colab-df-quickchart-complete');\n",
              "        }\n",
              "        (() => {\n",
              "          let quickchartButtonEl =\n",
              "            document.querySelector('#df-7928d562-e268-461b-b015-a7c170b85ef9 button');\n",
              "          quickchartButtonEl.style.display =\n",
              "            google.colab.kernel.accessAllowed ? 'block' : 'none';\n",
              "        })();\n",
              "      </script>\n",
              "    </div>\n",
              "    </div>\n",
              "  </div>\n"
            ],
            "application/vnd.google.colaboratory.intrinsic+json": {
              "type": "dataframe",
              "variable_name": "df"
            }
          },
          "metadata": {},
          "execution_count": 5
        }
      ]
    },
    {
      "cell_type": "markdown",
      "source": [
        "# Описание датасета"
      ],
      "metadata": {
        "id": "_JWtz1sylfCY"
      }
    },
    {
      "cell_type": "markdown",
      "source": [
        "---\n",
        "Период исследования: 02.09.2012 - 30.09.2017\n",
        "\n",
        "---\n",
        "\n",
        "96 столбцов | 1676 строк  \n",
        "Индексы с 1 по 1854\n",
        "\n",
        "---\n"
      ],
      "metadata": {
        "id": "RLgAahAWliY0"
      }
    },
    {
      "cell_type": "markdown",
      "source": [
        "Описание столбцов:  \n",
        "1. Дата - пустых значений: 0, формат: object.\n",
        "2. Произведено чугуна - пустых значений: 0, формат: object.\n",
        "3. Удельный расход кокса - пустых значений: 0, формат: object.\n",
        "4. Расход холодного дутья (кубических метров в час) - пустых значений: 0, формат: float64.\n",
        "5. Давление (атмосфер) - пустых значений: 0, формат: int.\n",
        "6. Температура горячего дутья (градусов Цельсия) - пустых значений: 0, формат: object.\n",
        "7. Расход природного газа (кубических метров в час) - пустых значений: 0, формат: object.\n",
        "8. Температура природного газа (градусов Цельсия) - пустых значений: 0, формат: object.\n",
        "9. Содержание кислорода в дутье (процентов) - пустых значений: 177, формат: object.\n",
        "10. Расход пара на увлажнение (тонн в час) - пустых значений: 252, формат: object.\n",
        "11. Перепад давлений общий (атмосфер) - пустых значений: 0, формат: object.\n",
        "12. Температура чугуна на выпуске (лётка 1) (градусов Цельсия) - пустых значений: 298, формат: object.\n",
        "13. Температура чугуна на выпуске (лётка 2) (градусов Цельсия) - пустых значений: 395, формат: object.\n",
        "14. Давление колошникового газа (атмосфер) - пустых значений: 187, формат: object.\n",
        "15. Перепад давлений нижний (атмосфер) - пустых значений: 0, формат: object.\n",
        "16. Перепад давлений верхний (атмосфер) - пустых значений: 0, формат: object.\n",
        "17. Выход колошникового газа (кубических метров в час) - пустых значений: 187, формат: object.\n",
        "18. Положение клапана малый снорт (процентов) - пустых значений: 101, формат: object.\n",
        "19. Температура колошникового газа 1 (градусов Цельсия) - пустых значений: 0, формат: object.\n",
        "20. Температура колошникового газа 2 (градусов Цельсия) - пустых значений: 0, формат: object.\n",
        "21. Температура колошникового газа 3 (градусов Цельсия) - пустых значений: 7, формат: object.\n",
        "22. Температура колошникового газа 4 (градусов Цельсия) - пустых значений: 0, формат: object.\n",
        "23. Температура колошникового газа в пылеуловителе (градусов Цельсия), формат: object.\n",
        "24. Уровень засыпи (запад) (метров) - пустых значений: 81, формат: object.\n",
        "25. Уровень засыпи (восток) (метров) - пустых значений: 0, формат: object.\n",
        "26. Содержание CO в колошниковом газе (процентов) - пустых значений: 156, формат: object.\n",
        "27. Содержание CO2 в колошниковом газе (процентов) - пустых значений: 307, формат: object.\n",
        "28. Содержание H2 в колошниковом газе (процентов) - пустых значений: 115, формат: object.\n",
        "29. Температура периферийных газов 1 (градусов Цельсия) - пустых значений: 220, формат: object.\n",
        "30. Температура периферийных газов 2 (градусов Цельсия) - пустых значений: 178, формат: object.\n",
        "31. Температура периферийных газов 3 (градусов Цельсия) - пустых значений: 226, формат: object.\n",
        "32. Температура периферийных газов 4 (градусов Цельсия) - пустых значений: 225, формат: object.\n",
        "33. Температура периферийных газов 5 (градусов Цельсия) - пустых значений: 211, формат: object.\n",
        "34. Температура периферийных газов 6 (градусов Цельсия) - пустых значений: 244, формат: object.\n",
        "35. Уровень засыпи (север) (метров) - пустых значений: 229, формат: object.\n",
        "36. Уровень засыпи (юг) (метров) - пустых значений: 210, формат: object.\n",
        "37. Содержание N2 в колошниковом газе (процентов) - пустых значений: 54, формат: object.\n",
        "38. Вода на газоочистку.Расход (кубических метров в час) - пустых значений: 1202, формат: int.\n",
        "39. Вода на охлаждение.Водовод 1.Расход (кубических метров в час) - пустых значений: 1202, формат: float64.\n",
        "40. Вода на охлаждение.Водовод 2.Расход (кубических метров в час) - пустых значений: 1202, формат: object.\n",
        "41. Вода на охлаждение.Водовод 3.Расход ( м?/час ) - пустых значений: 1202, формат: object.\n",
        "42. Длительность - пустых значений: 0, формат: object.\n",
        "43. Налив - пустых значений: 456, формат: object.\n",
        "44. Шлак - пустых значений: 456, формат: object.\n",
        "45. Чугун.Cr - пустых значений: 456, формат: object.\n",
        "46. Чугун.Cu - пустых значений: 675, формат: object.\n",
        "47. Чугун.Mn - пустых значений: 456, формат: object.\n",
        "48. Чугун.Ni - пустых значений: 675, формат: object.\n",
        "49. Чугун.P - пустых значений: 456, формат: object.\n",
        "50. Чугун.S - пустых значений: 456, формат: object.\n",
        "51. Чугун.Si - пустых значений: 456, формат: object.\n",
        "52. Чугун.Ti - пустых значений: 456, формат: object.\n",
        "53. Чугун.V - пустых значений: 456, формат: object.\n",
        "54. Чугун.C - пустых значений: 470, формат: object.\n",
        "55. Шлак.Al2O3 - пустых значений: 459, формат: object.\n",
        "56. Шлак.CaO - пустых значений: 459, формат: object.\n",
        "57. Шлак.FeO - пустых значений: 459, формат: object.\n",
        "58. Шлак.Ko - пустых значений: 459, формат: object.\n",
        "59. Шлак.MgO - пустых значений: 459, формат: object.\n",
        "60. Шлак.MnO - пустых значений: 459, формат: object.\n",
        "61. Шлак.NaO - пустых значений: 459, формат: object.\n",
        "62. Шлак.S - пустых значений: 459, формат: object.\n",
        "63. Шлак.SiO2 - пустых значений: 459, формат: object.\n",
        "64. Шлак.TiO2 - пустых значений: 459, формат: object.\n",
        "65. updp - пустых значений: 456, формат: object.\n",
        "66. Бар М10 - пустых значений: 0, формат: object.\n",
        "67. Бар М25 - пустых значений: 0, формат: object.\n",
        "68. Влага - пустых значений: 0, формат: object.\n",
        "69. Зола - пустых значений: 0, формат: object.\n",
        "70. кокс +80 - пустых значений: 0, формат: object.\n",
        "71. кокс -25 - пустых значений: 0, формат: object.\n",
        "72. кокс 40-25 - пустых значений: 0, формат: object.\n",
        "73. кокс 60-40 - пустых значений: 0, формат: object.\n",
        "74. кокс 80-60 - пустых значений: 0, формат: object.\n",
        "75. Летучие - пустых значений: 0, формат: object.\n",
        "76. Сера К - пустых значений: 2, формат: object.\n",
        "77. Углерод - пустых значений: 2, формат: object.\n",
        "78. CRI - пустых значений: 219, формат: object.\n",
        "79. CSR - пустых значений: 219, формат: object.\n",
        "80. Fe - пустых значений: 0, формат: object.\n",
        "81. FeO - пустых значений: 0, формат: object.\n",
        "82. S - пустых значений: 0, формат: object.\n",
        "83. SiO2 - пустых значений: 0, формат: object.\n",
        "84. CaO - пустых значений: 0, формат: object.\n",
        "85. MgO - пустых значений: 0, формат: object.\n",
        "86. Al2O3 - пустых значений: 0, формат: object.\n",
        "87. TiO2 - пустых значений: 0, формат: object.\n",
        "88. Osn - пустых значений: 0, формат: object.\n",
        "89. P - пустых значений: 0, формат: object.\n",
        "90. Zn - пустых значений: 0, формат: object.\n",
        "91. Cr - пустых значений: 0, формат: object.\n",
        "92. MnO - пустых значений: 0, формат: object.\n",
        "93. O2 Горячее дутьё - пустых значений: 86, формат: object.\n",
        "94. Доля агломерата - пустых значений: 0, формат: object.\n",
        "95. Колошниковый газ - пустых значений: 0, формат: object.\n",
        "96. Колошниковая пыль - пустых значений: 0, формат: object.\n",
        "\n",
        "---"
      ],
      "metadata": {
        "id": "uwvSv5DZoIqc"
      }
    },
    {
      "cell_type": "code",
      "source": [
        "df.info()"
      ],
      "metadata": {
        "colab": {
          "base_uri": "https://localhost:8080/"
        },
        "id": "UtVeNltumQKF",
        "outputId": "4b60653d-7bb4-47b4-9075-98cfb50ef0f5"
      },
      "execution_count": 6,
      "outputs": [
        {
          "output_type": "stream",
          "name": "stdout",
          "text": [
            "<class 'pandas.core.frame.DataFrame'>\n",
            "Index: 1676 entries, 1 to 1854\n",
            "Data columns (total 96 columns):\n",
            " #   Column                                                 Non-Null Count  Dtype  \n",
            "---  ------                                                 --------------  -----  \n",
            " 0   Time                                                   1676 non-null   object \n",
            " 1   Iron_count                                             1676 non-null   object \n",
            " 2   URK                                                    1676 non-null   object \n",
            " 3   Расход холодного дутья ( м?/час )                      1676 non-null   float64\n",
            " 4   Давление горячего дутья ( ат )                         1676 non-null   object \n",
            " 5   Температура горячего дутья ( С )                       1676 non-null   object \n",
            " 6   Расход природного газа ( м?/час )                      1676 non-null   object \n",
            " 7   Температура природного газа ( ?С )                     1676 non-null   object \n",
            " 8   Содержание кислорода в дутье ( % )                     1499 non-null   object \n",
            " 9   Расход пара на увлажнение ( т/час )                    1424 non-null   object \n",
            " 10  Перепад давлений общий ( ат )                          1676 non-null   object \n",
            " 11  Температура чугуна на выпуске (лётка 1) ( ?С )         1378 non-null   object \n",
            " 12  Температура чугуна на выпуске (лётка 2) ( ?С )         1281 non-null   object \n",
            " 13  Давление колошникового газа ( ат )                     1489 non-null   object \n",
            " 14  Перепад давлений нижний ( ат )                         1676 non-null   object \n",
            " 15  Перепад давлений верхний ( ат )                        1676 non-null   object \n",
            " 16  Выход колошникового газа ( м?/час )                    1489 non-null   object \n",
            " 17  Положение клапана малый снорт ( % )                    1575 non-null   object \n",
            " 18  Температура колошникового газа 1 ( ?С )                1676 non-null   object \n",
            " 19  Температура колошникового газа 2 ( ?С )                1676 non-null   object \n",
            " 20  Температура колошникового газа 3 ( ?С )                1669 non-null   object \n",
            " 21  Температура колошникового газа 4 ( ?С )                1676 non-null   object \n",
            " 22  Температура колошникового газа в пылеуловителе ( ?С )  1676 non-null   object \n",
            " 23  Уровень засыпи (запад) ( м )                           1595 non-null   object \n",
            " 24  Уровень засыпи (восток) ( м )                          1676 non-null   object \n",
            " 25  Содержание CO в колошниковом газе ( % )                1520 non-null   object \n",
            " 26  Содержание CO2 в колошниковом газе ( % )               1369 non-null   object \n",
            " 27  Содержание H2 в колошниковом газе ( % )                1561 non-null   object \n",
            " 28  Температура периферийных газов 1 ( ?С )                1456 non-null   object \n",
            " 29  Температура периферийных газов 2 ( ?С )                1498 non-null   object \n",
            " 30  Температура периферийных газов 3 ( ?С )                1450 non-null   object \n",
            " 31  Температура периферийных газов 4 ( ?С )                1451 non-null   object \n",
            " 32  Температура периферийных газов 5 ( ?С )                1465 non-null   object \n",
            " 33  Температура периферийных газов 6 ( ?С )                1432 non-null   object \n",
            " 34  Уровень засыпи (север) ( м )                           1447 non-null   object \n",
            " 35  Уровень засыпи (юг) ( м )                              1466 non-null   object \n",
            " 36  Содержание N2 в колошниковом газе ( % )                1622 non-null   object \n",
            " 37  Вода на газоочистку.Расход ( м?/час )                  474 non-null    float64\n",
            " 38  Вода на охлаждение.Водовод 1.Расход ( м?/час )         474 non-null    object \n",
            " 39  Вода на охлаждение.Водовод 2.Расход ( м?/час )         474 non-null    object \n",
            " 40  Вода на охлаждение.Водовод 3.Расход ( м?/час )         474 non-null    object \n",
            " 41  dlitelnost                                             1676 non-null   object \n",
            " 42  Naliv                                                  1220 non-null   object \n",
            " 43  Shlak                                                  1220 non-null   object \n",
            " 44  Чугун.Cr                                               1220 non-null   object \n",
            " 45  Чугун.Cu                                               1001 non-null   object \n",
            " 46  Чугун.Mn                                               1220 non-null   object \n",
            " 47  Чугун.Ni                                               1001 non-null   object \n",
            " 48  Чугун.P                                                1220 non-null   object \n",
            " 49  Чугун.S                                                1220 non-null   object \n",
            " 50  Чугун.Si                                               1220 non-null   object \n",
            " 51  Чугун.Ti                                               1220 non-null   object \n",
            " 52  Чугун.V                                                1220 non-null   object \n",
            " 53  Чугун.C                                                1206 non-null   object \n",
            " 54  Шлак.Al2O3                                             1217 non-null   object \n",
            " 55  Шлак.CaO                                               1217 non-null   object \n",
            " 56  Шлак.FeO                                               1217 non-null   object \n",
            " 57  Шлак.Ko                                                1217 non-null   object \n",
            " 58  Шлак.MgO                                               1217 non-null   object \n",
            " 59  Шлак.MnO                                               1217 non-null   object \n",
            " 60  Шлак.NaO                                               1217 non-null   object \n",
            " 61  Шлак.S                                                 1217 non-null   object \n",
            " 62  Шлак.SiO2                                              1217 non-null   object \n",
            " 63  Шлак.TiO2                                              1217 non-null   object \n",
            " 64  updp                                                   1220 non-null   object \n",
            " 65  Бар М10                                                1676 non-null   object \n",
            " 66  Бар М25                                                1676 non-null   object \n",
            " 67  Влага                                                  1676 non-null   object \n",
            " 68  Зола                                                   1676 non-null   object \n",
            " 69  кокс +80                                               1676 non-null   object \n",
            " 70  кокс -25                                               1676 non-null   object \n",
            " 71  кокс 40-25                                             1676 non-null   object \n",
            " 72  кокс 60-40                                             1676 non-null   object \n",
            " 73  кокс 80-60                                             1676 non-null   object \n",
            " 74  Летучие                                                1676 non-null   object \n",
            " 75  Сера К                                                 1674 non-null   object \n",
            " 76  Углерод                                                1674 non-null   object \n",
            " 77  CRI                                                    1457 non-null   object \n",
            " 78  CSR                                                    1457 non-null   object \n",
            " 79  Fe                                                     1676 non-null   object \n",
            " 80  FeO                                                    1676 non-null   object \n",
            " 81  S                                                      1676 non-null   object \n",
            " 82  SiO2                                                   1676 non-null   object \n",
            " 83  CaO                                                    1676 non-null   object \n",
            " 84  MgO                                                    1676 non-null   object \n",
            " 85  Al2O3                                                  1676 non-null   object \n",
            " 86  TiO2                                                   1676 non-null   object \n",
            " 87  Osn                                                    1676 non-null   object \n",
            " 88  P                                                      1676 non-null   object \n",
            " 89  Zn                                                     1676 non-null   object \n",
            " 90  Cr                                                     1676 non-null   object \n",
            " 91  MnO                                                    1676 non-null   object \n",
            " 92  O2 Горячее дутьё                                       1590 non-null   object \n",
            " 93  Доля.агломерата                                        1676 non-null   object \n",
            " 94  Колошниковый газ                                       1676 non-null   object \n",
            " 95  Колошниковая пыль                                      1676 non-null   object \n",
            "dtypes: float64(2), object(94)\n",
            "memory usage: 1.2+ MB\n"
          ]
        }
      ]
    },
    {
      "cell_type": "markdown",
      "source": [
        "# Предобработка"
      ],
      "metadata": {
        "id": "jr6hmyDKv1zG"
      }
    },
    {
      "cell_type": "code",
      "source": [
        "df = df.reset_index(drop=True) # Сбрасываем индекс т.к. их больше чем количество строк (из-за пропуска в датах)"
      ],
      "metadata": {
        "id": "Q8QcXNQXy9oY"
      },
      "execution_count": 7,
      "outputs": []
    },
    {
      "cell_type": "markdown",
      "source": [
        "## Обрабатываем столбцы"
      ],
      "metadata": {
        "id": "L8QeUGU3wML-"
      }
    },
    {
      "cell_type": "markdown",
      "source": [
        "### Меняем названия"
      ],
      "metadata": {
        "id": "i7nTPn0MwYsI"
      }
    },
    {
      "cell_type": "code",
      "source": [
        "df = df.rename(columns={\n",
        "    'Time': 'Дата',\n",
        "    'Iron_count': 'Количество чугуна (т)',\n",
        "    'URK': 'Удельный расход кокса (кг/т)',\n",
        "    'Расход холодного дутья ( м?/час )': 'Расход холодного дутья (м³/ч)',\n",
        "    'Давление горячего дутья ( ат )': 'Давление горячего дутья (ат)',\n",
        "    'Температура горячего дутья ( С )': 't горячего дутья (°С)',\n",
        "    'Расход природного газа ( м?/час )': 'Расход природного газа (м³/ч)',\n",
        "    'Температура природного газа ( ?С )': 't природного газа (°С)',\n",
        "    'Содержание кислорода в дутье ( % )': 'Содержание кислорода в дутье (%)',\n",
        "    'Расход пара на увлажнение ( т/час )': 'Расход пара на увлажнение (т/ч)',\n",
        "    'Перепад давлений общий ( ат )': 'Перепад давлений общий (ат)',\n",
        "    'Температура чугуна на выпуске (лётка 1) ( ?С )': 't чугуна на выпуске (лётка 1) (°С)',\n",
        "    'Температура чугуна на выпуске (лётка 2) ( ?С )': 't чугуна на выпуске (лётка 2) (°С)',\n",
        "    'Давление колошникового газа ( ат )': 'Давление колошникового газа (ат)',\n",
        "    'Перепад давлений нижний ( ат )': 'Перепад давлений нижний (ат)',\n",
        "    'Перепад давлений верхний ( ат )': 'Перепад давлений верхний (ат)',\n",
        "    'Выход колошникового газа ( м?/час )': 'Выход колошникового газа (м³/ч)',\n",
        "    'Положение клапана малый снорт ( % )': 'Положение клапана малый снорт (%)',\n",
        "    'Температура колошникового газа 1 ( ?С )': 't колошникового газа 1 (°С)',\n",
        "    'Температура колошникового газа 2 ( ?С )': 't колошникового газа 2 (°С)',\n",
        "    'Температура колошникового газа 3 ( ?С )': 't колошникового газа 3 (°С)',\n",
        "    'Температура колошникового газа 4 ( ?С )': 't колошникового газа 4 (°С)',\n",
        "    'Температура колошникового газа в пылеуловителе ( ?С )': 't колошникового газа в пылеуловителе (°С)',\n",
        "    'Уровень засыпи (запад) ( м )': 'Уровень засыпи (запад) (м)',\n",
        "    'Уровень засыпи (восток) ( м )': 'Уровень засыпи (восток) (м)',\n",
        "    'Содержание CO в колошниковом газе ( % )': 'CO в колошниковом газе (%)',\n",
        "    'Содержание CO2 в колошниковом газе ( % )': 'CO₂ в колошниковом газе (%)',\n",
        "    'Содержание H2 в колошниковом газе ( % )': 'H₂ в колошниковом газе (%)',\n",
        "    'Температура периферийных газов 1 ( ?С )': 't периферийных газов 1 (°С)',\n",
        "    'Температура периферийных газов 2 ( ?С )': 't периферийных газов 2 (°С)',\n",
        "    'Температура периферийных газов 3 ( ?С )': 't периферийных газов 3 (°С)',\n",
        "    'Температура периферийных газов 4 ( ?С )': 't периферийных газов 4 (°С)',\n",
        "    'Температура периферийных газов 5 ( ?С )': 't периферийных газов 5 (°С)',\n",
        "    'Температура периферийных газов 6 ( ?С )': 't периферийных газов 6 (°С)',\n",
        "    'Уровень засыпи (север) ( м )': 'Уровень засыпи (север) (м)',\n",
        "    'Уровень засыпи (юг) ( м )': 'Уровень засыпи (юг) (м)',\n",
        "    'Содержание N2 в колошниковом газе ( % )': 'N₂ в колошниковом газе (%)',\n",
        "    'Вода на газоочистку.Расход ( м?/час )': 'Вода на газоочистку. Расход (м³/ч)',\n",
        "    'Вода на охлаждение.Водовод 1.Расход ( м?/час )': 'Вода на охлаждение. Водовод 1. Расход (м³/ч)',\n",
        "    'Вода на охлаждение.Водовод 2.Расход ( м?/час )': 'Вода на охлаждение. Водовод 2. Расход (м³/ч)',\n",
        "    'Вода на охлаждение.Водовод 3.Расход ( м?/час )': 'Вода на охлаждение. Водовод 3. Расход (м³/ч)',\n",
        "    'dlitelnost': 'Длительность простоя (сут)',\n",
        "    'Shlak': 'Шлак',\n",
        "    'Шлак.Al2O3': 'Шлак.Al₂O₃',\n",
        "    'Шлак.SiO2': 'Шлак.SiO₂',\n",
        "    'Шлак.TiO2': 'Шлак.TiO₂',\n",
        "    'updp': 'УПДП',\n",
        "    'кокс +80': 'Кокс +80 мм',\n",
        "    'кокс -25': 'Кокс -25 мм',\n",
        "    'кокс 40-25': 'Кокс 40-25 мм',\n",
        "    'кокс 60-40': 'Кокс 60-40 мм',\n",
        "    'кокс 80-60': 'Кокс 80-60 мм',\n",
        "    'SiO2': 'SiO₂',\n",
        "    'Al2O3': 'Al₂O₃',\n",
        "    'TiO2': 'TiO₂',\n",
        "    'O2 Горячее дутьё': 'O₂ в горячем дутье',\n",
        "    'Доля.агломерата': 'Доля агломерата',\n",
        "})"
      ],
      "metadata": {
        "id": "6RlfjbBwDgoO"
      },
      "execution_count": 8,
      "outputs": []
    },
    {
      "cell_type": "markdown",
      "source": [
        "### Меняем тип данных"
      ],
      "metadata": {
        "id": "sXK7F3n95C1Y"
      }
    },
    {
      "cell_type": "code",
      "source": [
        "df['Дата'] = pd.to_datetime(df['Дата'], format='%d.%m.%Y')\n",
        "df['Давление горячего дутья (ат)'] = df['Давление горячего дутья (ат)'].str.replace('\\(ат\\)', '', regex=True).astype(int)\n",
        "df['t горячего дутья (°С)'] = df['t горячего дутья (°С)'].str.replace(r'[^\\d,]', '', regex=True).str.replace(',', '.').astype(float)"
      ],
      "metadata": {
        "id": "NtFLomdSw8KF"
      },
      "execution_count": 9,
      "outputs": []
    },
    {
      "cell_type": "code",
      "source": [
        "float_cols = [col for col in df.columns if col not in ['Дата', 'Давление горячего дутья (ат)', 'Колошниковый газ', 'Колошниковая пыль']]\n",
        "df[float_cols] = df[float_cols].replace(',', '.', regex=True).astype(float)"
      ],
      "metadata": {
        "id": "Cgs0-e4cEYtH"
      },
      "execution_count": 10,
      "outputs": []
    },
    {
      "cell_type": "code",
      "source": [
        "import json\n",
        "import numpy as np\n",
        "import re"
      ],
      "metadata": {
        "id": "kOQ5e5iOWnVa"
      },
      "execution_count": 11,
      "outputs": []
    },
    {
      "cell_type": "code",
      "source": [
        "def parse_gas(row):\n",
        "    try:\n",
        "        cleaned_row = row\n",
        "        for key in ['CO2', 'CO', 'H2']:\n",
        "            cleaned_row = cleaned_row.replace(f'\"{key}\": ', f'\"{key}\":')\n",
        "            cleaned_row = re.sub(r'(\\d+),(\\d+)', r'\\1.\\2', cleaned_row)\n",
        "\n",
        "        gas_dict = json.loads(cleaned_row)\n",
        "\n",
        "        return pd.Series({\n",
        "            'CO2': float(gas_dict['CO2']) if gas_dict['CO2'] is not None else np.nan,\n",
        "            'CO': float(gas_dict['CO']) if gas_dict['CO'] is not None else np.nan,\n",
        "            'H2': float(gas_dict['H2']) if gas_dict['H2'] is not None else np.nan\n",
        "        })\n",
        "    except Exception as e:\n",
        "        return pd.Series({'CO2': np.nan, 'CO': np.nan, 'H2': np.nan})"
      ],
      "metadata": {
        "id": "2lTUh_Hp7Xp_"
      },
      "execution_count": 12,
      "outputs": []
    },
    {
      "cell_type": "code",
      "source": [
        "df[['Колошниковый газ (CO₂)', 'Колошниковый газ (CO)', 'Колошниковый газ (H₂)']] = df['Колошниковый газ'].apply(parse_gas)"
      ],
      "metadata": {
        "id": "gSVUfLX47Y5M"
      },
      "execution_count": 13,
      "outputs": []
    },
    {
      "cell_type": "code",
      "source": [
        "df = df.drop('Колошниковый газ', axis=1)"
      ],
      "metadata": {
        "id": "qedIg3AJccH3"
      },
      "execution_count": 14,
      "outputs": []
    },
    {
      "cell_type": "markdown",
      "source": [
        "### Выявляем что требуется удалить/заменить"
      ],
      "metadata": {
        "id": "XO0r9fRwABGh"
      }
    },
    {
      "cell_type": "markdown",
      "source": [
        "#### Статистический анализ"
      ],
      "metadata": {
        "id": "9IE3fZh3Rmwp"
      }
    },
    {
      "cell_type": "code",
      "source": [
        "df['Дата'].duplicated().sum()"
      ],
      "metadata": {
        "id": "ORs3f0gHb_PB",
        "outputId": "b8145bf5-fcf9-4f0f-da65-078378e9c259",
        "colab": {
          "base_uri": "https://localhost:8080/"
        }
      },
      "execution_count": 15,
      "outputs": [
        {
          "output_type": "execute_result",
          "data": {
            "text/plain": [
              "np.int64(0)"
            ]
          },
          "metadata": {},
          "execution_count": 15
        }
      ]
    },
    {
      "cell_type": "code",
      "source": [
        "df.drop(columns=['Дата']).duplicated().sum()"
      ],
      "metadata": {
        "id": "ARgK4DuBBxm_",
        "outputId": "50a70263-aa6c-411b-ff84-d76ac196a8a5",
        "colab": {
          "base_uri": "https://localhost:8080/"
        }
      },
      "execution_count": 16,
      "outputs": [
        {
          "output_type": "execute_result",
          "data": {
            "text/plain": [
              "np.int64(0)"
            ]
          },
          "metadata": {},
          "execution_count": 16
        }
      ]
    },
    {
      "cell_type": "code",
      "source": [
        "stats_list = []\n",
        "low_fill_columns = []\n",
        "anomalies_df = pd.DataFrame()"
      ],
      "metadata": {
        "id": "33qtrwSROhlT"
      },
      "execution_count": 17,
      "outputs": []
    },
    {
      "cell_type": "code",
      "source": [
        "for column in df.select_dtypes(include=['number']).columns:\n",
        "    non_null = df[column].count()\n",
        "    null_count = df[column].isnull().sum()\n",
        "    total_rows = len(df)\n",
        "    fill_percent = (non_null / total_rows) * 100\n",
        "\n",
        "    if fill_percent <= 70:\n",
        "        low_fill_columns.append({\n",
        "            'Столбец': column,\n",
        "            'Заполнено (%)': round(fill_percent, 2),\n",
        "            'Пустых значений': total_rows - non_null\n",
        "        })\n",
        "\n",
        "    col_data = df[column].dropna()\n",
        "    mean = col_data.mean()\n",
        "    std = col_data.std()\n",
        "\n",
        "    lower_bound = mean - 3*std\n",
        "    upper_bound = mean + 3*std\n",
        "    anomalies = col_data[(col_data < lower_bound) | (col_data > upper_bound)]\n",
        "    anomalies_df = pd.concat([anomalies_df, anomalies])\n",
        "\n",
        "    stats = {\n",
        "        'Столбец': column,\n",
        "        'Минимум': col_data.min(),\n",
        "        'Максимум': col_data.max(),\n",
        "        'Среднее': mean,\n",
        "        'Медиана': col_data.median(),\n",
        "        'Станд. отклонение': std,\n",
        "        'Кол-во уникальных': col_data.nunique(),\n",
        "        'Заполнено (%)': round(fill_percent, 2),\n",
        "        'Кол-во аномалий (3σ)': len(anomalies),\n",
        "        'Пример аномалий': sorted(list(set(anomalies.head(10)))) if not anomalies.empty else \"Нет\",\n",
        "        'Границы нормальных значений': f\"[{lower_bound:.2f} ... {upper_bound:.2f}]\"\n",
        "    }\n",
        "    stats_list.append(stats)"
      ],
      "metadata": {
        "id": "gLBxNM9VO-Ur"
      },
      "execution_count": 18,
      "outputs": []
    },
    {
      "cell_type": "code",
      "source": [
        "stats_df = pd.DataFrame(stats_list)\n",
        "low_fill_df = pd.DataFrame(low_fill_columns)\n",
        "anomalies_df = anomalies_df.sort_index()\n",
        "anomalies_df = anomalies_df.groupby(anomalies_df.index).first()"
      ],
      "metadata": {
        "id": "OfJQXQ7FPjiw"
      },
      "execution_count": 19,
      "outputs": []
    },
    {
      "cell_type": "markdown",
      "source": [
        "Выявляем аномальные значения используя правило 3-х сигм\n",
        "\n",
        "Суть правила: для нормально распределённых данных примерно 99,73% наблюдений попадают в интервал ±3σ от среднего. Это означает, что вероятность того, что случайная величина отклонится от математического ожидания более чем на 3σ, составляет менее 0,3% или примерно 1 случай из 370."
      ],
      "metadata": {
        "id": "HL_QBRJaU63c"
      }
    },
    {
      "cell_type": "code",
      "source": [
        "# stats_df"
      ],
      "metadata": {
        "id": "xZmnENH_OmKM"
      },
      "execution_count": 20,
      "outputs": []
    },
    {
      "cell_type": "code",
      "source": [
        "# low_fill_df"
      ],
      "metadata": {
        "id": "PIDcp33paxo_"
      },
      "execution_count": 21,
      "outputs": []
    },
    {
      "cell_type": "code",
      "source": [
        "# anomalies_df"
      ],
      "metadata": {
        "id": "3E0vWCaUlZuC"
      },
      "execution_count": 22,
      "outputs": []
    },
    {
      "cell_type": "code",
      "source": [
        "import matplotlib.pyplot as plt"
      ],
      "metadata": {
        "id": "RzmjHa_um88U"
      },
      "execution_count": 23,
      "outputs": []
    },
    {
      "cell_type": "code",
      "source": [
        "anomalies_per_row = anomalies_df.notna().sum(axis=1)\n",
        "anomalies_per_row.plot(kind='hist', bins=30)\n",
        "plt.title(\"Распределение количества аномалий в строках\")\n",
        "plt.xlabel(\"Количество аномалий в строке\")\n",
        "plt.ylabel(\"Число строк\")\n",
        "plt.grid(alpha=0.7)\n",
        "plt.show()"
      ],
      "metadata": {
        "id": "1Pz-DCBYnHWx",
        "outputId": "a9c0207d-e35d-46a3-a751-c9e1db03054e",
        "colab": {
          "base_uri": "https://localhost:8080/",
          "height": 472
        }
      },
      "execution_count": 24,
      "outputs": [
        {
          "output_type": "display_data",
          "data": {
            "text/plain": [
              "<Figure size 640x480 with 1 Axes>"
            ],
            "image/png": "[encoded data removed]"
          },
          "metadata": {}
        }
      ]
    },
    {
      "cell_type": "code",
      "source": [
        "print(f\"Строк с >= 5 аномалиями: {(anomalies_df.notna().sum(axis=1) >= 5).sum()}\")\n",
        "print(f\"Строк с <= 5 аномалиями: {(anomalies_df.notna().sum(axis=1) <= 5).sum()}\")"
      ],
      "metadata": {
        "id": "bvANAv-hogq_",
        "outputId": "58f4249d-1e5d-47ea-a22e-4c1dde81df27",
        "colab": {
          "base_uri": "https://localhost:8080/"
        }
      },
      "execution_count": 25,
      "outputs": [
        {
          "output_type": "stream",
          "name": "stdout",
          "text": [
            "Строк с >= 5 аномалиями: 123\n",
            "Строк с <= 5 аномалиями: 531\n"
          ]
        }
      ]
    },
    {
      "cell_type": "markdown",
      "source": [
        "Анализируем последний необработанный столбец"
      ],
      "metadata": {
        "id": "5_sM-qM1d2hw"
      }
    },
    {
      "cell_type": "code",
      "source": [
        "df['Колошниковая пыль'].value_counts().head(5)"
      ],
      "metadata": {
        "id": "WSlrgaojc7KU",
        "outputId": "ba5c265d-0b51-4cc3-8e49-631bea330821",
        "colab": {
          "base_uri": "https://localhost:8080/",
          "height": 341
        }
      },
      "execution_count": 26,
      "outputs": [
        {
          "output_type": "execute_result",
          "data": {
            "text/plain": [
              "Колошниковая пыль\n",
              "{\"Al2O3\": \"NA \", \"CaO\": \" NA \", \"Fe\": \" NA \", \"FeO\": \" NA \", \"MgO\": \" NA \", \"S\": \" NA \", \"SiO2\": \" NA \", \"TiO2\": \" NA \"}                                                                            1538\n",
              "{\"Al2O3\": \"2,339999914 \", \"CaO\": \" 4,590000153 \", \"Fe\": \" 40,90000153 \", \"FeO\": \" 10,89999962 \", \"MgO\": \" 1,529999971 \", \"S\": \" 0,289999992 \", \"SiO2\": \" 7,489999771 \", \"TiO2\": \" 0,219999999 \"}       2\n",
              "{\"Al2O3\": \"2,170000076 \", \"CaO\": \" 5,489999771 \", \"Fe\": \" 44,20000076 \", \"FeO\": \" 10,48999977 \", \"MgO\": \" 1,49000001 \", \"S\": \" 0,379999995 \", \"SiO2\": \" 7,380000114 \", \"TiO2\": \" 0,219999999 \"}        1\n",
              "{\"Al2O3\": \"2,170000076 \", \"CaO\": \" 5,840000153 \", \"Fe\": \" 44,90000153 \", \"FeO\": \" 10,48999977 \", \"MgO\": \" 1,49000001 \", \"S\": \" 0,400000006 \", \"SiO2\": \" 7,210000038 \", \"TiO2\": \" 0,219999999 \"}        1\n",
              "{\"Al2O3\": \"2,170000076 \", \"CaO\": \" 5,840000153 \", \"Fe\": \" 44,79999924 \", \"FeO\": \" 10,48999977 \", \"MgO\": \" 1,49000001 \", \"S\": \" 0,379999995 \", \"SiO2\": \" 7,380000114 \", \"TiO2\": \" 0,219999999 \"}        1\n",
              "Name: count, dtype: int64"
            ],
            "text/html": [
              "<div>\n",
              "<style scoped>\n",
              "    .dataframe tbody tr th:only-of-type {\n",
              "        vertical-align: middle;\n",
              "    }\n",
              "\n",
              "    .dataframe tbody tr th {\n",
              "        vertical-align: top;\n",
              "    }\n",
              "\n",
              "    .dataframe thead th {\n",
              "        text-align: right;\n",
              "    }\n",
              "</style>\n",
              "<table border=\"1\" class=\"dataframe\">\n",
              "  <thead>\n",
              "    <tr style=\"text-align: right;\">\n",
              "      <th></th>\n",
              "      <th>count</th>\n",
              "    </tr>\n",
              "    <tr>\n",
              "      <th>Колошниковая пыль</th>\n",
              "      <th></th>\n",
              "    </tr>\n",
              "  </thead>\n",
              "  <tbody>\n",
              "    <tr>\n",
              "      <th>{\"Al2O3\": \"NA \", \"CaO\": \" NA \", \"Fe\": \" NA \", \"FeO\": \" NA \", \"MgO\": \" NA \", \"S\": \" NA \", \"SiO2\": \" NA \", \"TiO2\": \" NA \"}</th>\n",
              "      <td>1538</td>\n",
              "    </tr>\n",
              "    <tr>\n",
              "      <th>{\"Al2O3\": \"2,339999914 \", \"CaO\": \" 4,590000153 \", \"Fe\": \" 40,90000153 \", \"FeO\": \" 10,89999962 \", \"MgO\": \" 1,529999971 \", \"S\": \" 0,289999992 \", \"SiO2\": \" 7,489999771 \", \"TiO2\": \" 0,219999999 \"}</th>\n",
              "      <td>2</td>\n",
              "    </tr>\n",
              "    <tr>\n",
              "      <th>{\"Al2O3\": \"2,170000076 \", \"CaO\": \" 5,489999771 \", \"Fe\": \" 44,20000076 \", \"FeO\": \" 10,48999977 \", \"MgO\": \" 1,49000001 \", \"S\": \" 0,379999995 \", \"SiO2\": \" 7,380000114 \", \"TiO2\": \" 0,219999999 \"}</th>\n",
              "      <td>1</td>\n",
              "    </tr>\n",
              "    <tr>\n",
              "      <th>{\"Al2O3\": \"2,170000076 \", \"CaO\": \" 5,840000153 \", \"Fe\": \" 44,90000153 \", \"FeO\": \" 10,48999977 \", \"MgO\": \" 1,49000001 \", \"S\": \" 0,400000006 \", \"SiO2\": \" 7,210000038 \", \"TiO2\": \" 0,219999999 \"}</th>\n",
              "      <td>1</td>\n",
              "    </tr>\n",
              "    <tr>\n",
              "      <th>{\"Al2O3\": \"2,170000076 \", \"CaO\": \" 5,840000153 \", \"Fe\": \" 44,79999924 \", \"FeO\": \" 10,48999977 \", \"MgO\": \" 1,49000001 \", \"S\": \" 0,379999995 \", \"SiO2\": \" 7,380000114 \", \"TiO2\": \" 0,219999999 \"}</th>\n",
              "      <td>1</td>\n",
              "    </tr>\n",
              "  </tbody>\n",
              "</table>\n",
              "</div><br><label><b>dtype:</b> int64</label>"
            ]
          },
          "metadata": {},
          "execution_count": 26
        }
      ]
    },
    {
      "cell_type": "markdown",
      "source": [
        "#### Логический анализ\n",
        "\n"
      ],
      "metadata": {
        "id": "WRqcIyhir7Wx"
      }
    },
    {
      "cell_type": "code",
      "source": [
        "# df.info()"
      ],
      "metadata": {
        "id": "3q1zaHgosIar"
      },
      "execution_count": 27,
      "outputs": []
    },
    {
      "cell_type": "markdown",
      "source": [
        "Простой снижает дневные показатели, из-за чего данные искажаются."
      ],
      "metadata": {
        "id": "NZBFS4lQ1dj2"
      }
    },
    {
      "cell_type": "code",
      "source": [
        "count_positive = (df['Длительность простоя (сут)'] > 0).sum()\n",
        "print(f\"Количество значений больше 0: {count_positive}\")"
      ],
      "metadata": {
        "id": "qcU81HsotunM",
        "outputId": "cf659249-dac7-4afc-c047-a8625eb508e7",
        "colab": {
          "base_uri": "https://localhost:8080/"
        }
      },
      "execution_count": 28,
      "outputs": [
        {
          "output_type": "stream",
          "name": "stdout",
          "text": [
            "Количество значений больше 0: 189\n"
          ]
        }
      ]
    },
    {
      "cell_type": "markdown",
      "source": [
        "упдп - удельная производительность доменной печи. Получена из целевых переменных."
      ],
      "metadata": {
        "id": "wKCtzOWf2SgX"
      }
    },
    {
      "cell_type": "code",
      "source": [
        "df[['УПДП', 'Количество чугуна (т)', 'Удельный расход кокса (кг/т)']].corr().loc['УПДП', ['Количество чугуна (т)', 'Удельный расход кокса (кг/т)']]"
      ],
      "metadata": {
        "id": "Emork8O28VM3",
        "outputId": "2f9d9913-9a5a-496b-c2be-e6450518ead3",
        "colab": {
          "base_uri": "https://localhost:8080/",
          "height": 147
        }
      },
      "execution_count": 29,
      "outputs": [
        {
          "output_type": "execute_result",
          "data": {
            "text/plain": [
              "Количество чугуна (т)           0.964848\n",
              "Удельный расход кокса (кг/т)   -0.817338\n",
              "Name: УПДП, dtype: float64"
            ],
            "text/html": [
              "<div>\n",
              "<style scoped>\n",
              "    .dataframe tbody tr th:only-of-type {\n",
              "        vertical-align: middle;\n",
              "    }\n",
              "\n",
              "    .dataframe tbody tr th {\n",
              "        vertical-align: top;\n",
              "    }\n",
              "\n",
              "    .dataframe thead th {\n",
              "        text-align: right;\n",
              "    }\n",
              "</style>\n",
              "<table border=\"1\" class=\"dataframe\">\n",
              "  <thead>\n",
              "    <tr style=\"text-align: right;\">\n",
              "      <th></th>\n",
              "      <th>УПДП</th>\n",
              "    </tr>\n",
              "  </thead>\n",
              "  <tbody>\n",
              "    <tr>\n",
              "      <th>Количество чугуна (т)</th>\n",
              "      <td>0.964848</td>\n",
              "    </tr>\n",
              "    <tr>\n",
              "      <th>Удельный расход кокса (кг/т)</th>\n",
              "      <td>-0.817338</td>\n",
              "    </tr>\n",
              "  </tbody>\n",
              "</table>\n",
              "</div><br><label><b>dtype:</b> float64</label>"
            ]
          },
          "metadata": {},
          "execution_count": 29
        }
      ]
    },
    {
      "cell_type": "markdown",
      "source": [
        "---\n",
        "\n",
        "#### Выводы\n",
        "\n",
        "---\n",
        "\n",
        "По столбцам:\n",
        "\n",
        "* Столбцы, признанные нерелевантными для решения поставленной задачи согласно экспертной оценке **Удаляем**:\n",
        "  * «Naliv» *(Подсказка)*\n",
        "  * «Дата»\n",
        "  * «УПДП»\n",
        "  * «Длительность простоя (сут)» *(После обработки строк)*  \n",
        "* «Давление горячего дутья (ат)» - сильный дисбаланс классов (Процент класса «4» = 88,37%). **Удаляем**\n",
        "\n",
        "* Столбцы с заполненостью менее 70% **Удаляем**:\n",
        "  * «Колошниковая пыль» - 0,08%  \n",
        "  * «Вода на газоочистку. Расход (м³/ч)» - 28,28% + *всего 2 уникальный значения «0» и «99999» (что является аномалией)*\n",
        "  * «Вода на охлаждение. Водовод 1. Расход (м³/ч)» - 28,28%\n",
        "  * «Вода на охлаждение. Водовод 2. Расход (м³/ч)» - 28,28%\n",
        "  * «Вода на охлаждение. Водовод 3. Расход (м³/ч)» - 28,28%\n",
        "  * «Чугун.Cu» - 59,73%\n",
        "  * «Чугун.Ni» - 59,73%\n",
        "\n",
        "---\n",
        "\n",
        "По строкам:  \n",
        "* Строки где >= 5-ти аномалий **Удаляем**\n",
        "* Строки где <= 5-ти аномалий **Заменяем аномалии на медианные значения**\n",
        "* Строки где «Длительность простоя (сут)» > 0 **Удаляем**\n",
        "\n",
        "---\n",
        "\n",
        "**Заменяем остальные NaN на медианное значение по столбцу**\n",
        "\n",
        "---"
      ],
      "metadata": {
        "id": "8VHzQ9QfI76C"
      }
    },
    {
      "cell_type": "markdown",
      "source": [
        "## Удаляем строки"
      ],
      "metadata": {
        "id": "AAvCMjsKASdr"
      }
    },
    {
      "cell_type": "code",
      "source": [
        "print(\"До обработки:\\n\")\n",
        "print(f\"Всего строк: {len(df)}\")\n",
        "print(f\"Всего значений: {df.size}\")\n",
        "print(f\"Пропуски (NaN): {df.isna().sum().sum()}\")\n",
        "print(f\"Валидные данные: {df.count().sum()}\")"
      ],
      "metadata": {
        "id": "bBtlLFCqB-W7",
        "outputId": "46976ade-534b-4b65-9311-bcc8fb1edde1",
        "colab": {
          "base_uri": "https://localhost:8080/"
        }
      },
      "execution_count": 30,
      "outputs": [
        {
          "output_type": "stream",
          "name": "stdout",
          "text": [
            "До обработки:\n",
            "\n",
            "Всего строк: 1676\n",
            "Всего значений: 164248\n",
            "Пропуски (NaN): 20387\n",
            "Валидные данные: 143861\n"
          ]
        }
      ]
    },
    {
      "cell_type": "code",
      "source": [
        "anomalies_mask = anomalies_df.notna().sum(axis=1) >= 5\n",
        "df_cleaned = df.drop(anomalies_mask[anomalies_mask].index)"
      ],
      "metadata": {
        "id": "y12ZU5ylFgGc"
      },
      "execution_count": 31,
      "outputs": []
    },
    {
      "cell_type": "code",
      "source": [
        "anomalies_remaining = anomalies_df[~anomalies_mask]"
      ],
      "metadata": {
        "id": "S9fM1qkjFkUc"
      },
      "execution_count": 32,
      "outputs": []
    },
    {
      "cell_type": "code",
      "source": [
        "for col in anomalies_remaining.columns:\n",
        "    median_val = df_cleaned[col].median()\n",
        "    anomaly_indices = anomalies_remaining[col].dropna().index\n",
        "    df_cleaned.loc[anomaly_indices, col] = median_val"
      ],
      "metadata": {
        "id": "ZzaQbr2CFmTA"
      },
      "execution_count": 33,
      "outputs": []
    },
    {
      "cell_type": "code",
      "source": [
        "for col in df_cleaned.columns:\n",
        "    if df_cleaned[col].isna().any():\n",
        "        median_val = df_cleaned[col].median()\n",
        "        df_cleaned[col] = df_cleaned[col].fillna(median_val)"
      ],
      "metadata": {
        "id": "3OUsmLrEFoMw"
      },
      "execution_count": 34,
      "outputs": []
    },
    {
      "cell_type": "code",
      "source": [
        "print(\"После обработки:\\n\")\n",
        "print(f\"Осталось строк: {len(df_cleaned)}\")\n",
        "print(f\"Пропуски (NaN): {df_cleaned.isna().sum().sum()}\")\n",
        "print(f\"Валидные данные: {df_cleaned.count().sum()}\")"
      ],
      "metadata": {
        "id": "A17igO2sFpoq",
        "outputId": "3ed586dd-7f8d-433b-996a-800e5f59c8d8",
        "colab": {
          "base_uri": "https://localhost:8080/"
        }
      },
      "execution_count": 35,
      "outputs": [
        {
          "output_type": "stream",
          "name": "stdout",
          "text": [
            "После обработки:\n",
            "\n",
            "Осталось строк: 1553\n",
            "Пропуски (NaN): 0\n",
            "Валидные данные: 152194\n"
          ]
        }
      ]
    },
    {
      "cell_type": "code",
      "source": [
        "df = df_cleaned.reset_index(drop=True)"
      ],
      "metadata": {
        "id": "hpAKH4qaFsPh"
      },
      "execution_count": 36,
      "outputs": []
    },
    {
      "cell_type": "markdown",
      "source": [
        "## Удаляем столбцы"
      ],
      "metadata": {
        "id": "FVVQsmmMODI6"
      }
    },
    {
      "cell_type": "code",
      "source": [
        "columns_to_drop = [\n",
        "    'Naliv',\n",
        "    'Дата',\n",
        "    'УПДП',\n",
        "    'Давление горячего дутья (ат)',\n",
        "    'Колошниковая пыль',\n",
        "    'Вода на газоочистку. Расход (м³/ч)',\n",
        "    'Вода на охлаждение. Водовод 1. Расход (м³/ч)',\n",
        "    'Вода на охлаждение. Водовод 2. Расход (м³/ч)',\n",
        "    'Вода на охлаждение. Водовод 3. Расход (м³/ч)',\n",
        "    'Чугун.Cu',\n",
        "    'Чугун.Ni'\n",
        "]"
      ],
      "metadata": {
        "id": "Hu6JbWbFesE5"
      },
      "execution_count": 37,
      "outputs": []
    },
    {
      "cell_type": "code",
      "source": [
        "df = df.drop(columns_to_drop, axis=1)\n",
        "print(\"После обработки:\\n\")\n",
        "print(f\"Осталось столбцов: {len(df.columns)}\")\n",
        "print(f\"Валидные данные: {df.count().sum()}\")"
      ],
      "metadata": {
        "id": "4OUH4OQfAJf2",
        "outputId": "5b0cb41e-c80a-45cd-e616-17e4c99ed85e",
        "colab": {
          "base_uri": "https://localhost:8080/"
        }
      },
      "execution_count": 38,
      "outputs": [
        {
          "output_type": "stream",
          "name": "stdout",
          "text": [
            "После обработки:\n",
            "\n",
            "Осталось столбцов: 87\n",
            "Валидные данные: 135111\n"
          ]
        }
      ]
    },
    {
      "cell_type": "code",
      "source": [
        "df.info()"
      ],
      "metadata": {
        "id": "xK1uOFcmITRA",
        "outputId": "d29177b2-c6d6-4b51-d137-b3dd52936b79",
        "colab": {
          "base_uri": "https://localhost:8080/"
        }
      },
      "execution_count": 39,
      "outputs": [
        {
          "output_type": "stream",
          "name": "stdout",
          "text": [
            "<class 'pandas.core.frame.DataFrame'>\n",
            "RangeIndex: 1553 entries, 0 to 1552\n",
            "Data columns (total 87 columns):\n",
            " #   Column                                     Non-Null Count  Dtype  \n",
            "---  ------                                     --------------  -----  \n",
            " 0   Количество чугуна (т)                      1553 non-null   float64\n",
            " 1   Удельный расход кокса (кг/т)               1553 non-null   float64\n",
            " 2   Расход холодного дутья (м³/ч)              1553 non-null   float64\n",
            " 3   t горячего дутья (°С)                      1553 non-null   float64\n",
            " 4   Расход природного газа (м³/ч)              1553 non-null   float64\n",
            " 5   t природного газа (°С)                     1553 non-null   float64\n",
            " 6   Содержание кислорода в дутье (%)           1553 non-null   float64\n",
            " 7   Расход пара на увлажнение (т/ч)            1553 non-null   float64\n",
            " 8   Перепад давлений общий (ат)                1553 non-null   float64\n",
            " 9   t чугуна на выпуске (лётка 1) (°С)         1553 non-null   float64\n",
            " 10  t чугуна на выпуске (лётка 2) (°С)         1553 non-null   float64\n",
            " 11  Давление колошникового газа (ат)           1553 non-null   float64\n",
            " 12  Перепад давлений нижний (ат)               1553 non-null   float64\n",
            " 13  Перепад давлений верхний (ат)              1553 non-null   float64\n",
            " 14  Выход колошникового газа (м³/ч)            1553 non-null   float64\n",
            " 15  Положение клапана малый снорт (%)          1553 non-null   float64\n",
            " 16  t колошникового газа 1 (°С)                1553 non-null   float64\n",
            " 17  t колошникового газа 2 (°С)                1553 non-null   float64\n",
            " 18  t колошникового газа 3 (°С)                1553 non-null   float64\n",
            " 19  t колошникового газа 4 (°С)                1553 non-null   float64\n",
            " 20  t колошникового газа в пылеуловителе (°С)  1553 non-null   float64\n",
            " 21  Уровень засыпи (запад) (м)                 1553 non-null   float64\n",
            " 22  Уровень засыпи (восток) (м)                1553 non-null   float64\n",
            " 23  CO в колошниковом газе (%)                 1553 non-null   float64\n",
            " 24  CO₂ в колошниковом газе (%)                1553 non-null   float64\n",
            " 25  H₂ в колошниковом газе (%)                 1553 non-null   float64\n",
            " 26  t периферийных газов 1 (°С)                1553 non-null   float64\n",
            " 27  t периферийных газов 2 (°С)                1553 non-null   float64\n",
            " 28  t периферийных газов 3 (°С)                1553 non-null   float64\n",
            " 29  t периферийных газов 4 (°С)                1553 non-null   float64\n",
            " 30  t периферийных газов 5 (°С)                1553 non-null   float64\n",
            " 31  t периферийных газов 6 (°С)                1553 non-null   float64\n",
            " 32  Уровень засыпи (север) (м)                 1553 non-null   float64\n",
            " 33  Уровень засыпи (юг) (м)                    1553 non-null   float64\n",
            " 34  N₂ в колошниковом газе (%)                 1553 non-null   float64\n",
            " 35  Длительность простоя (сут)                 1553 non-null   float64\n",
            " 36  Шлак                                       1553 non-null   float64\n",
            " 37  Чугун.Cr                                   1553 non-null   float64\n",
            " 38  Чугун.Mn                                   1553 non-null   float64\n",
            " 39  Чугун.P                                    1553 non-null   float64\n",
            " 40  Чугун.S                                    1553 non-null   float64\n",
            " 41  Чугун.Si                                   1553 non-null   float64\n",
            " 42  Чугун.Ti                                   1553 non-null   float64\n",
            " 43  Чугун.V                                    1553 non-null   float64\n",
            " 44  Чугун.C                                    1553 non-null   float64\n",
            " 45  Шлак.Al₂O₃                                 1553 non-null   float64\n",
            " 46  Шлак.CaO                                   1553 non-null   float64\n",
            " 47  Шлак.FeO                                   1553 non-null   float64\n",
            " 48  Шлак.Ko                                    1553 non-null   float64\n",
            " 49  Шлак.MgO                                   1553 non-null   float64\n",
            " 50  Шлак.MnO                                   1553 non-null   float64\n",
            " 51  Шлак.NaO                                   1553 non-null   float64\n",
            " 52  Шлак.S                                     1553 non-null   float64\n",
            " 53  Шлак.SiO₂                                  1553 non-null   float64\n",
            " 54  Шлак.TiO₂                                  1553 non-null   float64\n",
            " 55  Бар М10                                    1553 non-null   float64\n",
            " 56  Бар М25                                    1553 non-null   float64\n",
            " 57  Влага                                      1553 non-null   float64\n",
            " 58  Зола                                       1553 non-null   float64\n",
            " 59  Кокс +80 мм                                1553 non-null   float64\n",
            " 60  Кокс -25 мм                                1553 non-null   float64\n",
            " 61  Кокс 40-25 мм                              1553 non-null   float64\n",
            " 62  Кокс 60-40 мм                              1553 non-null   float64\n",
            " 63  Кокс 80-60 мм                              1553 non-null   float64\n",
            " 64  Летучие                                    1553 non-null   float64\n",
            " 65  Сера К                                     1553 non-null   float64\n",
            " 66  Углерод                                    1553 non-null   float64\n",
            " 67  CRI                                        1553 non-null   float64\n",
            " 68  CSR                                        1553 non-null   float64\n",
            " 69  Fe                                         1553 non-null   float64\n",
            " 70  FeO                                        1553 non-null   float64\n",
            " 71  S                                          1553 non-null   float64\n",
            " 72  SiO₂                                       1553 non-null   float64\n",
            " 73  CaO                                        1553 non-null   float64\n",
            " 74  MgO                                        1553 non-null   float64\n",
            " 75  Al₂O₃                                      1553 non-null   float64\n",
            " 76  TiO₂                                       1553 non-null   float64\n",
            " 77  Osn                                        1553 non-null   float64\n",
            " 78  P                                          1553 non-null   float64\n",
            " 79  Zn                                         1553 non-null   float64\n",
            " 80  Cr                                         1553 non-null   float64\n",
            " 81  MnO                                        1553 non-null   float64\n",
            " 82  O₂ в горячем дутье                         1553 non-null   float64\n",
            " 83  Доля агломерата                            1553 non-null   float64\n",
            " 84  Колошниковый газ (CO₂)                     1553 non-null   float64\n",
            " 85  Колошниковый газ (CO)                      1553 non-null   float64\n",
            " 86  Колошниковый газ (H₂)                      1553 non-null   float64\n",
            "dtypes: float64(87)\n",
            "memory usage: 1.0 MB\n"
          ]
        }
      ]
    },
    {
      "cell_type": "markdown",
      "source": [
        "# Скачиваем датасет"
      ],
      "metadata": {
        "id": "Y2demB0G6jNz"
      }
    },
    {
      "cell_type": "code",
      "source": [
        "from google.colab import files"
      ],
      "metadata": {
        "id": "QUuHDACgFRxL"
      },
      "execution_count": 40,
      "outputs": []
    },
    {
      "cell_type": "code",
      "source": [
        "df.to_csv('ML-intensive_final_project_cleaned.csv', index=False)"
      ],
      "metadata": {
        "id": "q5o_AvA7FYr0"
      },
      "execution_count": 41,
      "outputs": []
    },
    {
      "cell_type": "code",
      "source": [
        "files.download('ML-intensive_final_project_cleaned.csv')"
      ],
      "metadata": {
        "colab": {
          "base_uri": "https://localhost:8080/",
          "height": 17
        },
        "id": "qpy4JECOFZsn",
        "outputId": "f7d54c2a-fa11-45ef-c0ce-4fe0357f9307"
      },
      "execution_count": 42,
      "outputs": [
        {
          "output_type": "display_data",
          "data": {
            "text/plain": [
              "<IPython.core.display.Javascript object>"
            ],
            "application/javascript": [
              "\n",
              "    async function download(id, filename, size) {\n",
              "      if (!google.colab.kernel.accessAllowed) {\n",
              "        return;\n",
              "      }\n",
              "      const div = document.createElement('div');\n",
              "      const label = document.createElement('label');\n",
              "      label.textContent = `Downloading \"${filename}\": `;\n",
              "      div.appendChild(label);\n",
              "      const progress = document.createElement('progress');\n",
              "      progress.max = size;\n",
              "      div.appendChild(progress);\n",
              "      document.body.appendChild(div);\n",
              "\n",
              "      const buffers = [];\n",
              "      let downloaded = 0;\n",
              "\n",
              "      const channel = await google.colab.kernel.comms.open(id);\n",
              "      // Send a message to notify the kernel that we're ready.\n",
              "      channel.send({})\n",
              "\n",
              "      for await (const message of channel.messages) {\n",
              "        // Send a message to notify the kernel that we're ready.\n",
              "        channel.send({})\n",
              "        if (message.buffers) {\n",
              "          for (const buffer of message.buffers) {\n",
              "            buffers.push(buffer);\n",
              "            downloaded += buffer.byteLength;\n",
              "            progress.value = downloaded;\n",
              "          }\n",
              "        }\n",
              "      }\n",
              "      const blob = new Blob(buffers, {type: 'application/binary'});\n",
              "      const a = document.createElement('a');\n",
              "      a.href = window.URL.createObjectURL(blob);\n",
              "      a.download = filename;\n",
              "      div.appendChild(a);\n",
              "      a.click();\n",
              "      div.remove();\n",
              "    }\n",
              "  "
            ]
          },
          "metadata": {}
        },
        {
          "output_type": "display_data",
          "data": {
            "text/plain": [
              "<IPython.core.display.Javascript object>"
            ],
            "application/javascript": [
              "download(\"download_b98879e5-b885-4291-b9ae-c3ec18e10e0b\", \"ML-intensive_final_project_cleaned.csv\", 1562886)"
            ]
          },
          "metadata": {}
        }
      ]
    }
  ]
}