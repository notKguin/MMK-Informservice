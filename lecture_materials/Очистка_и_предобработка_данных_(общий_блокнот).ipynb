{
  "nbformat": 4,
  "nbformat_minor": 0,
  "metadata": {
    "colab": {
      "provenance": [],
      "collapsed_sections": [
        "hHHOc6ZSHB0p",
        "riNd8AQ37e8h",
        "YC8CIUKNM7cG",
        "y4xR1zPMS9Zr",
        "kXZRaduDTCD_",
        "dvwQGSR1Vywj",
        "UDSPV9cxXV96",
        "IQnZox_XjCwb",
        "vr6-h0jNkll2",
        "JOiTLL-DnfCr",
        "git9dmsrnkmL",
        "Xxlidu5snoCx",
        "6xGcmj9nhw8s",
        "Sl8o2IeU5xHz",
        "YAKroqA76HBA",
        "skM3ibNpjM9i",
        "BvMUT3_zjeeI",
        "jzSd6KBRjxxp",
        "__D5jyp5kCSa"
      ],
      "include_colab_link": true
    },
    "kernelspec": {
      "name": "python3",
      "display_name": "Python 3"
    },
    "language_info": {
      "name": "python"
    }
  },
  "cells": [
    {
      "cell_type": "markdown",
      "metadata": {
        "id": "view-in-github",
        "colab_type": "text"
      },
      "source": [
        "<a href=\"https://colab.research.google.com/github/notKguin/MMK-Informservice/blob/main/lecture_materials/%D0%9E%D1%87%D0%B8%D1%81%D1%82%D0%BA%D0%B0_%D0%B8_%D0%BF%D1%80%D0%B5%D0%B4%D0%BE%D0%B1%D1%80%D0%B0%D0%B1%D0%BE%D1%82%D0%BA%D0%B0_%D0%B4%D0%B0%D0%BD%D0%BD%D1%8B%D1%85_(%D0%BE%D0%B1%D1%89%D0%B8%D0%B9_%D0%B1%D0%BB%D0%BE%D0%BA%D0%BD%D0%BE%D1%82).ipynb\" target=\"_parent\"><img src=\"https://colab.research.google.com/assets/colab-badge.svg\" alt=\"Open In Colab\"/></a>"
      ]
    },
    {
      "cell_type": "markdown",
      "source": [
        "# **Описание кейса**"
      ],
      "metadata": {
        "id": "ubl8S6m-Okfm"
      }
    },
    {
      "cell_type": "markdown",
      "source": [
        "\n",
        "\n",
        "> Компания, занимающаяся развитием киберспорта, планирует запустить таргетированную рекламу среди пользователей Вконтакте. В связи с этим им необходимо изучить целевую аудиторию и составить портреты пользователей, увлекающихся киберспортом, в том числе в разрезе онлайн-игр. Нашему коллеге-аналитику необходимо построить дашборд с анализом выборки пользователей из онлайн-магазина, расположенного на платформе Вконтакте. Специалист по сбору данных представил датасет с выгруженной информацией по профилям в формате csv. Однако данные в нем в том виде, в котором они есть, не подходят для построения дашборда."
      ],
      "metadata": {
        "id": "6hAbs2qGneSg"
      }
    },
    {
      "cell_type": "markdown",
      "source": [
        "**Наша задача** — очистить данные и привести их в нужный формат."
      ],
      "metadata": {
        "id": "XHjMGVfaW58J"
      }
    },
    {
      "cell_type": "markdown",
      "source": [
        "Какая **информация важна** для нашего коллеги:\n",
        "1. id пользователя\n",
        "2. возраст (кол-во лет)\n",
        "3. пол (1: женский, 2: мужской, 0: не указан)\n",
        "3. город проживания (если указан)\n",
        "4. страна проживания (если указана)\n",
        "5. количество подписчиков (если указано)\n",
        "6. дата последнего входа в магазин\n",
        "7. сумма трат в магазине (значение обязательно должно быть указано, пользователей с неуказанным значением необходимо исключить; значения должны быть соизмеримы, т.е. указаны в единой валюте)\n",
        "8. наименования игр, которыми интересуется пользователь (значение обязательно должно быть указано, пользователей с неуказанным значением необходимо исключить)"
      ],
      "metadata": {
        "id": "3C-DbzL3XHuu"
      }
    },
    {
      "cell_type": "markdown",
      "source": [
        "**Формат файла** с результатами: *xlsx* или *csv*"
      ],
      "metadata": {
        "id": "TOpmRX4Vvqme"
      }
    },
    {
      "cell_type": "markdown",
      "source": [
        "# **Подгрузка и обзор датасета**"
      ],
      "metadata": {
        "id": "7IBFpyn7zwLA"
      }
    },
    {
      "cell_type": "markdown",
      "source": [
        "## Библиотека pandas"
      ],
      "metadata": {
        "id": "Cooox5Ire8xm"
      }
    },
    {
      "cell_type": "markdown",
      "source": [
        "[Официальная документация библиотеки pandas](https://pandas.pydata.org/pandas-docs/stable/index.html)"
      ],
      "metadata": {
        "id": "kil32EyNjGRa"
      }
    },
    {
      "cell_type": "markdown",
      "source": [
        "\n",
        "Объект DataFrame состоит из так называемых объектов Series. Обязательно наличие индексного столбца (index)\n",
        "![](https://miro.medium.com/max/1400/0*YwPNRwWwTfra-IzR)"
      ],
      "metadata": {
        "id": "Dwjso4NZiPWd"
      }
    },
    {
      "cell_type": "markdown",
      "source": [
        "DataFrame представляет собой прямоугольную таблицу значений:\n",
        "*   каждая строка - **пример**, или же **sample**,\n",
        "*   каждая колонка - **признак**, или же **feature**."
      ],
      "metadata": {
        "id": "wqqg_eCtlxcL"
      }
    },
    {
      "cell_type": "markdown",
      "source": [
        "Индекс примера   | Признак_1 | Признак_2 | Признак_3 | Признак_4 | Признак_5\n",
        "-----------------|-----------|-----------|-----------|-----------|-----------\n",
        " 1               | 10        | 20        | \"строка 1\"| True      | 3.1415926    \n",
        " 2               | 15        | 10        | \"строка 2\"| False     | 2.71      \n",
        " 3               | 12        | 40        | \"строка 3\"| False     | -1.12345  \n"
      ],
      "metadata": {
        "id": "4j1EHjJ7niMV"
      }
    },
    {
      "cell_type": "markdown",
      "source": [
        "Также, таблицы часто называют датасетами, а строки - наблюдениями или записями."
      ],
      "metadata": {
        "id": "aMODSiXvoNlB"
      }
    },
    {
      "cell_type": "markdown",
      "source": [
        "**Типы данных**, используемые в pandas:\n",
        "![image.png](data:image/png;base64,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)"
      ],
      "metadata": {
        "id": "PrBHNRIY6mUt"
      }
    },
    {
      "cell_type": "markdown",
      "source": [
        "## Импорт библиотек"
      ],
      "metadata": {
        "id": "zSKGhqRhOHRD"
      }
    },
    {
      "cell_type": "code",
      "source": [
        "# из библиотеки google.colab импортируем класс files при необходимости подгрузки файла с персонального компьютера\n",
        "from google.colab import files\n",
        "# импортируем pandas - основную библиотеку аналитика данных\n",
        "import pandas as pd\n",
        "# импортируем библиотеку numpy для возможных расчетов\n",
        "import numpy as np\n",
        "# импортируем модуль json для распаковки структур данных формата json\n",
        "import json"
      ],
      "metadata": {
        "id": "RQZaVC4VPueE"
      },
      "execution_count": null,
      "outputs": []
    },
    {
      "cell_type": "markdown",
      "source": [
        "## Подгрузка файла"
      ],
      "metadata": {
        "id": "gzdPIMocO2Wu"
      }
    },
    {
      "cell_type": "markdown",
      "source": [
        "**1 способ:** подгрузка файла в среду выполнения кода с google диска"
      ],
      "metadata": {
        "id": "BMFgHbKPPzoz"
      }
    },
    {
      "cell_type": "markdown",
      "source": [
        "https://drive.google.com/file/d/1LFSh5lDLiSWu0HEy54OFKS9lJuIFEJJg/view?usp=sharing"
      ],
      "metadata": {
        "id": "IqkUG-GBU3T0"
      }
    },
    {
      "cell_type": "code",
      "source": [
        "# при ошибке загрузки в текущей версии gdown необходимо его обновить\n",
        "!pip install --upgrade gdown"
      ],
      "metadata": {
        "id": "DAjG5ez-ZZ1y"
      },
      "execution_count": null,
      "outputs": []
    },
    {
      "cell_type": "code",
      "execution_count": null,
      "metadata": {
        "id": "IGAt3yRYN9rb"
      },
      "outputs": [],
      "source": [
        "!gdown --id 1LFSh5lDLiSWu0HEy54OFKS9lJuIFEJJg"
      ]
    },
    {
      "cell_type": "code",
      "source": [
        "dataset = pd.read_csv('/content/shop_users.csv')"
      ],
      "metadata": {
        "id": "GXv3nVvd8ID3"
      },
      "execution_count": null,
      "outputs": []
    },
    {
      "cell_type": "code",
      "source": [
        "dataset.head(2)"
      ],
      "metadata": {
        "id": "7t9WebwI8LxP"
      },
      "execution_count": null,
      "outputs": []
    },
    {
      "cell_type": "markdown",
      "source": [
        "**2 способ:** подгрузка файла в среду выполнения кода с персонального компьютера"
      ],
      "metadata": {
        "id": "3TNU7Fj3QBsq"
      }
    },
    {
      "cell_type": "code",
      "source": [
        "uploaded = files.upload()"
      ],
      "metadata": {
        "id": "F4PGim6PPxrO"
      },
      "execution_count": null,
      "outputs": []
    },
    {
      "cell_type": "markdown",
      "source": [
        "## Чтение файла"
      ],
      "metadata": {
        "id": "8lneWgoLQjaF"
      }
    },
    {
      "cell_type": "markdown",
      "source": [
        "1. Файлы формата csv, tsv"
      ],
      "metadata": {
        "id": "_PqzkGJdecP9"
      }
    },
    {
      "cell_type": "code",
      "source": [
        "df = pd.read_csv('shop_users.csv')"
      ],
      "metadata": {
        "id": "ysJdcKI2UUyp"
      },
      "execution_count": null,
      "outputs": []
    },
    {
      "cell_type": "markdown",
      "source": [
        "Параметр *sep* не указываем, т.к. по умолчанию sep=',' (что соответствует используемому разделителю в нашем файле)"
      ],
      "metadata": {
        "id": "hh2RJylEfcmN"
      }
    },
    {
      "cell_type": "markdown",
      "source": [
        "2. Файлы формата xls, xlsx"
      ],
      "metadata": {
        "id": "5Ys9bmbOetyh"
      }
    },
    {
      "cell_type": "code",
      "source": [
        "# df = pd.read_excel('shop_users.xlsx')"
      ],
      "metadata": {
        "id": "kl5xMeYjeo4N"
      },
      "execution_count": null,
      "outputs": []
    },
    {
      "cell_type": "code",
      "source": [
        "df"
      ],
      "metadata": {
        "id": "_CGIfOpDg_Xa"
      },
      "execution_count": null,
      "outputs": []
    },
    {
      "cell_type": "markdown",
      "source": [
        "## Обзор датасета"
      ],
      "metadata": {
        "id": "_1ZV0dzKpNTm"
      }
    },
    {
      "cell_type": "code",
      "source": [
        "# показывает наблюдения с начала датасета (по умолчанию - 5 наблюдений)\n",
        "df.head()"
      ],
      "metadata": {
        "id": "xQUGYS-EkdiS"
      },
      "execution_count": null,
      "outputs": []
    },
    {
      "cell_type": "code",
      "source": [
        "# показывает наблюдения с начала датасета (можно указать нужное количество выводимых строк)\n",
        "df.head(2)"
      ],
      "metadata": {
        "id": "CeEyIdkEpSh0"
      },
      "execution_count": null,
      "outputs": []
    },
    {
      "cell_type": "code",
      "source": [
        "# показывает наблюдения с конца датасета (можно указать нужное количество выводимых строк)\n",
        "df.tail()"
      ],
      "metadata": {
        "id": "Vkd14Di7pViZ"
      },
      "execution_count": null,
      "outputs": []
    },
    {
      "cell_type": "code",
      "source": [
        "# показывает случайно выбранные наблюдения (можно указать нужное количество выводимых строк)\n",
        "df.sample(4)"
      ],
      "metadata": {
        "id": "wCda601Npc-Q"
      },
      "execution_count": null,
      "outputs": []
    },
    {
      "cell_type": "code",
      "source": [
        "# тип объекта\n",
        "type(df)"
      ],
      "metadata": {
        "id": "1fQ1OvL5AXuz"
      },
      "execution_count": null,
      "outputs": []
    },
    {
      "cell_type": "code",
      "source": [
        "type(df['id'])"
      ],
      "metadata": {
        "id": "wSnirm9JAXu0"
      },
      "execution_count": null,
      "outputs": []
    },
    {
      "cell_type": "code",
      "source": [
        "# размеры датасета (количество ячеек: строки Х столбцы)\n",
        "df.size"
      ],
      "metadata": {
        "id": "lGIwpWzppiTj"
      },
      "execution_count": null,
      "outputs": []
    },
    {
      "cell_type": "code",
      "source": [
        "# длина датасета (количество наблюдений)\n",
        "len(df)"
      ],
      "metadata": {
        "id": "TArP4lXxq5Wz"
      },
      "execution_count": null,
      "outputs": []
    },
    {
      "cell_type": "code",
      "source": [
        "# количество признаков в датасете (количество столбцов)\n",
        "len(df.axes[1])"
      ],
      "metadata": {
        "id": "6yn34-3srcpU"
      },
      "execution_count": null,
      "outputs": []
    },
    {
      "cell_type": "code",
      "source": [
        "# размеры датасета (количество наблюдений и признаков)\n",
        "df.shape"
      ],
      "metadata": {
        "id": "DAb-zJTNrFxt"
      },
      "execution_count": null,
      "outputs": []
    },
    {
      "cell_type": "code",
      "source": [
        "# информация о типах данных\n",
        "df.dtypes"
      ],
      "metadata": {
        "id": "y2_GAntnOfCr"
      },
      "execution_count": null,
      "outputs": []
    },
    {
      "cell_type": "code",
      "source": [
        "# информация о датасете:\n",
        "# количество записей,\n",
        "# количество столбцов,\n",
        "# наименование признаков,\n",
        "# количество заполненных (не пустых) значений по каждому признаку,\n",
        "# тип данных по каждому признаку,\n",
        "# объем занимаемой памяти\n",
        "df.info()"
      ],
      "metadata": {
        "id": "QG2q-_07sFBj"
      },
      "execution_count": null,
      "outputs": []
    },
    {
      "cell_type": "markdown",
      "source": [
        "## Выявление проблем"
      ],
      "metadata": {
        "id": "hHHOc6ZSHB0p"
      }
    },
    {
      "cell_type": "markdown",
      "source": [
        "1. Наличие признаков, не представляющих ценности в рамках кейса ('Unnamed: 0', 'common_count', 'is_closed', 'home_town', 'relation')\n",
        "2. Возможно наличие дубликатов\n",
        "3. Наличие незаполненных значений ('city', 'last_seen', 'followers_count', 'costs', 'games')\n",
        "4. Наличие вложенных значений (словарей по признакам 'city', 'country', 'last_seen', 'costs' и списков словарей по признаку 'games')\n",
        "5. Приведение признаков в необходимый формат (в datetime: 'bdate, 'last_seen', в float: затраты из признака 'costs')\n",
        "6. Необходимость расчета признака 'age' (от признака 'bdate')\n",
        "7. Наличие закодированных значений (по признаку 'sex')\n",
        "8. Возможные другие проблемы, которые могут быть выявлены в процессе предобработки данных"
      ],
      "metadata": {
        "id": "9pPq94_eHOse"
      }
    },
    {
      "cell_type": "markdown",
      "source": [
        "## Исключение признаков, не представляющих ценности в рамках кейса"
      ],
      "metadata": {
        "id": "riNd8AQ37e8h"
      }
    },
    {
      "cell_type": "markdown",
      "source": [
        "Перед проведением манипуляций рекомендовано создать копию исходного датасета в отдельную переменную, чтобы в случае необходимости или ошибки при обработке без труда вернуться к исходной версии"
      ],
      "metadata": {
        "id": "USeGWuvENC8E"
      }
    },
    {
      "cell_type": "code",
      "source": [
        "df_copy = df.copy()"
      ],
      "metadata": {
        "id": "wRaCOothNgyx"
      },
      "execution_count": null,
      "outputs": []
    },
    {
      "cell_type": "code",
      "source": [
        "# при использовании выражения:\n",
        "# df_copy = df\n",
        "# копия не создастся, а датафрейм просто сохранится также в переменную df_copy,\n",
        "# и при его изменении при обращении к переменной df_copy он также будет изменен в переменной df."
      ],
      "metadata": {
        "id": "Ct3iVFnbNqlp"
      },
      "execution_count": null,
      "outputs": []
    },
    {
      "cell_type": "code",
      "source": [
        "# выводит список колонок датафрейма\n",
        "df_copy.columns"
      ],
      "metadata": {
        "id": "QRpSvHeksM0p"
      },
      "execution_count": null,
      "outputs": []
    },
    {
      "cell_type": "code",
      "source": [
        "# создание списка \"ненужных\" колонок\n",
        "columns = ['Unnamed: 0', 'common_count', 'is_closed', 'home_town', 'relation']"
      ],
      "metadata": {
        "id": "OgHAxoEdMQOt"
      },
      "execution_count": null,
      "outputs": []
    },
    {
      "cell_type": "code",
      "source": [
        "# параметр inplace=True позволяет автоматически перезаписать текущий датафрейм\n",
        "# без использования конструкции: df_copy = df_copy.drop(columns=columns)\n",
        "df_copy.drop(columns=columns, inplace=True)"
      ],
      "metadata": {
        "id": "M75Jf3AJM8Hi"
      },
      "execution_count": null,
      "outputs": []
    },
    {
      "cell_type": "code",
      "source": [
        "# также с помощью drop() можно удалять и сами наблюдения (см. тех. документацию)"
      ],
      "metadata": {
        "id": "gxW0ot5KUbiA"
      },
      "execution_count": null,
      "outputs": []
    },
    {
      "cell_type": "code",
      "source": [
        "# проверка списка колонок датафрейма\n",
        "df_copy.columns"
      ],
      "metadata": {
        "id": "GPnjDf--P9tD"
      },
      "execution_count": null,
      "outputs": []
    },
    {
      "cell_type": "markdown",
      "source": [
        "## Проверка и исключение дубликатов"
      ],
      "metadata": {
        "id": "YC8CIUKNM7cG"
      }
    },
    {
      "cell_type": "markdown",
      "source": [
        "### Проверка на дубликаты"
      ],
      "metadata": {
        "id": "y4xR1zPMS9Zr"
      }
    },
    {
      "cell_type": "code",
      "source": [
        "# проверка на дубликаты: выдает объект Series с булевыми значениями True/False\n",
        "df_copy.duplicated()"
      ],
      "metadata": {
        "id": "Ady1EdI_QKlj"
      },
      "execution_count": null,
      "outputs": []
    },
    {
      "cell_type": "code",
      "source": [
        "# нас интересует количество дубликатов\n",
        "# т.к. True = 1, False = 0, то необходимо сложить все значения по данному объекту Series\n",
        "df_copy.duplicated().sum()"
      ],
      "metadata": {
        "id": "6am8tLB9Qk2H"
      },
      "execution_count": null,
      "outputs": []
    },
    {
      "cell_type": "code",
      "source": [
        "# проверка дубликатов по столбцу id\n",
        "df_copy.duplicated(subset='id').sum()"
      ],
      "metadata": {
        "id": "ONAsB4vVRae7"
      },
      "execution_count": null,
      "outputs": []
    },
    {
      "cell_type": "code",
      "source": [
        "# проверка дубликатов по нескольким столбцам\n",
        "# (например, сколько однополых людей, родившихся в одинаковые дни)\n",
        "# параметр keep=False присваивает значения True всем найденным дубликатам\n",
        "# (по умолчанию keep='first', т.е. присваивает значение False первому из совпадений)\n",
        "df_copy.duplicated(subset=['bdate', 'sex'], keep=False).sum()"
      ],
      "metadata": {
        "id": "IOQdY6P9Rrw2"
      },
      "execution_count": null,
      "outputs": []
    },
    {
      "cell_type": "markdown",
      "source": [
        "### Исключение дубликатов"
      ],
      "metadata": {
        "id": "kXZRaduDTCD_"
      }
    },
    {
      "cell_type": "code",
      "source": [
        "# исключение дубликатов по всем признакам датафрейма\n",
        "df_copy.drop_duplicates(inplace=True)"
      ],
      "metadata": {
        "id": "E6IxyCMtTGnV"
      },
      "execution_count": null,
      "outputs": []
    },
    {
      "cell_type": "code",
      "source": [
        "# исключение дубликатов по столбцу\n",
        "# (в нашем случае операция аналогична предыдущей)\n",
        "# df_copy.drop_duplicates(subset='id', inplace=True)"
      ],
      "metadata": {
        "id": "38Vhve9BTgQf"
      },
      "execution_count": null,
      "outputs": []
    },
    {
      "cell_type": "code",
      "source": [
        "# исключение дубликатов по нескольким столбцам\n",
        "# (в нашем случае нет необходимости)\n",
        "# параметр keep=False удаляет все найденные дубликаты\n",
        "# (по умолчанию keep='first', т.е. удаляет все дубликаты, кроме первого)\n",
        "# df_copy.drop_duplicates(subset=['bdate', 'sex'], keep=False, inplace=True)"
      ],
      "metadata": {
        "id": "nHveKBxYUFrY"
      },
      "execution_count": null,
      "outputs": []
    },
    {
      "cell_type": "code",
      "source": [
        "# контроль размеров датафрейма\n",
        "df_copy.shape"
      ],
      "metadata": {
        "id": "LfiofYfUVU18"
      },
      "execution_count": null,
      "outputs": []
    },
    {
      "cell_type": "code",
      "source": [
        "3525-3367"
      ],
      "metadata": {
        "id": "VC-zeN0McYCA"
      },
      "execution_count": null,
      "outputs": []
    },
    {
      "cell_type": "markdown",
      "source": [
        "# **Проверка данных на пропуски, их обработка или исключение**"
      ],
      "metadata": {
        "id": "dvwQGSR1Vywj"
      }
    },
    {
      "cell_type": "markdown",
      "source": [
        "**NaN** и **None**:\n",
        "* **NaN** отвечает за отсутствующее в ячейке число. Его тип данных float, поэтому с NaN можно проводить математические операции.\n",
        "* **None**\n",
        "принадлежит к нечисловому типу NoneType, и математические операции\n",
        "с ним неосуществимы.\n",
        "\n",
        "Строки с этими значениями **не\n",
        "всегда стоит удалять**, иногда их наличие несет ценность для анализа, в некоторых случаях пропуски можно восстановить."
      ],
      "metadata": {
        "id": "wKn-Y_UKc22U"
      }
    },
    {
      "cell_type": "markdown",
      "source": [
        "## Проверка на пропущенные значения"
      ],
      "metadata": {
        "id": "UDSPV9cxXV96"
      }
    },
    {
      "cell_type": "code",
      "source": [
        "# проверка на пропущенные значения: выдает объект DataFrame с булевыми значениями True/False\n",
        "df_copy.isna()"
      ],
      "metadata": {
        "id": "BCTIeEdyVnV9"
      },
      "execution_count": null,
      "outputs": []
    },
    {
      "cell_type": "code",
      "source": [
        "# нас интересует, в первую очередь, количество пропущенных значений\n",
        "# т.к. True = 1, False = 0, то необходимо сложить все значения по столбцам данного объекта DataFrame\n",
        "df_copy.isna().sum()"
      ],
      "metadata": {
        "id": "19pEsAM3WrfZ"
      },
      "execution_count": null,
      "outputs": []
    },
    {
      "cell_type": "code",
      "source": [
        "# isnull() - альтернативный метод проверки на пустые значения\n",
        "# можно оценить количество пропущенных значений в процентах, применив обычную арифметику\n",
        "df_copy.isnull().mean()*100"
      ],
      "metadata": {
        "id": "KjSFjjr_Zfbx"
      },
      "execution_count": null,
      "outputs": []
    },
    {
      "cell_type": "code",
      "source": [
        "# обратные методы: notna() и notnull() - количество заполненных значений\n",
        "df_copy.notna().sum()"
      ],
      "metadata": {
        "id": "4pReFUTolRFA"
      },
      "execution_count": null,
      "outputs": []
    },
    {
      "cell_type": "markdown",
      "source": [
        "**Обзор пропущенных значений** по признакам:\n",
        "1. 'city' - пользователи указывают город по желанию (по кейсу нет необходимости в исключении пропущенных значений; восстановить пропуски нет возможности)\n",
        "2. 'last_seen' - должно быть указано значение последнего входа в магазин (скорее всего, ошибка в базе данных, либо при выгрузке данных в файл; по кейсу не указана необходимость в исключении пропущенных значений)\n",
        "3. 'followers_count' - по пользователям с закрытым аккаунтом информация не предоставляется (по кейсу нет необходимости в исключении пропущенных значений; восстановить пропуски нет возможности)\n",
        "4. 'costs' - затраты в магазине (по кейсу требование - исключить пропущенные значения; восстановить пропуски нет возможности)\n",
        "5. 'games' - списки игр, которыми интересуются пользователи (по кейсу требование - исключить пропущенные значения; восстановить пропуски нет возможности)"
      ],
      "metadata": {
        "id": "Jz9xlC0rXqr4"
      }
    },
    {
      "cell_type": "markdown",
      "source": [
        "## Исключение пропусков"
      ],
      "metadata": {
        "id": "IQnZox_XjCwb"
      }
    },
    {
      "cell_type": "code",
      "source": [
        "# необходимо исключить наблюдения с пропусками по признакам 'costs' и 'games'\n",
        "df_copy.dropna(subset=['costs', 'games'], inplace=True)"
      ],
      "metadata": {
        "id": "txLzuUf4W6Br"
      },
      "execution_count": null,
      "outputs": []
    },
    {
      "cell_type": "code",
      "source": [
        "# применение метода dropna() без указания значений параметра subset\n",
        "# df_copy.dropna(inplace=True)\n",
        "# приведет к удалению всех наблюдений датасета, где есть хотя бы одно пустое значение"
      ],
      "metadata": {
        "id": "-p3a4sAljz80"
      },
      "execution_count": null,
      "outputs": []
    },
    {
      "cell_type": "code",
      "source": [
        "# контроль размеров датафрейма\n",
        "df_copy.shape"
      ],
      "metadata": {
        "id": "mp8fR7eqkHYy"
      },
      "execution_count": null,
      "outputs": []
    },
    {
      "cell_type": "code",
      "source": [
        "3367-3338"
      ],
      "metadata": {
        "id": "x8aZq8J7kQ6e"
      },
      "execution_count": null,
      "outputs": []
    },
    {
      "cell_type": "code",
      "source": [
        "# контроль пропусков\n",
        "df_copy.isna().sum()"
      ],
      "metadata": {
        "id": "NibEWkP9kSIB"
      },
      "execution_count": null,
      "outputs": []
    },
    {
      "cell_type": "code",
      "source": [
        "df_copy.info()"
      ],
      "metadata": {
        "id": "8rxNPvDypOwI"
      },
      "execution_count": null,
      "outputs": []
    },
    {
      "cell_type": "code",
      "source": [
        "# количество данных изменилось, однако значения индексов остались в диапазоне от 0 до 3520\n",
        "# следует перезаписать индексы по порядку (в нашем случае нет необходимости сохранять исходные индексы),\n",
        "# передав параметр drop=True для автоматического удаления исходного индексного столбца\n",
        "df_copy.reset_index(drop=True, inplace=True)"
      ],
      "metadata": {
        "id": "VrGM8bZmpWEZ"
      },
      "execution_count": null,
      "outputs": []
    },
    {
      "cell_type": "code",
      "source": [
        "# проверка диапазона индексов\n",
        "df_copy.index"
      ],
      "metadata": {
        "id": "LMM35gUCqCkP"
      },
      "execution_count": null,
      "outputs": []
    },
    {
      "cell_type": "markdown",
      "source": [
        "## Обработка пропусков"
      ],
      "metadata": {
        "id": "vr6-h0jNkll2"
      }
    },
    {
      "cell_type": "code",
      "source": [
        "# метод для заполнения пропусков - fillna()\n",
        "# (в нашем случае нет необходимости)\n",
        "# df_copy['city'].fillna('Moscow', inplace=True)\n",
        "# df_copy['followers_count'].fillna(0, inplace=True)"
      ],
      "metadata": {
        "id": "cx_vGyZZklD3"
      },
      "execution_count": null,
      "outputs": []
    },
    {
      "cell_type": "markdown",
      "source": [
        "# **Работа с JSON и вложенными структурами данных**"
      ],
      "metadata": {
        "id": "BBdCToL6m2vN"
      }
    },
    {
      "cell_type": "code",
      "source": [
        "df_copy.head(3)"
      ],
      "metadata": {
        "id": "EIX_fgJRG6xf"
      },
      "execution_count": null,
      "outputs": []
    },
    {
      "cell_type": "markdown",
      "source": [
        "'city', 'country', 'last_seen', 'costs', 'games'"
      ],
      "metadata": {
        "id": "o1OZ_Q-llQ9a"
      }
    },
    {
      "cell_type": "markdown",
      "source": [
        "## 'city'"
      ],
      "metadata": {
        "id": "RvqN8BddnSrX"
      }
    },
    {
      "cell_type": "code",
      "source": [
        "# обзор значения по признаку\n",
        "df_copy['city'][0]"
      ],
      "metadata": {
        "id": "80rWKKZ4lFVs"
      },
      "execution_count": null,
      "outputs": []
    },
    {
      "cell_type": "code",
      "source": [
        "# пробуем достать значение с помощью модуля json\n",
        "json.loads(df_copy['city'][0])"
      ],
      "metadata": {
        "id": "UCXmrHsnRUrJ"
      },
      "execution_count": null,
      "outputs": []
    },
    {
      "cell_type": "code",
      "source": [
        "# судя по ошибке не устраивает наличие одинарных кавычек\n",
        "# пробуем заменить на двойные кавычки с помощью метода replace()\n",
        "df_copy['city'][0].replace(\"'\", '\"')"
      ],
      "metadata": {
        "id": "74yKyZNZQv3Y"
      },
      "execution_count": null,
      "outputs": []
    },
    {
      "cell_type": "code",
      "source": [
        "json.loads(df_copy['city'][0].replace(\"'\", '\"'))"
      ],
      "metadata": {
        "id": "AJ7V3udfqOrB"
      },
      "execution_count": null,
      "outputs": []
    },
    {
      "cell_type": "code",
      "source": [
        "# пробуем достать значение по ключу title\n",
        "json.loads(df_copy['city'][0].replace(\"'\", '\"'))['title']"
      ],
      "metadata": {
        "id": "Lid2Y8LEQ8fV"
      },
      "execution_count": null,
      "outputs": []
    },
    {
      "cell_type": "code",
      "source": [
        "# код отработал корректно\n",
        "# пишем функцию для последующего применения к столбцу, при этом вычленяя наименование города\n",
        "def text_to_json(text):\n",
        "  result = json.loads(text.replace(\"'\", '\"'))['title']\n",
        "  return result"
      ],
      "metadata": {
        "id": "U-_ab5cYq1fz"
      },
      "execution_count": null,
      "outputs": []
    },
    {
      "cell_type": "code",
      "source": [
        "# применяем функцию к столбцу\n",
        "df_copy['city'] = df_copy['city'].apply(text_to_json)"
      ],
      "metadata": {
        "id": "Np0pGzcOrc5o"
      },
      "execution_count": null,
      "outputs": []
    },
    {
      "cell_type": "code",
      "source": [
        "# ошибка, связанная с наличием пропусков по столбцу\n",
        "# добавим в функцию обработку пустых значений (один из вариантов исполнения)\n",
        "def text_to_json(text):\n",
        "  if pd.isna(text):\n",
        "    result = 'Город не указан'\n",
        "  else:\n",
        "    result = json.loads(text.replace(\"'\", '\"'))['title']\n",
        "  return result"
      ],
      "metadata": {
        "id": "5Rpv1Hh5sTxF"
      },
      "execution_count": null,
      "outputs": []
    },
    {
      "cell_type": "code",
      "source": [
        "# применяем функцию к столбцу\n",
        "df_copy['city'] = df_copy['city'].apply(text_to_json)"
      ],
      "metadata": {
        "id": "dFCq7XkEs1TV"
      },
      "execution_count": null,
      "outputs": []
    },
    {
      "cell_type": "code",
      "source": [
        "# контроль результата\n",
        "df_copy.city"
      ],
      "metadata": {
        "id": "IAGjhHdjs-vX"
      },
      "execution_count": null,
      "outputs": []
    },
    {
      "cell_type": "code",
      "source": [
        "# данные записались корректно,\n",
        "# однако стоит отметить, что они не приведены к единому регистру, языку,\n",
        "# например, различное написание русских городов на разных языках: Saint-Petersburg и Новосибирск,\n",
        "# а также наличие названия страны \"Россия\" в последних наблюдениях.\n",
        "# откорректируем данные несоответствия в одной из следующих тем"
      ],
      "metadata": {
        "id": "bGp3maI_tl9E"
      },
      "execution_count": null,
      "outputs": []
    },
    {
      "cell_type": "markdown",
      "source": [
        "## 'country'"
      ],
      "metadata": {
        "id": "GSbYDIm0nbuC"
      }
    },
    {
      "cell_type": "code",
      "source": [
        "df_copy['country'][0]"
      ],
      "metadata": {
        "id": "V24IbS8aItGZ"
      },
      "execution_count": null,
      "outputs": []
    },
    {
      "cell_type": "code",
      "source": [
        "# альтернативный метод: приведение значений в словарь с помощью функции eval()\n",
        "eval(df_copy['country'][0])"
      ],
      "metadata": {
        "id": "Sr4EZukrneVx"
      },
      "execution_count": null,
      "outputs": []
    },
    {
      "cell_type": "code",
      "source": [
        "eval(df_copy['country'][0])['title']"
      ],
      "metadata": {
        "id": "yuJ_yBzsu4rE"
      },
      "execution_count": null,
      "outputs": []
    },
    {
      "cell_type": "code",
      "source": [
        "# применим функцию к столбцу\n",
        "# т.к. по столбцу нет пропусков, то попробуем применить\n",
        "# анонимную lambda-функцию для записи наименования страны\n",
        "df_copy['country'] = df_copy['country'].apply(lambda x: eval(x)['title'])"
      ],
      "metadata": {
        "id": "-oEwCZntTfnb"
      },
      "execution_count": null,
      "outputs": []
    },
    {
      "cell_type": "code",
      "source": [
        "# ошибка, связанная с тем, что по каким-то наблюдениям в словаре нет ключа 'title',\n",
        "# но по данному признаку может быть только два ключа - 'id' и 'title'\n",
        "# ищем проблемные значения с помощью конструкции обработки исключений try-except\n",
        "for item in df_copy.country:\n",
        "  try:\n",
        "    eval(item)['title']\n",
        "  except:\n",
        "    print(item)"
      ],
      "metadata": {
        "id": "SxppJ6n44WI7"
      },
      "execution_count": null,
      "outputs": []
    },
    {
      "cell_type": "code",
      "source": [
        "# несоответствия по данному признаку, относящиеся к другому - 'last_seen'\n",
        "# посмотрим на эти наблюдения по всем признакам с помощью метода contains()\n",
        "# (str. производит принудительный перевод в строковое значение)\n",
        "df_copy[df_copy.country.str.contains('platform')]"
      ],
      "metadata": {
        "id": "RR2qnOxd5WX3"
      },
      "execution_count": null,
      "outputs": []
    },
    {
      "cell_type": "code",
      "source": [
        "# видно, что значения сдвинулись по признакам\n",
        "# скорее всего, в какой-то момент произошла ошибка при записи данных\n",
        "# можно было бы попытаться восстановить значения, отдав их обратно специалисту по сбору данных,\n",
        "# однако таких значений всего 4 из общего числа наблюдений,\n",
        "# поэтому в данном случаем можно их исключить из датасета,\n",
        "# но проинформировать причастных об ошибке все же стоит\n",
        "\n",
        "df_copy.drop([3334, 3335, 3336, 3337],inplace=True)"
      ],
      "metadata": {
        "id": "sKVq6-gI57QS"
      },
      "execution_count": null,
      "outputs": []
    },
    {
      "cell_type": "code",
      "source": [
        "# снова применим функцию к столбцу\n",
        "df_copy['country'] = df_copy['country'].apply(lambda x: eval(x)['title'])"
      ],
      "metadata": {
        "id": "JgUs9PV97M7u"
      },
      "execution_count": null,
      "outputs": []
    },
    {
      "cell_type": "code",
      "source": [
        "# контроль результата\n",
        "df_copy.country"
      ],
      "metadata": {
        "id": "wbYn59fFv4eq"
      },
      "execution_count": null,
      "outputs": []
    },
    {
      "cell_type": "code",
      "source": [
        "# данные записались корректно,\n",
        "# однако стоит также проверить их на корректность значений"
      ],
      "metadata": {
        "id": "phd2IhojwUlg"
      },
      "execution_count": null,
      "outputs": []
    },
    {
      "cell_type": "markdown",
      "source": [
        "## 'last_seen'"
      ],
      "metadata": {
        "id": "JOiTLL-DnfCr"
      }
    },
    {
      "cell_type": "code",
      "source": [
        "df_copy['last_seen'][0]"
      ],
      "metadata": {
        "id": "3Euzdc9OKEaM"
      },
      "execution_count": null,
      "outputs": []
    },
    {
      "cell_type": "code",
      "source": [
        "# данные содержат пустые значения\n",
        "# перепишем функцию, используемую при обработке признака 'city',\n",
        "# при этом не заменяя пропущенные значения другими\n",
        "def text_to_json_2(text):\n",
        "  if pd.isna(text):\n",
        "    result = np.nan\n",
        "  else:\n",
        "    result = json.loads(text.replace(\"'\", '\"'))['time']\n",
        "  return result"
      ],
      "metadata": {
        "id": "_wQ39BgOnkE-"
      },
      "execution_count": null,
      "outputs": []
    },
    {
      "cell_type": "code",
      "source": [
        "# применяем функцию к столбцу\n",
        "df_copy['last_seen'] = df_copy['last_seen'].apply(text_to_json_2)"
      ],
      "metadata": {
        "id": "7Z4MeTXKxTYf"
      },
      "execution_count": null,
      "outputs": []
    },
    {
      "cell_type": "code",
      "source": [
        "# контроль результата\n",
        "df_copy.last_seen"
      ],
      "metadata": {
        "id": "vusiLojNxjrR"
      },
      "execution_count": null,
      "outputs": []
    },
    {
      "cell_type": "code",
      "source": [
        "# данные в формате float64, при этом большой размерности,\n",
        "# поэтому отображаются неудобно"
      ],
      "metadata": {
        "id": "TQToBBFc7Khs"
      },
      "execution_count": null,
      "outputs": []
    },
    {
      "cell_type": "code",
      "source": [
        "# один из способов форматирования\n",
        "# (число с плавающей точкой отобразим без указания знаков после запятой)\n",
        "# (пример для перевода числа в проценты с двумя знаками после запятой - .apply(\"{0:.2%}\".format))\n",
        "# (если необходимо применить форматирование ко всей таблице, то используется метод .applymap())\n",
        "df_copy.last_seen.apply(\"{0:.0f}\".format)"
      ],
      "metadata": {
        "id": "H65920Ma63_0"
      },
      "execution_count": null,
      "outputs": []
    },
    {
      "cell_type": "code",
      "source": [
        "# на самом деле, время указано в формате Unix time\n",
        "# приведем данные в формат даты и времени в одной из следующих тем"
      ],
      "metadata": {
        "id": "CLD_Qbgaxtr7"
      },
      "execution_count": null,
      "outputs": []
    },
    {
      "cell_type": "markdown",
      "source": [
        "## 'costs'"
      ],
      "metadata": {
        "id": "git9dmsrnkmL"
      }
    },
    {
      "cell_type": "code",
      "source": [
        "# обработаем данные альтернативным способом - через обработку текста\n",
        "\n",
        "# необходимо записать данные и о сумме затрат, и о валюте в отдельные столбцы"
      ],
      "metadata": {
        "id": "K5ljZbwO84iM"
      },
      "execution_count": null,
      "outputs": []
    },
    {
      "cell_type": "code",
      "source": [
        "# данные не содержат пустые значения,\n",
        "# поэтому проверку на пропуски можно опустить"
      ],
      "metadata": {
        "id": "-VOA4ZGNnnfi"
      },
      "execution_count": null,
      "outputs": []
    },
    {
      "cell_type": "code",
      "source": [
        "# демонстрация этапов обработки на одном значении\n",
        "costs = df_copy['costs'][0]\n",
        "costs"
      ],
      "metadata": {
        "id": "1uMtefGk9nkP"
      },
      "execution_count": null,
      "outputs": []
    },
    {
      "cell_type": "code",
      "source": [
        "# удаление лишних символов с помощью метода .replace()\n",
        "costs_1 = costs.replace(\"'\", \"\").replace(\"{\", \"\").replace(\"}\", \"\"). replace(\":\", \"\")\n",
        "costs_1"
      ],
      "metadata": {
        "id": "dBU8km2z-MZX"
      },
      "execution_count": null,
      "outputs": []
    },
    {
      "cell_type": "code",
      "source": [
        "# выделение затрат и валюты в отдельные сущности - элементы списка с помощью метода split()\n",
        "# (в качестве разделителя указываем запятую)\n",
        "costs_2 = costs_1.split(\",\")\n",
        "costs_2"
      ],
      "metadata": {
        "id": "90CKWUwt-sWh"
      },
      "execution_count": null,
      "outputs": []
    },
    {
      "cell_type": "code",
      "source": [
        "# теперь можно работать с каждой сущностью отдельно\n",
        "# costs - первый элемент списка costs_2[0]\n",
        "# currency - второй элемент списка costs_2[1]\n",
        "print(costs_2[0])\n",
        "print(costs_2[1])"
      ],
      "metadata": {
        "id": "QRgNULJG_9lC"
      },
      "execution_count": null,
      "outputs": []
    },
    {
      "cell_type": "code",
      "source": [
        "# выделим саму цифру затрат также с помощью метода split()\n",
        "# (в качестве разделителя - пробел, его можно не указывать, т.к. это значение по умолчанию)\n",
        "# (необходимый элемент списка - с индексом [1])\n",
        "costs_2[0].split()[1]"
      ],
      "metadata": {
        "id": "CNguUFY_AkeK"
      },
      "execution_count": null,
      "outputs": []
    },
    {
      "cell_type": "code",
      "source": [
        "# выделим валюту также с помощью метода split()\n",
        "# (в качестве разделителя - пробел, его можно не указывать, т.к. это значение по умолчанию)\n",
        "# (необходимый элемент списка - с индексом [1])\n",
        "costs_2[1].split()[1]"
      ],
      "metadata": {
        "id": "3k7YsivMBMC0"
      },
      "execution_count": null,
      "outputs": []
    },
    {
      "cell_type": "code",
      "source": [
        "# часто бывает, что необходимо избавиться от лишних пробелов в начале или в конце строки\n",
        "# для этой задачи применяется метод strip()\n",
        "# например, вычленим слово \"currency\" из примера выше (слева имеется один лишний пробел)\n",
        "costs_2[1].split()[0].strip()"
      ],
      "metadata": {
        "id": "LsI-S8UEBUbq"
      },
      "execution_count": null,
      "outputs": []
    },
    {
      "cell_type": "code",
      "source": [
        "# объединение кода в функции для каждой сущности\n",
        "# (следует добавлять в функции проверку на пропуски и их обработку, а также обработку исключений)\n",
        "\n",
        "def costs_func(costs_currency):\n",
        "  costs = (costs_currency.replace(\"'\", \"\").replace(\"{\", \"\").replace(\"}\", \"\"). replace(\":\", \"\")\n",
        "                         .split(\",\")[0]\n",
        "                         .split()[1]\n",
        "                         )\n",
        "  return costs\n",
        "\n",
        "\n",
        "def currency_func(costs_currency):\n",
        "  currency = (costs_currency.replace(\"'\", \"\").replace(\"{\", \"\").replace(\"}\", \"\"). replace(\":\", \"\")\n",
        "                         .split(\",\")[1]\n",
        "                         .split()[1]\n",
        "                         )\n",
        "  return currency"
      ],
      "metadata": {
        "id": "QJ9inB8GB3eL"
      },
      "execution_count": null,
      "outputs": []
    },
    {
      "cell_type": "code",
      "source": [
        "# проверка работоспособности функций на одном значении\n",
        "print(df_copy.costs[10])\n",
        "print(costs_func(df_copy.costs[10]))\n",
        "print(currency_func(df_copy.costs[10]))"
      ],
      "metadata": {
        "id": "YcneaFMrCz4S"
      },
      "execution_count": null,
      "outputs": []
    },
    {
      "cell_type": "code",
      "source": [
        "# применим функции ко всему столбцу, при этом создав для каждого признака отдельный столбец\n",
        "df_copy['costs_sum'] = df_copy['costs'].apply(costs_func)\n",
        "df_copy['currency'] = df_copy['costs'].apply(currency_func)"
      ],
      "metadata": {
        "id": "k1VpMXjX9jCQ"
      },
      "execution_count": null,
      "outputs": []
    },
    {
      "cell_type": "code",
      "source": [
        "# контроль результата\n",
        "df_copy[['costs_sum', 'currency']]"
      ],
      "metadata": {
        "id": "wasIOKKqzazG"
      },
      "execution_count": null,
      "outputs": []
    },
    {
      "cell_type": "code",
      "source": [
        "# исключим исходный столбец costs\n",
        "df_copy.drop(columns='costs', inplace=True)"
      ],
      "metadata": {
        "id": "WS5dQC3Jzx1y"
      },
      "execution_count": null,
      "outputs": []
    },
    {
      "cell_type": "code",
      "source": [
        "# переименуем столбец costs_sum в costs\n",
        "df_copy.rename(columns={'costs_sum': 'costs'}, inplace=True)"
      ],
      "metadata": {
        "id": "7RzlPz1E0Bjv"
      },
      "execution_count": null,
      "outputs": []
    },
    {
      "cell_type": "code",
      "source": [
        "# контроль результата\n",
        "df_copy.columns"
      ],
      "metadata": {
        "id": "gpY-g2Ew0VCM"
      },
      "execution_count": null,
      "outputs": []
    },
    {
      "cell_type": "code",
      "source": [
        "# контроль результата\n",
        "df_copy[['costs', 'currency']]"
      ],
      "metadata": {
        "id": "Wpi7i3cf0cFe"
      },
      "execution_count": null,
      "outputs": []
    },
    {
      "cell_type": "code",
      "source": [
        "# данные содержат информацию о валюте,\n",
        "# поэтому стоит проверить столец 'currency' на наличие разных валют\n",
        "# и для соизмеримости добавить дополнительный столбец с приведенными к единой валюте значениями\n",
        "# в одной из следующих тем"
      ],
      "metadata": {
        "id": "AWOHf5qN0kQw"
      },
      "execution_count": null,
      "outputs": []
    },
    {
      "cell_type": "markdown",
      "source": [
        "## 'games'"
      ],
      "metadata": {
        "id": "Xxlidu5snoCx"
      }
    },
    {
      "cell_type": "code",
      "source": [],
      "metadata": {
        "id": "4v-20GoenrVy"
      },
      "execution_count": null,
      "outputs": []
    },
    {
      "cell_type": "code",
      "source": [],
      "metadata": {
        "id": "BGCh2WrZGDhT"
      },
      "execution_count": null,
      "outputs": []
    },
    {
      "cell_type": "code",
      "source": [],
      "metadata": {
        "id": "SRhorqj2GUHe"
      },
      "execution_count": null,
      "outputs": []
    },
    {
      "cell_type": "code",
      "source": [],
      "metadata": {
        "id": "2be38eGeGYjR"
      },
      "execution_count": null,
      "outputs": []
    },
    {
      "cell_type": "code",
      "source": [],
      "metadata": {
        "id": "HfY4fbx8HdkK"
      },
      "execution_count": null,
      "outputs": []
    },
    {
      "cell_type": "code",
      "source": [],
      "metadata": {
        "id": "yxdaS1CqLW5P"
      },
      "execution_count": null,
      "outputs": []
    },
    {
      "cell_type": "code",
      "source": [],
      "metadata": {
        "id": "W1e7AalgPCFJ"
      },
      "execution_count": null,
      "outputs": []
    },
    {
      "cell_type": "code",
      "source": [],
      "metadata": {
        "id": "CRlct0ZpUja2"
      },
      "execution_count": null,
      "outputs": []
    },
    {
      "cell_type": "code",
      "source": [],
      "metadata": {
        "id": "xV4fduCJU7Lv"
      },
      "execution_count": null,
      "outputs": []
    },
    {
      "cell_type": "code",
      "source": [],
      "metadata": {
        "id": "Tg3NyXN7dIzP"
      },
      "execution_count": null,
      "outputs": []
    },
    {
      "cell_type": "code",
      "source": [],
      "metadata": {
        "id": "V-eJbovydIzQ"
      },
      "execution_count": null,
      "outputs": []
    },
    {
      "cell_type": "code",
      "source": [],
      "metadata": {
        "id": "EfNtNdsEdIzQ"
      },
      "execution_count": null,
      "outputs": []
    },
    {
      "cell_type": "code",
      "source": [],
      "metadata": {
        "id": "BrEg4V1tdIzR"
      },
      "execution_count": null,
      "outputs": []
    },
    {
      "cell_type": "code",
      "source": [
        "# данные представляют собой списки игр,\n",
        "# поэтому стоит дополнительно произвести их \"распаковку\"\n",
        "# и сохранить полученный датасет с целью последующего анализа\n",
        "# в одной из следующих тем"
      ],
      "metadata": {
        "id": "-rNkzJM4dIzR"
      },
      "execution_count": null,
      "outputs": []
    },
    {
      "cell_type": "markdown",
      "source": [
        "# **Преобразование данных в необходимый формат**"
      ],
      "metadata": {
        "id": "t6yBH9GzZmjy"
      }
    },
    {
      "cell_type": "code",
      "source": [
        "# обзор типов данных\n",
        "df_copy.dtypes"
      ],
      "metadata": {
        "id": "-7JdtZM7ceDa"
      },
      "execution_count": null,
      "outputs": []
    },
    {
      "cell_type": "markdown",
      "source": [
        "**Необходимо преобразовать** следующие признаки:\n",
        "1. 'bdate' - в формат даты и времени datetime\n",
        "2. 'last_seen' - в формат даты и времени datetime\n",
        "3. 'followers_count' - в формат целого числа int\n",
        "4. 'costs' - в формат числа с плавающей точкой float"
      ],
      "metadata": {
        "id": "HJY6ivVphEpB"
      }
    },
    {
      "cell_type": "markdown",
      "source": [
        "## 'bdate'"
      ],
      "metadata": {
        "id": "6xGcmj9nhw8s"
      }
    },
    {
      "cell_type": "code",
      "source": [
        "df_copy.bdate"
      ],
      "metadata": {
        "id": "113jLbybiElY"
      },
      "execution_count": null,
      "outputs": []
    },
    {
      "cell_type": "code",
      "source": [
        "df_copy.bdate = pd.to_datetime(df_copy.bdate, format=\"%d.%m.%Y\")\n",
        "df_copy.bdate"
      ],
      "metadata": {
        "id": "vfL7g4k7a3cr"
      },
      "execution_count": null,
      "outputs": []
    },
    {
      "cell_type": "markdown",
      "source": [
        "## 'last_seen'"
      ],
      "metadata": {
        "id": "EM34Ka0Ii_-r"
      }
    },
    {
      "cell_type": "code",
      "source": [
        "df_copy.last_seen"
      ],
      "metadata": {
        "id": "UMt96jETjAPS"
      },
      "execution_count": null,
      "outputs": []
    },
    {
      "cell_type": "code",
      "source": [
        "# данные представлены в формате Unix time\n",
        "df_copy.last_seen[0]"
      ],
      "metadata": {
        "id": "RKkWpwYWdR94"
      },
      "execution_count": null,
      "outputs": []
    },
    {
      "cell_type": "code",
      "source": [
        "# переведем значение в формат даты и времени с помощью метода to_datetime(),\n",
        "pd.to_datetime(df_copy.last_seen[0], unit='s', origin='unix')"
      ],
      "metadata": {
        "id": "U-gU7hngeay1"
      },
      "execution_count": null,
      "outputs": []
    },
    {
      "cell_type": "code",
      "source": [
        "# альтернативный метод Timestamp.utcfromtimestamp() дает аналогичный результат\n",
        "pd.Timestamp.utcfromtimestamp(df_copy.last_seen[0])"
      ],
      "metadata": {
        "id": "Pjx2YcItjcB4"
      },
      "execution_count": null,
      "outputs": []
    },
    {
      "cell_type": "code",
      "source": [
        "# применим ко всему столбцу\n",
        "df_copy.last_seen = pd.to_datetime(df_copy.last_seen, unit='s')\n",
        "df_copy.last_seen"
      ],
      "metadata": {
        "id": "ReoR_UKlmnM4"
      },
      "execution_count": null,
      "outputs": []
    },
    {
      "cell_type": "code",
      "source": [
        "# отобразим данный признак в формате \"ДД.ММ.ГГГГ\" с помощью метода dt.strftime()\n",
        "# (если впоследствии необходимо работать со значениями признака как с датой, то преобразование делать не нужно,\n",
        "# т.к. метод переводит значения в строковый формат)\n",
        "df_copy.last_seen = df_copy.last_seen.dt.strftime('%d.%m.%Y')\n",
        "df_copy.last_seen"
      ],
      "metadata": {
        "id": "VTTFTZbt2xsT"
      },
      "execution_count": null,
      "outputs": []
    },
    {
      "cell_type": "markdown",
      "source": [
        "## 'followers_count'"
      ],
      "metadata": {
        "id": "OnvyZhuIh-oX"
      }
    },
    {
      "cell_type": "code",
      "source": [
        "df_copy.followers_count"
      ],
      "metadata": {
        "id": "RNrVYdGIiFry"
      },
      "execution_count": null,
      "outputs": []
    },
    {
      "cell_type": "code",
      "source": [
        "# переведем значения из float в int с помощью метода astype()\n",
        "df_copy.followers_count = df_copy.followers_count.astype('int')\n",
        "df_copy.followers_count"
      ],
      "metadata": {
        "id": "x7tjQlUApawM"
      },
      "execution_count": null,
      "outputs": []
    },
    {
      "cell_type": "code",
      "source": [
        "# ошибка, связанная с наличием пропущенных значений по признаку\n",
        "# вместо классического питоновского типа данных 'int' применим тип данных 'Int64', используемый NumPy и Pandas\n",
        "df_copy.followers_count = df_copy.followers_count.astype('Int64')\n",
        "df_copy.followers_count"
      ],
      "metadata": {
        "id": "N0iDpew1qgSF"
      },
      "execution_count": null,
      "outputs": []
    },
    {
      "cell_type": "markdown",
      "source": [
        "## 'costs'"
      ],
      "metadata": {
        "id": "d0NfVOIIiBz1"
      }
    },
    {
      "cell_type": "code",
      "source": [
        "df_copy.costs"
      ],
      "metadata": {
        "id": "ZEkFWucaiGeK"
      },
      "execution_count": null,
      "outputs": []
    },
    {
      "cell_type": "code",
      "source": [
        "# переведем данные в числовой формат с помощью метода to_numeric()\n",
        "# параметр downcast='float' принудительно переводит в тип float\n",
        "df_copy.costs = pd.to_numeric(df_copy.costs, downcast='float')\n",
        "df_copy.costs"
      ],
      "metadata": {
        "id": "4Zz9ZMPUtpAK"
      },
      "execution_count": null,
      "outputs": []
    },
    {
      "cell_type": "markdown",
      "source": [
        "## Расчет дополнительных признаков"
      ],
      "metadata": {
        "id": "SC8a7xaHZ7fi"
      }
    },
    {
      "cell_type": "markdown",
      "source": [
        "### 'age'"
      ],
      "metadata": {
        "id": "Sl8o2IeU5xHz"
      }
    },
    {
      "cell_type": "code",
      "source": [
        "# для расчета необходимо из текущей даты вычесть дату рождения (признак \"bdate\")"
      ],
      "metadata": {
        "id": "lfxIdl2nvD8s"
      },
      "execution_count": null,
      "outputs": []
    },
    {
      "cell_type": "code",
      "source": [
        "# текущую дату можно получить с помощью метода Timestamp.today()\n",
        "current_day = pd.Timestamp.today()\n",
        "current_day"
      ],
      "metadata": {
        "id": "uEyHXssTZ4O0"
      },
      "execution_count": null,
      "outputs": []
    },
    {
      "cell_type": "code",
      "source": [
        "# извлечем значение года из даты с помощью атрибута year\n",
        "current_year = current_day.year\n",
        "current_year"
      ],
      "metadata": {
        "id": "7gnvc1fKxTdH"
      },
      "execution_count": null,
      "outputs": []
    },
    {
      "cell_type": "code",
      "source": [
        "# рассчитаем значения возраста и сохраним полученные значения в признак age\n",
        "# при этом необходимо каждую дату рождения перевести в значение года аналогично через атрибут year\n",
        "# для получения доступа к каждому значению объекта Series \"bdate\" используем метод apply() и lambda-функцию\n",
        "df_copy['age'] = current_year - df_copy.bdate.apply(lambda x: x.year)\n",
        "df_copy.age"
      ],
      "metadata": {
        "id": "JBBAUnpkwYEU"
      },
      "execution_count": null,
      "outputs": []
    },
    {
      "cell_type": "code",
      "source": [
        "# исключим исходный столбец bdate\n",
        "df_copy.drop(columns='bdate', inplace=True)"
      ],
      "metadata": {
        "id": "o6vHAtzYzXXG"
      },
      "execution_count": null,
      "outputs": []
    },
    {
      "cell_type": "code",
      "source": [
        "# контроль результата\n",
        "df_copy.columns"
      ],
      "metadata": {
        "id": "4zIM0uOGzXXI"
      },
      "execution_count": null,
      "outputs": []
    },
    {
      "cell_type": "markdown",
      "source": [
        "### 'costs_to_rur'"
      ],
      "metadata": {
        "id": "YAKroqA76HBA"
      }
    },
    {
      "cell_type": "code",
      "source": [
        "df_copy[['costs', 'currency']]"
      ],
      "metadata": {
        "id": "b2_XXtyGeJAr"
      },
      "execution_count": null,
      "outputs": []
    },
    {
      "cell_type": "code",
      "source": [
        "# проверим список уникальных значений с помощью метода unique()\n",
        "df_copy['currency'].unique()"
      ],
      "metadata": {
        "id": "Jgcokd4mThhm"
      },
      "execution_count": null,
      "outputs": []
    },
    {
      "cell_type": "code",
      "source": [
        "# необходимо привести значения к единой валюте - рублям\n",
        "# создадим словарь значений (курс валют выберем на текущую дату обработки данных)\n",
        "rates = dict(RUR=, USD=, EUR=, KZT=)"
      ],
      "metadata": {
        "id": "6gclLI3_Tz7L"
      },
      "execution_count": null,
      "outputs": []
    },
    {
      "cell_type": "code",
      "source": [
        "df_copy['costs_to_rur'] ="
      ],
      "metadata": {
        "id": "maZYrLTp6Zji"
      },
      "execution_count": null,
      "outputs": []
    },
    {
      "cell_type": "code",
      "source": [
        "# исключим столбцы costs и currency\n"
      ],
      "metadata": {
        "id": "tpT7MUEyVx00"
      },
      "execution_count": null,
      "outputs": []
    },
    {
      "cell_type": "code",
      "source": [
        "# контроль результата\n",
        "df_copy.columns"
      ],
      "metadata": {
        "id": "bcmypaSlW02C"
      },
      "execution_count": null,
      "outputs": []
    },
    {
      "cell_type": "markdown",
      "source": [
        "## Декодирование значений"
      ],
      "metadata": {
        "id": "Zk1aN9FUgMRZ"
      }
    },
    {
      "cell_type": "markdown",
      "source": [
        "### 'sex'"
      ],
      "metadata": {
        "id": "skM3ibNpjM9i"
      }
    },
    {
      "cell_type": "code",
      "source": [
        "# по тех документации ВКонтакте:\n",
        "# 1 - женский пол,\n",
        "# 2 - мужской пол,\n",
        "# 0 - пол не указан"
      ],
      "metadata": {
        "id": "7C9wD9pDgRGf"
      },
      "execution_count": null,
      "outputs": []
    },
    {
      "cell_type": "code",
      "source": [
        "# проверим список уникальных значений с помощью метода unique()\n",
        "df_copy.sex.unique()"
      ],
      "metadata": {
        "id": "DMt9Ia-D4v6j"
      },
      "execution_count": null,
      "outputs": []
    },
    {
      "cell_type": "code",
      "source": [
        "# создадим словарь значений в соответствии с тех документацией ВКонтакте\n",
        "sex_dict = {1: \"женский\", 2: \"мужской\", 0: \"не указан\"}"
      ],
      "metadata": {
        "id": "MChM-ZDsjPwU"
      },
      "execution_count": null,
      "outputs": []
    },
    {
      "cell_type": "code",
      "source": [
        "# декодируем значения\n",
        "# (для получения доступа к каждому значению объекта Series \"sex\" используем метод apply() и lambda-функцию)\n",
        "df_copy.sex = df_copy.sex.apply(lambda x: sex_dict[x])"
      ],
      "metadata": {
        "id": "gAJcpkze6h8u"
      },
      "execution_count": null,
      "outputs": []
    },
    {
      "cell_type": "code",
      "source": [
        "# контроль результата\n",
        "df_copy.sex.unique()"
      ],
      "metadata": {
        "id": "T1aykCAlRkz_"
      },
      "execution_count": null,
      "outputs": []
    },
    {
      "cell_type": "markdown",
      "source": [
        "## Форматирование текстовых данных"
      ],
      "metadata": {
        "id": "3FJQHXfPgTzK"
      }
    },
    {
      "cell_type": "markdown",
      "source": [
        "**Необходимо проверить и отформатировать** следующие признаки:\n",
        "1. 'city'\n",
        "2. 'country'"
      ],
      "metadata": {
        "id": "fUTKuzoijd0J"
      }
    },
    {
      "cell_type": "markdown",
      "source": [
        "### 'city'"
      ],
      "metadata": {
        "id": "BvMUT3_zjeeI"
      }
    },
    {
      "cell_type": "code",
      "source": [
        "# проверим список уникальных значений с помощью метода unique()\n",
        "# при этом сначала выведем количество уникальных значений, используя функцию len(),\n",
        "# а сам список отсортируем по алфавиту с помощью функции sorted() для удобства проверки\n",
        "print(len(df_copy.city.unique()))\n",
        "sorted(df_copy.city.unique())"
      ],
      "metadata": {
        "id": "nIH3U1uHgjpX"
      },
      "execution_count": null,
      "outputs": []
    },
    {
      "cell_type": "markdown",
      "source": [
        "В датасете 287 уникальных значений по признаку city.\n",
        "Изучив значения, можно выделить следующие проблемы:\n",
        "1. часть названий на иностранном языке, часть на русском (в данном случае иностранные города оставим на иностранном языке, осуществим замену только по городам - 'Moscow' и 'Saint-Petersburg'.\n",
        "2. большинство названий - с заглавной буквы, но встречаются начинающиеся со строчной - 'москва', 'санкт-петербург' (целесообразно привести все буквы к единому регистру)"
      ],
      "metadata": {
        "id": "PoLw8CFZicsS"
      }
    },
    {
      "cell_type": "code",
      "source": [
        "# приведем значения к единому регистру (строчным буквам) с помощью метода str.lower()\n",
        "# (к заглавным буквам можно привести с помощью метода str.upper())\n",
        "df_copy.city = df_copy.city.str.lower()\n",
        "df_copy.city"
      ],
      "metadata": {
        "id": "qwUrITXwXo4U"
      },
      "execution_count": null,
      "outputs": []
    },
    {
      "cell_type": "code",
      "source": [
        "# заменим значение 'moscow' на 'москва',\n",
        "# используя конструкцию df.loc[df[\"column_name\"] == \"some_value\", \"column_name\"] = \"значение\"\n",
        "# и указав точное значение 'moscow' в условии фильтра\n",
        "df_copy.loc[df_copy.city == 'moscow', 'city'] = 'москва'"
      ],
      "metadata": {
        "id": "jrc6XAmrlc7W"
      },
      "execution_count": null,
      "outputs": []
    },
    {
      "cell_type": "code",
      "source": [
        "# заменим значение 'saint-petersburg' на 'санкт-петербург',\n",
        "# используя конструкцию df.loc[df[\"column_name\"] == \"some_value\", \"column_name\"] = \"значение\"\n",
        "# и указав часть подстроки 'petersburg' в методе str.contains() в качестве фильтра\n",
        "df_copy.loc[df_copy.city.str.contains('petersburg'), 'city'] = 'санкт-петербург'"
      ],
      "metadata": {
        "id": "xmN8ZmHAosCU"
      },
      "execution_count": null,
      "outputs": []
    },
    {
      "cell_type": "code",
      "source": [
        "# контроль результата\n",
        "print(f'Кол-во уникальных значений признака city: {len(df_copy.city.unique())}')\n",
        "print()\n",
        "print(f'Проверка на наличие значения \"moscow\" в \"city\": {df_copy[df_copy.city == \"moscow\"]}')\n",
        "print()\n",
        "df_copy.city"
      ],
      "metadata": {
        "id": "UKBdkXjXpx_n"
      },
      "execution_count": null,
      "outputs": []
    },
    {
      "cell_type": "markdown",
      "source": [
        "### 'country'"
      ],
      "metadata": {
        "id": "jzSd6KBRjxxp"
      }
    },
    {
      "cell_type": "code",
      "source": [
        "# проверим список уникальных значений с помощью метода unique()\n",
        "# при этом сначала выведем количество уникальных значений, используя функцию len(),\n",
        "# а сам список отсортируем по алфавиту с помощью функции sorted() для удобства проверки\n",
        "print(len(df_copy.country.unique()))\n",
        "sorted(df_copy.country.unique())"
      ],
      "metadata": {
        "id": "1VbfyyCOjx_W"
      },
      "execution_count": null,
      "outputs": []
    },
    {
      "cell_type": "code",
      "source": [
        "# 40 уникальных значений по признаку 'country'\n",
        "# все значения на русском языке и нет повторяющихся, но написанных в разных регистрах\n",
        "# однако для удобства дальнейшего анализа также переведем значения в единый регистр букв\n",
        "df_copy.country = df_copy.country.str.lower()\n",
        "df_copy.country"
      ],
      "metadata": {
        "id": "RVa5o9iasDxD"
      },
      "execution_count": null,
      "outputs": []
    },
    {
      "cell_type": "markdown",
      "source": [
        "# **Проверка и сохранение датасета**"
      ],
      "metadata": {
        "id": "WG2AYwlJglrt"
      }
    },
    {
      "cell_type": "markdown",
      "source": [
        "### Общий датасет"
      ],
      "metadata": {
        "id": "__D5jyp5kCSa"
      }
    },
    {
      "cell_type": "code",
      "source": [
        "# обзор размеров датафрейма\n",
        "df_copy.shape"
      ],
      "metadata": {
        "id": "2pRZISQAtIn9"
      },
      "execution_count": null,
      "outputs": []
    },
    {
      "cell_type": "code",
      "source": [
        "# обзор типов данных, пропущенных значений, диапазона индексов\n",
        "df_copy.info()"
      ],
      "metadata": {
        "id": "LIVcoF1ft1CK"
      },
      "execution_count": null,
      "outputs": []
    },
    {
      "cell_type": "code",
      "source": [
        "# обзор содержания датасета\n",
        "df_copy.head()"
      ],
      "metadata": {
        "id": "UP_ClAw1tYSj"
      },
      "execution_count": null,
      "outputs": []
    },
    {
      "cell_type": "code",
      "source": [
        "# данные удовлетворяют условиям задания\n",
        "# последний штрих: расположим столбцы в порядке, указанном в условии задания\n",
        "columns = ['id', 'age', 'sex', 'city', 'country', 'followers_count', 'last_seen', 'costs_to_rur', 'games']\n",
        "df_copy = df_copy[columns]"
      ],
      "metadata": {
        "id": "F0BhyxakvHTJ"
      },
      "execution_count": null,
      "outputs": []
    },
    {
      "cell_type": "code",
      "source": [
        "# контроль результата\n",
        "df_copy.head(1)"
      ],
      "metadata": {
        "id": "X7vL6Rsjxl8W"
      },
      "execution_count": null,
      "outputs": []
    },
    {
      "cell_type": "code",
      "source": [
        "# сохраним результаты в файл в формате xlsx,\n",
        "# при этом не записывая столбец с индексами, указав параметр index=False\n",
        "df_copy.to_excel('shop_users_clean.xlsx', index=False)"
      ],
      "metadata": {
        "id": "LaPFO9wsg16H"
      },
      "execution_count": null,
      "outputs": []
    },
    {
      "cell_type": "markdown",
      "source": [
        "### Датасет с \"распакованными\" играми"
      ],
      "metadata": {
        "id": "xdUMmB2ckApB"
      }
    },
    {
      "cell_type": "code",
      "source": [
        "# дополнительно \"распакуем\" датасет по спискам игр признака 'games' с помощью метода explode()\n",
        "df_games = df_copy.explode('games')\n",
        "df_games"
      ],
      "metadata": {
        "id": "ILiLvqsXypC8"
      },
      "execution_count": null,
      "outputs": []
    },
    {
      "cell_type": "code",
      "source": [
        "# для каждого значения из списков игр была скопирована вся информация о пользователях\n",
        "# например, для пользователя с id=19 - три значения с индексом 0"
      ],
      "metadata": {
        "id": "p1HDi4C-z44a"
      },
      "execution_count": null,
      "outputs": []
    },
    {
      "cell_type": "code",
      "source": [
        "# следует перезаписать индексы по порядку (в нашем случае нет необходимости сохранять исходные индексы)\n",
        "# либо использовать метод reset_index(), используемый ранее,\n",
        "# либо передать параметр ignore_index=True в метод explode()\n",
        "df_games = df_copy.explode('games', ignore_index=True)\n",
        "df_games"
      ],
      "metadata": {
        "id": "3EVfcSoV0ko7"
      },
      "execution_count": null,
      "outputs": []
    },
    {
      "cell_type": "code",
      "source": [
        "# проверим список уникальных значений с помощью метода unique()\n",
        "# при этом сначала выведем количество уникальных значений, используя функцию len()\n",
        "print(len(df_games.games.unique()))\n",
        "df_games.games.unique()"
      ],
      "metadata": {
        "id": "WZRqv_tr1fF2"
      },
      "execution_count": null,
      "outputs": []
    },
    {
      "cell_type": "code",
      "source": [
        "# 17 уникальных значений по признаку 'games'\n",
        "# все значения на английском языке и нет повторяющихся, но написанных в разных регистрах\n",
        "# в данном случае не будем переводить игры в единый регистр букв"
      ],
      "metadata": {
        "id": "rY07k1362AZ0"
      },
      "execution_count": null,
      "outputs": []
    },
    {
      "cell_type": "code",
      "source": [
        "# @title\n",
        "# сохраним результаты в файл в формате csv\n",
        "df_games.to_csv('df_games.csv')"
      ],
      "metadata": {
        "id": "W5aJuBvTkKDr"
      },
      "execution_count": null,
      "outputs": []
    },
    {
      "cell_type": "markdown",
      "source": [
        "<font size=5>*Можешь приступить к анализу! <br>Большое спасибо за внимание! И удачи на интенсиве!<br>**</font>\n",
        "![](https://img.freepik.com/free-vector/businessman-holding-pencil-at-big-complete-checklist-with-tick-marks_1150-35019.jpg?w=740&t=st=1667295906~exp=1667296506~hmac=693ecc50efa7dd3d4563cc5c57f4f9f3b9ceac3c5038167bf0c8c4afbbe2d420)\n",
        "<font color=\"grey\" size=\"1\"><a href=\"https://ru.freepik.com/free-vector/businessman-holding-pencil-at-big-complete-checklist-with-tick-marks_11879344.htm#query=businessman-holding-pencil-at-big-complete&position=0&from_view=search&track=sph\">Изображение от jcomp</a> на Freepik</font>"
      ],
      "metadata": {
        "id": "4hrh4uCMk9SR"
      }
    }
  ]
}