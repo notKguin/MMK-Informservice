{
 "cells": [
  {
   "cell_type": "code",
   "execution_count": 1,
   "metadata": {},
   "outputs": [
    {
     "data": {
      "text/html": [
       "<div>\n",
       "<style scoped>\n",
       "    .dataframe tbody tr th:only-of-type {\n",
       "        vertical-align: middle;\n",
       "    }\n",
       "\n",
       "    .dataframe tbody tr th {\n",
       "        vertical-align: top;\n",
       "    }\n",
       "\n",
       "    .dataframe thead th {\n",
       "        text-align: right;\n",
       "    }\n",
       "</style>\n",
       "<table border=\"1\" class=\"dataframe\">\n",
       "  <thead>\n",
       "    <tr style=\"text-align: right;\">\n",
       "      <th></th>\n",
       "      <th>id</th>\n",
       "      <th>price</th>\n",
       "      <th>area</th>\n",
       "      <th>rooms</th>\n",
       "      <th>district</th>\n",
       "    </tr>\n",
       "  </thead>\n",
       "  <tbody>\n",
       "    <tr>\n",
       "      <th>0</th>\n",
       "      <td>1</td>\n",
       "      <td>11.0</td>\n",
       "      <td>85.0</td>\n",
       "      <td>5</td>\n",
       "      <td>B</td>\n",
       "    </tr>\n",
       "    <tr>\n",
       "      <th>1</th>\n",
       "      <td>2</td>\n",
       "      <td>9.7</td>\n",
       "      <td>88.0</td>\n",
       "      <td>5</td>\n",
       "      <td>C</td>\n",
       "    </tr>\n",
       "    <tr>\n",
       "      <th>2</th>\n",
       "      <td>3</td>\n",
       "      <td>11.3</td>\n",
       "      <td>96.0</td>\n",
       "      <td>3</td>\n",
       "      <td>C</td>\n",
       "    </tr>\n",
       "    <tr>\n",
       "      <th>3</th>\n",
       "      <td>4</td>\n",
       "      <td>13.0</td>\n",
       "      <td>96.0</td>\n",
       "      <td>3</td>\n",
       "      <td>B</td>\n",
       "    </tr>\n",
       "    <tr>\n",
       "      <th>4</th>\n",
       "      <td>5</td>\n",
       "      <td>9.5</td>\n",
       "      <td>59.0</td>\n",
       "      <td>5</td>\n",
       "      <td>B</td>\n",
       "    </tr>\n",
       "  </tbody>\n",
       "</table>\n",
       "</div>"
      ],
      "text/plain": [
       "   id  price  area  rooms district\n",
       "0   1   11.0  85.0      5        B\n",
       "1   2    9.7  88.0      5        C\n",
       "2   3   11.3  96.0      3        C\n",
       "3   4   13.0  96.0      3        B\n",
       "4   5    9.5  59.0      5        B"
      ]
     },
     "execution_count": 1,
     "metadata": {},
     "output_type": "execute_result"
    }
   ],
   "source": [
    "\n",
    "import pandas as pd\n",
    "\n",
    "file_path = r'C:\\Users\\astratova140433\\Desktop\\Алена Астратова\\Обучение моделям\\Machine Learning Engineer\\normal_data.csv'\n",
    "file_path1 = r'C:\\Users\\astratova140433\\Desktop\\Алена Астратова\\Обучение моделям\\Machine Learning Engineer\\skewed_df.csv'\n",
    "df = pd.read_csv(file_path, delimiter=',')\n",
    "df1 = pd.read_csv(file_path1, delimiter=',')\n",
    "df.head()\n"
   ]
  },
  {
   "cell_type": "code",
   "execution_count": 2,
   "metadata": {},
   "outputs": [
    {
     "data": {
      "image/png": "[encoded data removed]",
      "text/plain": [
       "<Figure size 1200x500 with 2 Axes>"
      ]
     },
     "metadata": {},
     "output_type": "display_data"
    }
   ],
   "source": [
    "import matplotlib.pyplot as plt\n",
    "\n",
    "plt.figure(figsize=(12, 5))\n",
    "plt.subplot(1, 2, 1)\n",
    "plt.hist(df['price'], bins=20)\n",
    "plt.title('Нормальное распределение цен')\n",
    "\n",
    "plt.subplot(1, 2, 2)\n",
    "plt.hist(df1['price'], bins=20)\n",
    "plt.title('Ненормальное распределение цен')\n",
    "plt.show()"
   ]
  },
  {
   "cell_type": "code",
   "execution_count": 3,
   "metadata": {},
   "outputs": [],
   "source": [
    "from scipy import stats"
   ]
  },
  {
   "cell_type": "markdown",
   "metadata": {},
   "source": [
    "**Тест Шапиро-Уилка**"
   ]
  },
  {
   "cell_type": "code",
   "execution_count": 4,
   "metadata": {},
   "outputs": [
    {
     "data": {
      "text/plain": [
       "ShapiroResult(statistic=0.9954105615615845, pvalue=0.8082764148712158)"
      ]
     },
     "execution_count": 4,
     "metadata": {},
     "output_type": "execute_result"
    }
   ],
   "source": [
    "stats.shapiro(df.price) # 0.16>0.05 значит данные распределены нормально"
   ]
  },
  {
   "cell_type": "code",
   "execution_count": 5,
   "metadata": {},
   "outputs": [
    {
     "data": {
      "text/plain": [
       "ShapiroResult(statistic=0.6772615909576416, pvalue=2.458047323323163e-19)"
      ]
     },
     "execution_count": 5,
     "metadata": {},
     "output_type": "execute_result"
    }
   ],
   "source": [
    "stats.shapiro(df1.price) # <0.05 значит данные не распределены нормально"
   ]
  },
  {
   "cell_type": "markdown",
   "metadata": {},
   "source": [
    "  **Тест Колмогорова-Смирнова (для больших выборок)** \n",
    "\n"
   ]
  },
  {
   "cell_type": "markdown",
   "metadata": {
    "notebookRunGroups": {
     "groupValue": "1"
    }
   },
   "source": [
    "Берет столбец price из DataFrame df\n",
    "Удаляет пропущенные значения (dropna())\n",
    "\n",
    "Проверяет на соответствие нормальному распределению с параметрами:\n",
    "\n",
    "- среднее (mean)\n",
    "\n",
    "- стандартное отклонение (std) из самих данных\n",
    "\n",
    "Результат выводится в виде кортежа: (статистика, p-value)\n",
    "\n",
    "Для интерпретации:\n",
    "\n",
    "Если p-value > 0.05 - распределение не отличается от нормального\n",
    "\n",
    "Если p-value <= 0.05 - распределение ненормальное"
   ]
  },
  {
   "cell_type": "code",
   "execution_count": 6,
   "metadata": {},
   "outputs": [],
   "source": [
    "from scipy.stats import kstest"
   ]
  },
  {
   "cell_type": "code",
   "execution_count": 7,
   "metadata": {},
   "outputs": [
    {
     "data": {
      "text/plain": [
       "KstestResult(statistic=0.04254637444113718, pvalue=0.8466506495228556, statistic_location=10.8, statistic_sign=1)"
      ]
     },
     "execution_count": 7,
     "metadata": {},
     "output_type": "execute_result"
    }
   ],
   "source": [
    "kstest(df.price.dropna(), 'norm', args=(df.price.mean(), df.price.std()))"
   ]
  },
  {
   "cell_type": "code",
   "execution_count": 8,
   "metadata": {},
   "outputs": [
    {
     "data": {
      "text/plain": [
       "KstestResult(statistic=0.28559865923025174, pvalue=6.230454329280864e-15, statistic_location=12.126, statistic_sign=1)"
      ]
     },
     "execution_count": 8,
     "metadata": {},
     "output_type": "execute_result"
    }
   ],
   "source": [
    "kstest(df1.price.dropna(), 'norm', args=(df1.price.mean(), df1.price.std()))"
   ]
  },
  {
   "cell_type": "markdown",
   "metadata": {},
   "source": [
    "**Проверим гипотезу:**\n",
    "\n",
    "Нулевая гипотеза (H₀): Цены в районах A и C не различаются.\n",
    "\n",
    "Альтернатива (H₁): Цены различаются.\n",
    "\n",
    "Решение:\n",
    "\n",
    "Если p-value < 0.05 → отвергаем H₀ (различия статистически значимы).\n",
    "\n",
    "Если p-value ≥ 0.05 → недостаточно оснований отвергнуть H₀."
   ]
  },
  {
   "cell_type": "code",
   "execution_count": 9,
   "metadata": {},
   "outputs": [
    {
     "data": {
      "text/html": [
       "<div>\n",
       "<style scoped>\n",
       "    .dataframe tbody tr th:only-of-type {\n",
       "        vertical-align: middle;\n",
       "    }\n",
       "\n",
       "    .dataframe tbody tr th {\n",
       "        vertical-align: top;\n",
       "    }\n",
       "\n",
       "    .dataframe thead th {\n",
       "        text-align: right;\n",
       "    }\n",
       "</style>\n",
       "<table border=\"1\" class=\"dataframe\">\n",
       "  <thead>\n",
       "    <tr style=\"text-align: right;\">\n",
       "      <th></th>\n",
       "      <th>id</th>\n",
       "      <th>price</th>\n",
       "      <th>area</th>\n",
       "      <th>rooms</th>\n",
       "      <th>district</th>\n",
       "    </tr>\n",
       "  </thead>\n",
       "  <tbody>\n",
       "    <tr>\n",
       "      <th>6</th>\n",
       "      <td>7</td>\n",
       "      <td>13.2</td>\n",
       "      <td>88.0</td>\n",
       "      <td>3</td>\n",
       "      <td>A</td>\n",
       "    </tr>\n",
       "    <tr>\n",
       "      <th>9</th>\n",
       "      <td>10</td>\n",
       "      <td>11.1</td>\n",
       "      <td>138.0</td>\n",
       "      <td>3</td>\n",
       "      <td>A</td>\n",
       "    </tr>\n",
       "    <tr>\n",
       "      <th>10</th>\n",
       "      <td>11</td>\n",
       "      <td>9.1</td>\n",
       "      <td>89.0</td>\n",
       "      <td>4</td>\n",
       "      <td>A</td>\n",
       "    </tr>\n",
       "    <tr>\n",
       "      <th>16</th>\n",
       "      <td>17</td>\n",
       "      <td>8.0</td>\n",
       "      <td>68.0</td>\n",
       "      <td>3</td>\n",
       "      <td>A</td>\n",
       "    </tr>\n",
       "    <tr>\n",
       "      <th>18</th>\n",
       "      <td>19</td>\n",
       "      <td>8.2</td>\n",
       "      <td>73.0</td>\n",
       "      <td>4</td>\n",
       "      <td>A</td>\n",
       "    </tr>\n",
       "  </tbody>\n",
       "</table>\n",
       "</div>"
      ],
      "text/plain": [
       "    id  price   area  rooms district\n",
       "6    7   13.2   88.0      3        A\n",
       "9   10   11.1  138.0      3        A\n",
       "10  11    9.1   89.0      4        A\n",
       "16  17    8.0   68.0      3        A\n",
       "18  19    8.2   73.0      4        A"
      ]
     },
     "execution_count": 9,
     "metadata": {},
     "output_type": "execute_result"
    }
   ],
   "source": [
    "# Фильтрация по району 'A'\n",
    "df_a = df[df['district'] == 'A'].copy() \n",
    "df_a.head()"
   ]
  },
  {
   "cell_type": "code",
   "execution_count": 10,
   "metadata": {},
   "outputs": [
    {
     "data": {
      "text/html": [
       "<div>\n",
       "<style scoped>\n",
       "    .dataframe tbody tr th:only-of-type {\n",
       "        vertical-align: middle;\n",
       "    }\n",
       "\n",
       "    .dataframe tbody tr th {\n",
       "        vertical-align: top;\n",
       "    }\n",
       "\n",
       "    .dataframe thead th {\n",
       "        text-align: right;\n",
       "    }\n",
       "</style>\n",
       "<table border=\"1\" class=\"dataframe\">\n",
       "  <thead>\n",
       "    <tr style=\"text-align: right;\">\n",
       "      <th></th>\n",
       "      <th>id</th>\n",
       "      <th>price</th>\n",
       "      <th>area</th>\n",
       "      <th>rooms</th>\n",
       "      <th>district</th>\n",
       "    </tr>\n",
       "  </thead>\n",
       "  <tbody>\n",
       "    <tr>\n",
       "      <th>1</th>\n",
       "      <td>2</td>\n",
       "      <td>9.7</td>\n",
       "      <td>88.0</td>\n",
       "      <td>5</td>\n",
       "      <td>C</td>\n",
       "    </tr>\n",
       "    <tr>\n",
       "      <th>2</th>\n",
       "      <td>3</td>\n",
       "      <td>11.3</td>\n",
       "      <td>96.0</td>\n",
       "      <td>3</td>\n",
       "      <td>C</td>\n",
       "    </tr>\n",
       "    <tr>\n",
       "      <th>5</th>\n",
       "      <td>6</td>\n",
       "      <td>9.5</td>\n",
       "      <td>66.0</td>\n",
       "      <td>4</td>\n",
       "      <td>C</td>\n",
       "    </tr>\n",
       "    <tr>\n",
       "      <th>7</th>\n",
       "      <td>8</td>\n",
       "      <td>11.5</td>\n",
       "      <td>88.0</td>\n",
       "      <td>3</td>\n",
       "      <td>C</td>\n",
       "    </tr>\n",
       "    <tr>\n",
       "      <th>14</th>\n",
       "      <td>15</td>\n",
       "      <td>6.6</td>\n",
       "      <td>75.0</td>\n",
       "      <td>3</td>\n",
       "      <td>C</td>\n",
       "    </tr>\n",
       "  </tbody>\n",
       "</table>\n",
       "</div>"
      ],
      "text/plain": [
       "    id  price  area  rooms district\n",
       "1    2    9.7  88.0      5        C\n",
       "2    3   11.3  96.0      3        C\n",
       "5    6    9.5  66.0      4        C\n",
       "7    8   11.5  88.0      3        C\n",
       "14  15    6.6  75.0      3        C"
      ]
     },
     "execution_count": 10,
     "metadata": {},
     "output_type": "execute_result"
    }
   ],
   "source": [
    "# Фильтрация по району 'С'\n",
    "df_c = df[df['district'] == 'C'].copy() \n",
    "df_c.head()"
   ]
  },
  {
   "cell_type": "code",
   "execution_count": 11,
   "metadata": {},
   "outputs": [
    {
     "data": {
      "image/png": "[encoded data removed]",
      "text/plain": [
       "<Figure size 1200x500 with 2 Axes>"
      ]
     },
     "metadata": {},
     "output_type": "display_data"
    }
   ],
   "source": [
    "plt.figure(figsize=(12, 5))\n",
    "plt.subplot(1, 2, 1)\n",
    "plt.hist(df_a['price'], bins=20)\n",
    "plt.title('Район A')\n",
    "\n",
    "plt.subplot(1, 2, 2)\n",
    "plt.hist(df_c['price'], bins=20)\n",
    "plt.title('Район C')\n",
    "plt.show()"
   ]
  },
  {
   "cell_type": "markdown",
   "metadata": {},
   "source": [
    "Тест Шапиро-Уилка"
   ]
  },
  {
   "cell_type": "code",
   "execution_count": 12,
   "metadata": {},
   "outputs": [
    {
     "data": {
      "text/plain": [
       "ShapiroResult(statistic=0.9693997502326965, pvalue=0.10727391391992569)"
      ]
     },
     "execution_count": 12,
     "metadata": {},
     "output_type": "execute_result"
    }
   ],
   "source": [
    "stats.shapiro(df_a.price) # 0.11>0.05 значит данные распределены нормально"
   ]
  },
  {
   "cell_type": "code",
   "execution_count": 13,
   "metadata": {},
   "outputs": [
    {
     "data": {
      "text/plain": [
       "ShapiroResult(statistic=0.9837847948074341, pvalue=0.5323399305343628)"
      ]
     },
     "execution_count": 13,
     "metadata": {},
     "output_type": "execute_result"
    }
   ],
   "source": [
    "stats.shapiro(df_c.price) # 0.53>0.05 значит данные распределены нормально"
   ]
  },
  {
   "cell_type": "markdown",
   "metadata": {},
   "source": [
    "**Тест Левена**\n",
    "\n",
    "Используется для проверки следующей гипотезы:\n",
    "\n",
    "`H0: Выборки имеют равные дисперсии`"
   ]
  },
  {
   "cell_type": "code",
   "execution_count": 14,
   "metadata": {},
   "outputs": [
    {
     "data": {
      "text/plain": [
       "LeveneResult(statistic=0.8982557214660705, pvalue=0.34500830352744627)"
      ]
     },
     "execution_count": 14,
     "metadata": {},
     "output_type": "execute_result"
    }
   ],
   "source": [
    "stats.levene(df_a.price, df_c.price) # 0.345>0.05 значит дисперсии равны"
   ]
  },
  {
   "cell_type": "markdown",
   "metadata": {},
   "source": [
    "**Т-Критерий Стьюдента**\n",
    "\n",
    "Используется для проверки следующей гипотезы:\n",
    "\n",
    "`H0: Средние в выборках равны`"
   ]
  },
  {
   "cell_type": "code",
   "execution_count": 15,
   "metadata": {},
   "outputs": [
    {
     "data": {
      "text/plain": [
       "Ttest_indResult(statistic=0.8424397235992488, pvalue=0.4010890815967827)"
      ]
     },
     "execution_count": 15,
     "metadata": {},
     "output_type": "execute_result"
    }
   ],
   "source": [
    "stats.ttest_ind(df_a.price, df_c.price) #> 0.05 значит цены в районах не различаются"
   ]
  },
  {
   "cell_type": "markdown",
   "metadata": {},
   "source": [
    "Загрузим новый датафрейм"
   ]
  },
  {
   "cell_type": "code",
   "execution_count": 16,
   "metadata": {},
   "outputs": [
    {
     "data": {
      "text/html": [
       "<div>\n",
       "<style scoped>\n",
       "    .dataframe tbody tr th:only-of-type {\n",
       "        vertical-align: middle;\n",
       "    }\n",
       "\n",
       "    .dataframe tbody tr th {\n",
       "        vertical-align: top;\n",
       "    }\n",
       "\n",
       "    .dataframe thead th {\n",
       "        text-align: right;\n",
       "    }\n",
       "</style>\n",
       "<table border=\"1\" class=\"dataframe\">\n",
       "  <thead>\n",
       "    <tr style=\"text-align: right;\">\n",
       "      <th></th>\n",
       "      <th>Район D (₽)</th>\n",
       "      <th>Район E (₽)</th>\n",
       "    </tr>\n",
       "  </thead>\n",
       "  <tbody>\n",
       "    <tr>\n",
       "      <th>0</th>\n",
       "      <td>10496714</td>\n",
       "      <td>4169258</td>\n",
       "    </tr>\n",
       "    <tr>\n",
       "      <th>1</th>\n",
       "      <td>9861735</td>\n",
       "      <td>6158709</td>\n",
       "    </tr>\n",
       "    <tr>\n",
       "      <th>2</th>\n",
       "      <td>10647688</td>\n",
       "      <td>6314570</td>\n",
       "    </tr>\n",
       "    <tr>\n",
       "      <th>3</th>\n",
       "      <td>11523029</td>\n",
       "      <td>5395445</td>\n",
       "    </tr>\n",
       "    <tr>\n",
       "      <th>4</th>\n",
       "      <td>9765846</td>\n",
       "      <td>6677428</td>\n",
       "    </tr>\n",
       "  </tbody>\n",
       "</table>\n",
       "</div>"
      ],
      "text/plain": [
       "   Район D (₽)  Район E (₽)\n",
       "0     10496714      4169258\n",
       "1      9861735      6158709\n",
       "2     10647688      6314570\n",
       "3     11523029      5395445\n",
       "4      9765846      6677428"
      ]
     },
     "execution_count": 16,
     "metadata": {},
     "output_type": "execute_result"
    }
   ],
   "source": [
    "file_path2 = r'C:\\Users\\astratova140433\\Desktop\\Алена Астратова\\Обучение моделям\\Machine Learning Engineer\\df_district.csv'\n",
    "df_district = pd.read_csv(file_path2, delimiter=',')\n",
    "df_district.head()"
   ]
  },
  {
   "cell_type": "code",
   "execution_count": 17,
   "metadata": {},
   "outputs": [
    {
     "data": {
      "image/png": "[encoded data removed]",
      "text/plain": [
       "<Figure size 1000x600 with 1 Axes>"
      ]
     },
     "metadata": {},
     "output_type": "display_data"
    }
   ],
   "source": [
    "import matplotlib.pyplot as plt\n",
    "\n",
    "plt.figure(figsize=(10, 6))\n",
    "plt.hist(df_district['Район D (₽)'], bins=20, alpha=0.7, label='Район D', color='red')\n",
    "plt.hist(df_district['Район E (₽)'], bins=20, alpha=0.7, label='Район E', color='orange')\n",
    "plt.legend()\n",
    "plt.title('Распределение цен в районах D и E')\n",
    "plt.xlabel('Цена (₽)')\n",
    "plt.ylabel('Количество')\n",
    "plt.show()"
   ]
  },
  {
   "cell_type": "code",
   "execution_count": 18,
   "metadata": {},
   "outputs": [
    {
     "name": "stdout",
     "output_type": "stream",
     "text": [
      "ShapiroResult(statistic=0.9898831844329834, pvalue=0.6551515460014343)\n",
      "ShapiroResult(statistic=0.9775339365005493, pvalue=0.08525514602661133)\n"
     ]
    }
   ],
   "source": [
    "print(stats.shapiro(df_district['Район D (₽)'],) )\n",
    "print(stats.shapiro(df_district['Район E (₽)'],) )"
   ]
  },
  {
   "cell_type": "code",
   "execution_count": 19,
   "metadata": {},
   "outputs": [
    {
     "data": {
      "text/plain": [
       "LeveneResult(statistic=36.988271512443276, pvalue=6.024094989636399e-09)"
      ]
     },
     "execution_count": 19,
     "metadata": {},
     "output_type": "execute_result"
    }
   ],
   "source": [
    "stats.levene(df_district['Район D (₽)'], df_district['Район E (₽)']) # pvalue>0.05 значит дисперсии НЕ равны"
   ]
  },
  {
   "cell_type": "markdown",
   "metadata": {},
   "source": [
    "**Т-Критерий Уэлча**\n",
    "\n",
    "Модификация критерия Стьюдента для выборок с неравными дисперсиями"
   ]
  },
  {
   "cell_type": "code",
   "execution_count": 20,
   "metadata": {},
   "outputs": [
    {
     "data": {
      "text/plain": [
       "Ttest_indResult(statistic=13.49835658506654, pvalue=3.2344662390897636e-27)"
      ]
     },
     "execution_count": 20,
     "metadata": {},
     "output_type": "execute_result"
    }
   ],
   "source": [
    "stats.ttest_ind(df_district['Район D (₽)'], df_district['Район E (₽)'], equal_var=False) # pvalue< 0.05 значит цены в районах различаются"
   ]
  },
  {
   "cell_type": "code",
   "execution_count": 21,
   "metadata": {},
   "outputs": [
    {
     "data": {
      "text/plain": [
       "Ttest_indResult(statistic=13.49835658506654, pvalue=1.6172331195448818e-27)"
      ]
     },
     "execution_count": 21,
     "metadata": {},
     "output_type": "execute_result"
    }
   ],
   "source": [
    "stats.ttest_ind(df_district['Район D (₽)'], df_district['Район E (₽)'], equal_var=False, alternative='greater') #проверяем выше ли цены в районе D"
   ]
  },
  {
   "cell_type": "code",
   "execution_count": 23,
   "metadata": {},
   "outputs": [
    {
     "data": {
      "text/plain": [
       "Ttest_indResult(statistic=13.49835658506654, pvalue=1.0)"
      ]
     },
     "execution_count": 23,
     "metadata": {},
     "output_type": "execute_result"
    }
   ],
   "source": [
    "stats.ttest_ind(df_district['Район D (₽)'], df_district['Район E (₽)'], equal_var=False, alternative='less') #проверяем ниже ли цены в районе D"
   ]
  },
  {
   "cell_type": "markdown",
   "metadata": {},
   "source": [
    "|\n",
    "|\n",
    "|"
   ]
  },
  {
   "cell_type": "markdown",
   "metadata": {},
   "source": [
    "\n",
    "**Проверим гипотезу:**\n",
    "\n",
    "Нулевая гипотеза (H₀): Цены в районах A и B не различаются.\n",
    "\n",
    "Альтернатива (H₁): Цены различаются.\n",
    "\n",
    "Решение:\n",
    "\n",
    "Если p-value < 0.05 → отвергаем H₀ (различия статистически значимы).\n",
    "\n",
    "Если p-value ≥ 0.05 → недостаточно оснований отвергнуть H₀."
   ]
  },
  {
   "cell_type": "code",
   "execution_count": 24,
   "metadata": {},
   "outputs": [
    {
     "data": {
      "text/html": [
       "<div>\n",
       "<style scoped>\n",
       "    .dataframe tbody tr th:only-of-type {\n",
       "        vertical-align: middle;\n",
       "    }\n",
       "\n",
       "    .dataframe tbody tr th {\n",
       "        vertical-align: top;\n",
       "    }\n",
       "\n",
       "    .dataframe thead th {\n",
       "        text-align: right;\n",
       "    }\n",
       "</style>\n",
       "<table border=\"1\" class=\"dataframe\">\n",
       "  <thead>\n",
       "    <tr style=\"text-align: right;\">\n",
       "      <th></th>\n",
       "      <th>id</th>\n",
       "      <th>price</th>\n",
       "      <th>area</th>\n",
       "      <th>rooms</th>\n",
       "      <th>district</th>\n",
       "    </tr>\n",
       "  </thead>\n",
       "  <tbody>\n",
       "    <tr>\n",
       "      <th>0</th>\n",
       "      <td>1</td>\n",
       "      <td>11.0</td>\n",
       "      <td>85.0</td>\n",
       "      <td>5</td>\n",
       "      <td>B</td>\n",
       "    </tr>\n",
       "    <tr>\n",
       "      <th>3</th>\n",
       "      <td>4</td>\n",
       "      <td>13.0</td>\n",
       "      <td>96.0</td>\n",
       "      <td>3</td>\n",
       "      <td>B</td>\n",
       "    </tr>\n",
       "    <tr>\n",
       "      <th>4</th>\n",
       "      <td>5</td>\n",
       "      <td>9.5</td>\n",
       "      <td>59.0</td>\n",
       "      <td>5</td>\n",
       "      <td>B</td>\n",
       "    </tr>\n",
       "    <tr>\n",
       "      <th>8</th>\n",
       "      <td>9</td>\n",
       "      <td>9.1</td>\n",
       "      <td>88.0</td>\n",
       "      <td>5</td>\n",
       "      <td>B</td>\n",
       "    </tr>\n",
       "    <tr>\n",
       "      <th>11</th>\n",
       "      <td>12</td>\n",
       "      <td>9.1</td>\n",
       "      <td>97.0</td>\n",
       "      <td>5</td>\n",
       "      <td>B</td>\n",
       "    </tr>\n",
       "  </tbody>\n",
       "</table>\n",
       "</div>"
      ],
      "text/plain": [
       "    id  price  area  rooms district\n",
       "0    1   11.0  85.0      5        B\n",
       "3    4   13.0  96.0      3        B\n",
       "4    5    9.5  59.0      5        B\n",
       "8    9    9.1  88.0      5        B\n",
       "11  12    9.1  97.0      5        B"
      ]
     },
     "execution_count": 24,
     "metadata": {},
     "output_type": "execute_result"
    }
   ],
   "source": [
    "# Фильтрация по району 'С'\n",
    "df_b = df[df['district'] == 'B'].copy() \n",
    "df_b.head()"
   ]
  },
  {
   "cell_type": "code",
   "execution_count": 25,
   "metadata": {},
   "outputs": [
    {
     "data": {
      "image/png": "[encoded data removed]",
      "text/plain": [
       "<Figure size 1200x500 with 2 Axes>"
      ]
     },
     "metadata": {},
     "output_type": "display_data"
    }
   ],
   "source": [
    "plt.figure(figsize=(12, 5))\n",
    "plt.subplot(1, 2, 1)\n",
    "plt.hist(df_a['price'], bins=20)\n",
    "plt.title('Район A')\n",
    "\n",
    "plt.subplot(1, 2, 2)\n",
    "plt.hist(df_b['price'], bins=20)\n",
    "plt.title('Район B')\n",
    "plt.show()"
   ]
  },
  {
   "cell_type": "code",
   "execution_count": 26,
   "metadata": {},
   "outputs": [
    {
     "data": {
      "text/plain": [
       "ShapiroResult(statistic=0.9597381353378296, pvalue=0.027475988492369652)"
      ]
     },
     "execution_count": 26,
     "metadata": {},
     "output_type": "execute_result"
    }
   ],
   "source": [
    "stats.shapiro(df_b.price) # 0.027<0.05 значит данные НЕ распределены нормально"
   ]
  },
  {
   "cell_type": "markdown",
   "metadata": {},
   "source": [
    "**Критерий Манна Уитни**\n",
    "\n",
    "Используется для проверки следующей гипотезы на выборках, которые не удовлетворяют условию о нормальном распределении:\n",
    "\n",
    "`H0:  Распределение, лежащее в основе выборки x, совпадает с распределением, лежащим в основе выборки y `"
   ]
  },
  {
   "cell_type": "code",
   "execution_count": 27,
   "metadata": {},
   "outputs": [
    {
     "data": {
      "text/plain": [
       "MannwhitneyuResult(statistic=2047.5, pvalue=0.7685075504443422)"
      ]
     },
     "execution_count": 27,
     "metadata": {},
     "output_type": "execute_result"
    }
   ],
   "source": [
    "stats.mannwhitneyu(df_a.price, df_b.price, alternative='greater') # Критерий Манна — Уитни не обнаружил значимых различий между районами"
   ]
  },
  {
   "cell_type": "markdown",
   "metadata": {},
   "source": [
    "А что на счет зависимых выборок?"
   ]
  },
  {
   "cell_type": "code",
   "execution_count": 28,
   "metadata": {},
   "outputs": [
    {
     "data": {
      "text/html": [
       "<div>\n",
       "<style scoped>\n",
       "    .dataframe tbody tr th:only-of-type {\n",
       "        vertical-align: middle;\n",
       "    }\n",
       "\n",
       "    .dataframe tbody tr th {\n",
       "        vertical-align: top;\n",
       "    }\n",
       "\n",
       "    .dataframe thead th {\n",
       "        text-align: right;\n",
       "    }\n",
       "</style>\n",
       "<table border=\"1\" class=\"dataframe\">\n",
       "  <thead>\n",
       "    <tr style=\"text-align: right;\">\n",
       "      <th></th>\n",
       "      <th>Стоимость до ремонта (₽)</th>\n",
       "      <th>Стоимость после ремонта (₽)</th>\n",
       "    </tr>\n",
       "  </thead>\n",
       "  <tbody>\n",
       "    <tr>\n",
       "      <th>0</th>\n",
       "      <td>5496714</td>\n",
       "      <td>6505913</td>\n",
       "    </tr>\n",
       "    <tr>\n",
       "      <th>1</th>\n",
       "      <td>4861735</td>\n",
       "      <td>5636550</td>\n",
       "    </tr>\n",
       "    <tr>\n",
       "      <th>2</th>\n",
       "      <td>5647688</td>\n",
       "      <td>6334617</td>\n",
       "    </tr>\n",
       "    <tr>\n",
       "      <th>3</th>\n",
       "      <td>6523029</td>\n",
       "      <td>7751794</td>\n",
       "    </tr>\n",
       "    <tr>\n",
       "      <th>4</th>\n",
       "      <td>4765846</td>\n",
       "      <td>6172466</td>\n",
       "    </tr>\n",
       "  </tbody>\n",
       "</table>\n",
       "</div>"
      ],
      "text/plain": [
       "   Стоимость до ремонта (₽)  Стоимость после ремонта (₽)\n",
       "0                   5496714                      6505913\n",
       "1                   4861735                      5636550\n",
       "2                   5647688                      6334617\n",
       "3                   6523029                      7751794\n",
       "4                   4765846                      6172466"
      ]
     },
     "execution_count": 28,
     "metadata": {},
     "output_type": "execute_result"
    }
   ],
   "source": [
    "file_path3 = r'C:\\Users\\astratova140433\\Desktop\\Алена Астратова\\Обучение моделям\\Machine Learning Engineer\\df_repair.csv'\n",
    "df_repair = pd.read_csv(file_path3, delimiter=',')\n",
    "df_repair.head()"
   ]
  },
  {
   "cell_type": "code",
   "execution_count": 29,
   "metadata": {},
   "outputs": [
    {
     "data": {
      "image/png": "[encoded data removed]",
      "text/plain": [
       "<Figure size 1000x600 with 1 Axes>"
      ]
     },
     "metadata": {},
     "output_type": "display_data"
    }
   ],
   "source": [
    "import matplotlib.pyplot as plt\n",
    "\n",
    "plt.figure(figsize=(10, 6))\n",
    "plt.hist(df_repair['Стоимость до ремонта (₽)'], bins=20, alpha=0.7, label='Стоимость до ремонта', color='red')\n",
    "plt.hist(df_repair['Стоимость после ремонта (₽)'], bins=20, alpha=0.7, label='Стоимость после ремонта', color='orange')\n",
    "plt.legend()\n",
    "plt.title('Распределение стоимостей до и после ремонта')\n",
    "plt.xlabel('Цена (₽)')\n",
    "plt.ylabel('Количество')\n",
    "plt.show()"
   ]
  },
  {
   "cell_type": "code",
   "execution_count": 30,
   "metadata": {},
   "outputs": [
    {
     "name": "stdout",
     "output_type": "stream",
     "text": [
      "ShapiroResult(statistic=0.9898831844329834, pvalue=0.6551515460014343)\n",
      "ShapiroResult(statistic=0.9924891591072083, pvalue=0.8554307222366333)\n"
     ]
    }
   ],
   "source": [
    "print(stats.shapiro(df_repair['Стоимость до ремонта (₽)'],) )\n",
    "print(stats.shapiro(df_repair['Стоимость после ремонта (₽)'],) )\n",
    "## pvalue>0.05 значит данные распределены нормально"
   ]
  },
  {
   "cell_type": "markdown",
   "metadata": {},
   "source": [
    "**Парный Т-критерий**\n",
    "\n",
    "Используется для проверки следующей гипотезы на *зависимых* выборках:\n",
    "\n",
    "`H0: Средние в выборках равны`"
   ]
  },
  {
   "cell_type": "code",
   "execution_count": 31,
   "metadata": {},
   "outputs": [
    {
     "data": {
      "text/plain": [
       "TtestResult(statistic=-27.007124048753358, pvalue=9.13072356873812e-48, df=99)"
      ]
     },
     "execution_count": 31,
     "metadata": {},
     "output_type": "execute_result"
    }
   ],
   "source": [
    "stats.ttest_rel(df_repair['Стоимость до ремонта (₽)'], df_repair['Стоимость после ремонта (₽)'], alternative='less')\n",
    "#  после ремонта цены значительно выросли."
   ]
  },
  {
   "cell_type": "code",
   "execution_count": 33,
   "metadata": {},
   "outputs": [
    {
     "data": {
      "text/plain": [
       "TtestResult(statistic=-27.007124048753358, pvalue=1.0, df=99)"
      ]
     },
     "execution_count": 33,
     "metadata": {},
     "output_type": "execute_result"
    }
   ],
   "source": [
    "stats.ttest_rel(df_repair['Стоимость до ремонта (₽)'], df_repair['Стоимость после ремонта (₽)'], alternative='greater')"
   ]
  },
  {
   "cell_type": "markdown",
   "metadata": {},
   "source": [
    "**Знаковый ранговый тест Вилкоксона**\n",
    "\n",
    "Используется для проверки следующей гипотезы на зависимых выборках, которые не удовлетворяют условию о нормальном распределении:\n",
    "\n",
    "`H0:  Выборки x и y происходят из одного распределения `"
   ]
  },
  {
   "cell_type": "code",
   "execution_count": 34,
   "metadata": {},
   "outputs": [
    {
     "data": {
      "text/html": [
       "<div>\n",
       "<style scoped>\n",
       "    .dataframe tbody tr th:only-of-type {\n",
       "        vertical-align: middle;\n",
       "    }\n",
       "\n",
       "    .dataframe tbody tr th {\n",
       "        vertical-align: top;\n",
       "    }\n",
       "\n",
       "    .dataframe thead th {\n",
       "        text-align: right;\n",
       "    }\n",
       "</style>\n",
       "<table border=\"1\" class=\"dataframe\">\n",
       "  <thead>\n",
       "    <tr style=\"text-align: right;\">\n",
       "      <th></th>\n",
       "      <th>Стоимость до ремонта (₽)</th>\n",
       "      <th>Стоимость после ремонта (₽)</th>\n",
       "    </tr>\n",
       "  </thead>\n",
       "  <tbody>\n",
       "    <tr>\n",
       "      <th>0</th>\n",
       "      <td>3987542</td>\n",
       "      <td>4719834</td>\n",
       "    </tr>\n",
       "    <tr>\n",
       "      <th>1</th>\n",
       "      <td>3093130</td>\n",
       "      <td>3612520</td>\n",
       "    </tr>\n",
       "    <tr>\n",
       "      <th>2</th>\n",
       "      <td>4235768</td>\n",
       "      <td>4747657</td>\n",
       "    </tr>\n",
       "    <tr>\n",
       "      <th>3</th>\n",
       "      <td>6011662</td>\n",
       "      <td>7154761</td>\n",
       "    </tr>\n",
       "    <tr>\n",
       "      <th>4</th>\n",
       "      <td>2976738</td>\n",
       "      <td>3867053</td>\n",
       "    </tr>\n",
       "  </tbody>\n",
       "</table>\n",
       "</div>"
      ],
      "text/plain": [
       "   Стоимость до ремонта (₽)  Стоимость после ремонта (₽)\n",
       "0                   3987542                      4719834\n",
       "1                   3093130                      3612520\n",
       "2                   4235768                      4747657\n",
       "3                   6011662                      7154761\n",
       "4                   2976738                      3867053"
      ]
     },
     "execution_count": 34,
     "metadata": {},
     "output_type": "execute_result"
    }
   ],
   "source": [
    "file_path3 = r'C:\\Users\\astratova140433\\Desktop\\Алена Астратова\\Обучение моделям\\Machine Learning Engineer\\df_repair1.csv'\n",
    "df_repair1 = pd.read_csv(file_path3, delimiter=',')\n",
    "df_repair1.head()"
   ]
  },
  {
   "cell_type": "code",
   "execution_count": 35,
   "metadata": {},
   "outputs": [
    {
     "name": "stderr",
     "output_type": "stream",
     "text": [
      "c:\\Users\\astratova140433\\AppData\\Local\\anaconda3\\lib\\site-packages\\seaborn\\_oldcore.py:1119: FutureWarning: use_inf_as_na option is deprecated and will be removed in a future version. Convert inf values to NaN before operating instead.\n",
      "  with pd.option_context('mode.use_inf_as_na', True):\n",
      "c:\\Users\\astratova140433\\AppData\\Local\\anaconda3\\lib\\site-packages\\seaborn\\_oldcore.py:1119: FutureWarning: use_inf_as_na option is deprecated and will be removed in a future version. Convert inf values to NaN before operating instead.\n",
      "  with pd.option_context('mode.use_inf_as_na', True):\n"
     ]
    },
    {
     "data": {
      "image/png": "[encoded data removed]",
      "text/plain": [
       "<Figure size 1200x600 with 2 Axes>"
      ]
     },
     "metadata": {},
     "output_type": "display_data"
    }
   ],
   "source": [
    "# Визуализация распределений\n",
    "import matplotlib.pyplot as plt\n",
    "import seaborn as sns\n",
    "\n",
    "plt.figure(figsize=(12, 6))\n",
    "plt.subplot(1, 2, 1)\n",
    "sns.histplot(df_repair1['Стоимость до ремонта (₽)'], kde=True, color='blue')\n",
    "plt.title('Распределение цен до ремонта')\n",
    "\n",
    "plt.subplot(1, 2, 2)\n",
    "sns.histplot(df_repair1['Стоимость после ремонта (₽)'], kde=True, color='orange')\n",
    "plt.title('Распределение цен после ремонта')\n",
    "\n",
    "plt.tight_layout()\n",
    "plt.show()"
   ]
  },
  {
   "cell_type": "code",
   "execution_count": 36,
   "metadata": {},
   "outputs": [
    {
     "name": "stdout",
     "output_type": "stream",
     "text": [
      "ShapiroResult(statistic=0.9549973011016846, pvalue=0.0017973082140088081)\n",
      "ShapiroResult(statistic=0.9591026902198792, pvalue=0.0034721919801086187)\n"
     ]
    }
   ],
   "source": [
    "print(stats.shapiro(df_repair1['Стоимость до ремонта (₽)'],) )\n",
    "print(stats.shapiro(df_repair1['Стоимость после ремонта (₽)'],) )\n",
    "## pvalue<0.05 значит данные распределены НЕ нормально"
   ]
  },
  {
   "cell_type": "code",
   "execution_count": 37,
   "metadata": {},
   "outputs": [
    {
     "data": {
      "text/plain": [
       "WilcoxonResult(statistic=0.0, pvalue=1.0)"
      ]
     },
     "execution_count": 37,
     "metadata": {},
     "output_type": "execute_result"
    }
   ],
   "source": [
    "stats.wilcoxon(df_repair['Стоимость до ремонта (₽)'], df_repair['Стоимость после ремонта (₽)'], alternative='greater')"
   ]
  },
  {
   "cell_type": "code",
   "execution_count": 38,
   "metadata": {},
   "outputs": [
    {
     "data": {
      "text/plain": [
       "WilcoxonResult(statistic=0.0, pvalue=1.9482799225479546e-18)"
      ]
     },
     "execution_count": 38,
     "metadata": {},
     "output_type": "execute_result"
    }
   ],
   "source": [
    "stats.wilcoxon(df_repair['Стоимость до ремонта (₽)'], df_repair['Стоимость после ремонта (₽)'], alternative='less')"
   ]
  },
  {
   "cell_type": "markdown",
   "metadata": {},
   "source": [
    "**Корреляция**"
   ]
  },
  {
   "cell_type": "code",
   "execution_count": 39,
   "metadata": {},
   "outputs": [],
   "source": [
    "import pandas as pd\n",
    "import matplotlib.pyplot as plt"
   ]
  },
  {
   "cell_type": "markdown",
   "metadata": {},
   "source": [
    "По умолчанию Pandas всегда применяет Коэффициент Пирсона"
   ]
  },
  {
   "cell_type": "code",
   "execution_count": 41,
   "metadata": {},
   "outputs": [
    {
     "data": {
      "text/html": [
       "<div>\n",
       "<style scoped>\n",
       "    .dataframe tbody tr th:only-of-type {\n",
       "        vertical-align: middle;\n",
       "    }\n",
       "\n",
       "    .dataframe tbody tr th {\n",
       "        vertical-align: top;\n",
       "    }\n",
       "\n",
       "    .dataframe thead th {\n",
       "        text-align: right;\n",
       "    }\n",
       "</style>\n",
       "<table border=\"1\" class=\"dataframe\">\n",
       "  <thead>\n",
       "    <tr style=\"text-align: right;\">\n",
       "      <th></th>\n",
       "      <th>Стоимость до ремонта (₽)</th>\n",
       "      <th>Стоимость после ремонта (₽)</th>\n",
       "    </tr>\n",
       "  </thead>\n",
       "  <tbody>\n",
       "    <tr>\n",
       "      <th>Стоимость до ремонта (₽)</th>\n",
       "      <td>1.000000</td>\n",
       "      <td>0.967292</td>\n",
       "    </tr>\n",
       "    <tr>\n",
       "      <th>Стоимость после ремонта (₽)</th>\n",
       "      <td>0.967292</td>\n",
       "      <td>1.000000</td>\n",
       "    </tr>\n",
       "  </tbody>\n",
       "</table>\n",
       "</div>"
      ],
      "text/plain": [
       "                             Стоимость до ремонта (₽)  \\\n",
       "Стоимость до ремонта (₽)                     1.000000   \n",
       "Стоимость после ремонта (₽)                  0.967292   \n",
       "\n",
       "                             Стоимость после ремонта (₽)  \n",
       "Стоимость до ремонта (₽)                        0.967292  \n",
       "Стоимость после ремонта (₽)                     1.000000  "
      ]
     },
     "execution_count": 41,
     "metadata": {},
     "output_type": "execute_result"
    }
   ],
   "source": [
    "df_repair.corr()"
   ]
  },
  {
   "cell_type": "code",
   "execution_count": 42,
   "metadata": {},
   "outputs": [],
   "source": [
    "from scipy.stats import pearsonr, spearmanr"
   ]
  },
  {
   "cell_type": "code",
   "execution_count": 40,
   "metadata": {},
   "outputs": [
    {
     "name": "stdout",
     "output_type": "stream",
     "text": [
      "\n",
      "Матрица корреляций (Спирмен):\n",
      "                              Стоимость до ремонта (₽)  \\\n",
      "Стоимость до ремонта (₽)                     1.000000   \n",
      "Стоимость после ремонта (₽)                  0.989163   \n",
      "\n",
      "                             Стоимость после ремонта (₽)  \n",
      "Стоимость до ремонта (₽)                        0.989163  \n",
      "Стоимость после ремонта (₽)                     1.000000  \n"
     ]
    }
   ],
   "source": [
    "spearman_corr = df_repair1.corr(method='spearman')\n",
    "print(\"\\nМатрица корреляций (Спирмен):\\n\", spearman_corr)"
   ]
  }
 ],
 "metadata": {
  "kernelspec": {
   "display_name": "base",
   "language": "python",
   "name": "python3"
  },
  "language_info": {
   "codemirror_mode": {
    "name": "ipython",
    "version": 3
   },
   "file_extension": ".py",
   "mimetype": "text/x-python",
   "name": "python",
   "nbconvert_exporter": "python",
   "pygments_lexer": "ipython3",
   "version": "3.10.9"
  }
 },
 "nbformat": 4,
 "nbformat_minor": 2
}
