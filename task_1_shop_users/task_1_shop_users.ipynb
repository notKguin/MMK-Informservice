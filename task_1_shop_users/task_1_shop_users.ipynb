{
  "nbformat": 4,
  "nbformat_minor": 0,
  "metadata": {
    "colab": {
      "provenance": [],
      "toc_visible": true,
      "authorship_tag": "ABX9TyOHBRhh5nukiz6safjTqMhd"
    },
    "kernelspec": {
      "name": "python3",
      "display_name": "Python 3"
    },
    "language_info": {
      "name": "python"
    }
  },
  "cells": [
    {
      "cell_type": "markdown",
      "source": [
        "# Загрузка датасета"
      ],
      "metadata": {
        "id": "xEC3V1ooL4-5"
      }
    },
    {
      "cell_type": "code",
      "source": [
        "import pandas as pd"
      ],
      "metadata": {
        "id": "Cwv_vtL1Kzkl"
      },
      "execution_count": 1052,
      "outputs": []
    },
    {
      "cell_type": "code",
      "execution_count": 1053,
      "metadata": {
        "id": "dXAI7rixKDja"
      },
      "outputs": [],
      "source": [
        "data = pd.read_csv('shop_users.csv', index_col='Unnamed: 0')"
      ]
    },
    {
      "cell_type": "code",
      "source": [
        "df = data"
      ],
      "metadata": {
        "id": "14qoUFGMKzTW"
      },
      "execution_count": 1054,
      "outputs": []
    },
    {
      "cell_type": "code",
      "source": [
        "df"
      ],
      "metadata": {
        "colab": {
          "base_uri": "https://localhost:8080/",
          "height": 1000
        },
        "id": "7vsJf6k3NlmZ",
        "outputId": "160ea3bc-c12d-4499-b227-93da32ae17e8"
      },
      "execution_count": 1055,
      "outputs": [
        {
          "output_type": "execute_result",
          "data": {
            "text/plain": [
              "             id       bdate                                    city  \\\n",
              "0            19    1.1.2005  {'id': 2, 'title': 'Saint-Petersburg'}   \n",
              "1           510    1.1.1985                                     NaN   \n",
              "2           674    1.1.1979      {'id': 99, 'title': 'Новосибирск'}   \n",
              "3          1018    1.1.2002  {'id': 2, 'title': 'Saint-Petersburg'}   \n",
              "4          1586    1.1.1989                                     NaN   \n",
              "...         ...         ...                                     ...   \n",
              "3520  741237782   22.2.2000                                     NaN   \n",
              "3521  741237783    4.8.2005            {'id': 1, 'title': 'Россия'}   \n",
              "3522  741237784  30.11.2002            {'id': 1, 'title': 'Россия'}   \n",
              "3523  741237785    5.6.2008            {'id': 1, 'title': 'Россия'}   \n",
              "3524  741237786   24.7.1990            {'id': 1, 'title': 'Россия'}   \n",
              "\n",
              "                                  country  \\\n",
              "0            {'id': 1, 'title': 'Россия'}   \n",
              "1            {'id': 1, 'title': 'Россия'}   \n",
              "2            {'id': 1, 'title': 'Россия'}   \n",
              "3            {'id': 1, 'title': 'Россия'}   \n",
              "4            {'id': 1, 'title': 'Россия'}   \n",
              "...                                   ...   \n",
              "3520         {'id': 1, 'title': 'Россия'}   \n",
              "3521  {'platform': 4, 'time': 1658820057}   \n",
              "3522  {'platform': 2, 'time': 1662237422}   \n",
              "3523  {'platform': 4, 'time': 1662232523}   \n",
              "3524  {'platform': 4, 'time': 1661793146}   \n",
              "\n",
              "                                last_seen  followers_count  common_count  sex  \\\n",
              "0     {'platform': 2, 'time': 1662237362}          39326.0             0    1   \n",
              "1     {'platform': 7, 'time': 1661321803}          19698.0             0    2   \n",
              "2     {'platform': 7, 'time': 1662202619}              NaN             0    2   \n",
              "3     {'platform': 1, 'time': 1613708136}              NaN             0    2   \n",
              "4     {'platform': 7, 'time': 1619550770}          31433.0             0    2   \n",
              "...                                   ...              ...           ...  ...   \n",
              "3520  {'platform': 4, 'time': 1661793146}              NaN             0    2   \n",
              "3521                                  NaN              0.0             2    1   \n",
              "3522                                    0              0.0             2    0   \n",
              "3523                                    1              0.0             2    0   \n",
              "3524                                  NaN              0.0             2    1   \n",
              "\n",
              "      is_closed home_town                             relation  \\\n",
              "0           0.0       NaN                                  NaN   \n",
              "1           0.0       NaN                                  NaN   \n",
              "2           1.0       NaN                                  NaN   \n",
              "3           1.0       NaN                                  NaN   \n",
              "4           0.0       NaN                                  NaN   \n",
              "...         ...       ...                                  ...   \n",
              "3520        1.0       NaN                                  NaN   \n",
              "3521        NaN       NaN  {'costs': 50000, 'currency': 'RUR'}   \n",
              "3522        NaN         0  {'costs': 50000, 'currency': 'RUR'}   \n",
              "3523        NaN       NaN  {'costs': 25000, 'currency': 'RUR'}   \n",
              "3524        NaN       NaN  {'costs': 25000, 'currency': 'RUR'}   \n",
              "\n",
              "                                                  costs  \\\n",
              "0                   {'costs': 25000, 'currency': 'RUR'}   \n",
              "1                   {'costs': 50000, 'currency': 'RUR'}   \n",
              "2                   {'costs': 75000, 'currency': 'RUR'}   \n",
              "3                  {'costs': 100000, 'currency': 'RUR'}   \n",
              "4                  {'costs': 100000, 'currency': 'RUR'}   \n",
              "...                                                 ...   \n",
              "3520                {'costs': 25000, 'currency': 'RUR'}   \n",
              "3521                             [{'name': 'Fortnite'}]   \n",
              "3522  [{'name': 'PUBG'}, {'name': 'Hearthstone'}, {'...   \n",
              "3523                                 [{'name': 'FIFA'}]   \n",
              "3524  [{'name': 'StarCraft 2'}, {'name': 'Warface'},...   \n",
              "\n",
              "                                                  games  \n",
              "0     [{'name': 'Dota 2'}, {'name': 'CS:GO'}, {'name...  \n",
              "1     [{'name': 'League of Legends'}, {'name': 'Valo...  \n",
              "2                                [{'name': 'Fortnite'}]  \n",
              "3     [{'name': 'PUBG'}, {'name': 'Hearthstone'}, {'...  \n",
              "4                                    [{'name': 'FIFA'}]  \n",
              "...                                                 ...  \n",
              "3520                                [{'name': 'CS:GO'}]  \n",
              "3521                                                 no  \n",
              "3522                                                 no  \n",
              "3523                                                 no  \n",
              "3524                                                 no  \n",
              "\n",
              "[3525 rows x 13 columns]"
            ],
            "text/html": [
              "\n",
              "  <div id=\"df-a8039dcf-0390-4df1-b080-de7afde21656\" class=\"colab-df-container\">\n",
              "    <div>\n",
              "<style scoped>\n",
              "    .dataframe tbody tr th:only-of-type {\n",
              "        vertical-align: middle;\n",
              "    }\n",
              "\n",
              "    .dataframe tbody tr th {\n",
              "        vertical-align: top;\n",
              "    }\n",
              "\n",
              "    .dataframe thead th {\n",
              "        text-align: right;\n",
              "    }\n",
              "</style>\n",
              "<table border=\"1\" class=\"dataframe\">\n",
              "  <thead>\n",
              "    <tr style=\"text-align: right;\">\n",
              "      <th></th>\n",
              "      <th>id</th>\n",
              "      <th>bdate</th>\n",
              "      <th>city</th>\n",
              "      <th>country</th>\n",
              "      <th>last_seen</th>\n",
              "      <th>followers_count</th>\n",
              "      <th>common_count</th>\n",
              "      <th>sex</th>\n",
              "      <th>is_closed</th>\n",
              "      <th>home_town</th>\n",
              "      <th>relation</th>\n",
              "      <th>costs</th>\n",
              "      <th>games</th>\n",
              "    </tr>\n",
              "  </thead>\n",
              "  <tbody>\n",
              "    <tr>\n",
              "      <th>0</th>\n",
              "      <td>19</td>\n",
              "      <td>1.1.2005</td>\n",
              "      <td>{'id': 2, 'title': 'Saint-Petersburg'}</td>\n",
              "      <td>{'id': 1, 'title': 'Россия'}</td>\n",
              "      <td>{'platform': 2, 'time': 1662237362}</td>\n",
              "      <td>39326.0</td>\n",
              "      <td>0</td>\n",
              "      <td>1</td>\n",
              "      <td>0.0</td>\n",
              "      <td>NaN</td>\n",
              "      <td>NaN</td>\n",
              "      <td>{'costs': 25000, 'currency': 'RUR'}</td>\n",
              "      <td>[{'name': 'Dota 2'}, {'name': 'CS:GO'}, {'name...</td>\n",
              "    </tr>\n",
              "    <tr>\n",
              "      <th>1</th>\n",
              "      <td>510</td>\n",
              "      <td>1.1.1985</td>\n",
              "      <td>NaN</td>\n",
              "      <td>{'id': 1, 'title': 'Россия'}</td>\n",
              "      <td>{'platform': 7, 'time': 1661321803}</td>\n",
              "      <td>19698.0</td>\n",
              "      <td>0</td>\n",
              "      <td>2</td>\n",
              "      <td>0.0</td>\n",
              "      <td>NaN</td>\n",
              "      <td>NaN</td>\n",
              "      <td>{'costs': 50000, 'currency': 'RUR'}</td>\n",
              "      <td>[{'name': 'League of Legends'}, {'name': 'Valo...</td>\n",
              "    </tr>\n",
              "    <tr>\n",
              "      <th>2</th>\n",
              "      <td>674</td>\n",
              "      <td>1.1.1979</td>\n",
              "      <td>{'id': 99, 'title': 'Новосибирск'}</td>\n",
              "      <td>{'id': 1, 'title': 'Россия'}</td>\n",
              "      <td>{'platform': 7, 'time': 1662202619}</td>\n",
              "      <td>NaN</td>\n",
              "      <td>0</td>\n",
              "      <td>2</td>\n",
              "      <td>1.0</td>\n",
              "      <td>NaN</td>\n",
              "      <td>NaN</td>\n",
              "      <td>{'costs': 75000, 'currency': 'RUR'}</td>\n",
              "      <td>[{'name': 'Fortnite'}]</td>\n",
              "    </tr>\n",
              "    <tr>\n",
              "      <th>3</th>\n",
              "      <td>1018</td>\n",
              "      <td>1.1.2002</td>\n",
              "      <td>{'id': 2, 'title': 'Saint-Petersburg'}</td>\n",
              "      <td>{'id': 1, 'title': 'Россия'}</td>\n",
              "      <td>{'platform': 1, 'time': 1613708136}</td>\n",
              "      <td>NaN</td>\n",
              "      <td>0</td>\n",
              "      <td>2</td>\n",
              "      <td>1.0</td>\n",
              "      <td>NaN</td>\n",
              "      <td>NaN</td>\n",
              "      <td>{'costs': 100000, 'currency': 'RUR'}</td>\n",
              "      <td>[{'name': 'PUBG'}, {'name': 'Hearthstone'}, {'...</td>\n",
              "    </tr>\n",
              "    <tr>\n",
              "      <th>4</th>\n",
              "      <td>1586</td>\n",
              "      <td>1.1.1989</td>\n",
              "      <td>NaN</td>\n",
              "      <td>{'id': 1, 'title': 'Россия'}</td>\n",
              "      <td>{'platform': 7, 'time': 1619550770}</td>\n",
              "      <td>31433.0</td>\n",
              "      <td>0</td>\n",
              "      <td>2</td>\n",
              "      <td>0.0</td>\n",
              "      <td>NaN</td>\n",
              "      <td>NaN</td>\n",
              "      <td>{'costs': 100000, 'currency': 'RUR'}</td>\n",
              "      <td>[{'name': 'FIFA'}]</td>\n",
              "    </tr>\n",
              "    <tr>\n",
              "      <th>...</th>\n",
              "      <td>...</td>\n",
              "      <td>...</td>\n",
              "      <td>...</td>\n",
              "      <td>...</td>\n",
              "      <td>...</td>\n",
              "      <td>...</td>\n",
              "      <td>...</td>\n",
              "      <td>...</td>\n",
              "      <td>...</td>\n",
              "      <td>...</td>\n",
              "      <td>...</td>\n",
              "      <td>...</td>\n",
              "      <td>...</td>\n",
              "    </tr>\n",
              "    <tr>\n",
              "      <th>3520</th>\n",
              "      <td>741237782</td>\n",
              "      <td>22.2.2000</td>\n",
              "      <td>NaN</td>\n",
              "      <td>{'id': 1, 'title': 'Россия'}</td>\n",
              "      <td>{'platform': 4, 'time': 1661793146}</td>\n",
              "      <td>NaN</td>\n",
              "      <td>0</td>\n",
              "      <td>2</td>\n",
              "      <td>1.0</td>\n",
              "      <td>NaN</td>\n",
              "      <td>NaN</td>\n",
              "      <td>{'costs': 25000, 'currency': 'RUR'}</td>\n",
              "      <td>[{'name': 'CS:GO'}]</td>\n",
              "    </tr>\n",
              "    <tr>\n",
              "      <th>3521</th>\n",
              "      <td>741237783</td>\n",
              "      <td>4.8.2005</td>\n",
              "      <td>{'id': 1, 'title': 'Россия'}</td>\n",
              "      <td>{'platform': 4, 'time': 1658820057}</td>\n",
              "      <td>NaN</td>\n",
              "      <td>0.0</td>\n",
              "      <td>2</td>\n",
              "      <td>1</td>\n",
              "      <td>NaN</td>\n",
              "      <td>NaN</td>\n",
              "      <td>{'costs': 50000, 'currency': 'RUR'}</td>\n",
              "      <td>[{'name': 'Fortnite'}]</td>\n",
              "      <td>no</td>\n",
              "    </tr>\n",
              "    <tr>\n",
              "      <th>3522</th>\n",
              "      <td>741237784</td>\n",
              "      <td>30.11.2002</td>\n",
              "      <td>{'id': 1, 'title': 'Россия'}</td>\n",
              "      <td>{'platform': 2, 'time': 1662237422}</td>\n",
              "      <td>0</td>\n",
              "      <td>0.0</td>\n",
              "      <td>2</td>\n",
              "      <td>0</td>\n",
              "      <td>NaN</td>\n",
              "      <td>0</td>\n",
              "      <td>{'costs': 50000, 'currency': 'RUR'}</td>\n",
              "      <td>[{'name': 'PUBG'}, {'name': 'Hearthstone'}, {'...</td>\n",
              "      <td>no</td>\n",
              "    </tr>\n",
              "    <tr>\n",
              "      <th>3523</th>\n",
              "      <td>741237785</td>\n",
              "      <td>5.6.2008</td>\n",
              "      <td>{'id': 1, 'title': 'Россия'}</td>\n",
              "      <td>{'platform': 4, 'time': 1662232523}</td>\n",
              "      <td>1</td>\n",
              "      <td>0.0</td>\n",
              "      <td>2</td>\n",
              "      <td>0</td>\n",
              "      <td>NaN</td>\n",
              "      <td>NaN</td>\n",
              "      <td>{'costs': 25000, 'currency': 'RUR'}</td>\n",
              "      <td>[{'name': 'FIFA'}]</td>\n",
              "      <td>no</td>\n",
              "    </tr>\n",
              "    <tr>\n",
              "      <th>3524</th>\n",
              "      <td>741237786</td>\n",
              "      <td>24.7.1990</td>\n",
              "      <td>{'id': 1, 'title': 'Россия'}</td>\n",
              "      <td>{'platform': 4, 'time': 1661793146}</td>\n",
              "      <td>NaN</td>\n",
              "      <td>0.0</td>\n",
              "      <td>2</td>\n",
              "      <td>1</td>\n",
              "      <td>NaN</td>\n",
              "      <td>NaN</td>\n",
              "      <td>{'costs': 25000, 'currency': 'RUR'}</td>\n",
              "      <td>[{'name': 'StarCraft 2'}, {'name': 'Warface'},...</td>\n",
              "      <td>no</td>\n",
              "    </tr>\n",
              "  </tbody>\n",
              "</table>\n",
              "<p>3525 rows × 13 columns</p>\n",
              "</div>\n",
              "    <div class=\"colab-df-buttons\">\n",
              "\n",
              "  <div class=\"colab-df-container\">\n",
              "    <button class=\"colab-df-convert\" onclick=\"convertToInteractive('df-a8039dcf-0390-4df1-b080-de7afde21656')\"\n",
              "            title=\"Convert this dataframe to an interactive table.\"\n",
              "            style=\"display:none;\">\n",
              "\n",
              "  <svg xmlns=\"http://www.w3.org/2000/svg\" height=\"24px\" viewBox=\"0 -960 960 960\">\n",
              "    <path d=\"M120-120v-720h720v720H120Zm60-500h600v-160H180v160Zm220 220h160v-160H400v160Zm0 220h160v-160H400v160ZM180-400h160v-160H180v160Zm440 0h160v-160H620v160ZM180-180h160v-160H180v160Zm440 0h160v-160H620v160Z\"/>\n",
              "  </svg>\n",
              "    </button>\n",
              "\n",
              "  <style>\n",
              "    .colab-df-container {\n",
              "      display:flex;\n",
              "      gap: 12px;\n",
              "    }\n",
              "\n",
              "    .colab-df-convert {\n",
              "      background-color: #E8F0FE;\n",
              "      border: none;\n",
              "      border-radius: 50%;\n",
              "      cursor: pointer;\n",
              "      display: none;\n",
              "      fill: #1967D2;\n",
              "      height: 32px;\n",
              "      padding: 0 0 0 0;\n",
              "      width: 32px;\n",
              "    }\n",
              "\n",
              "    .colab-df-convert:hover {\n",
              "      background-color: #E2EBFA;\n",
              "      box-shadow: 0px 1px 2px rgba(60, 64, 67, 0.3), 0px 1px 3px 1px rgba(60, 64, 67, 0.15);\n",
              "      fill: #174EA6;\n",
              "    }\n",
              "\n",
              "    .colab-df-buttons div {\n",
              "      margin-bottom: 4px;\n",
              "    }\n",
              "\n",
              "    [theme=dark] .colab-df-convert {\n",
              "      background-color: #3B4455;\n",
              "      fill: #D2E3FC;\n",
              "    }\n",
              "\n",
              "    [theme=dark] .colab-df-convert:hover {\n",
              "      background-color: #434B5C;\n",
              "      box-shadow: 0px 1px 3px 1px rgba(0, 0, 0, 0.15);\n",
              "      filter: drop-shadow(0px 1px 2px rgba(0, 0, 0, 0.3));\n",
              "      fill: #FFFFFF;\n",
              "    }\n",
              "  </style>\n",
              "\n",
              "    <script>\n",
              "      const buttonEl =\n",
              "        document.querySelector('#df-a8039dcf-0390-4df1-b080-de7afde21656 button.colab-df-convert');\n",
              "      buttonEl.style.display =\n",
              "        google.colab.kernel.accessAllowed ? 'block' : 'none';\n",
              "\n",
              "      async function convertToInteractive(key) {\n",
              "        const element = document.querySelector('#df-a8039dcf-0390-4df1-b080-de7afde21656');\n",
              "        const dataTable =\n",
              "          await google.colab.kernel.invokeFunction('convertToInteractive',\n",
              "                                                    [key], {});\n",
              "        if (!dataTable) return;\n",
              "\n",
              "        const docLinkHtml = 'Like what you see? Visit the ' +\n",
              "          '<a target=\"_blank\" href=https://colab.research.google.com/notebooks/data_table.ipynb>data table notebook</a>'\n",
              "          + ' to learn more about interactive tables.';\n",
              "        element.innerHTML = '';\n",
              "        dataTable['output_type'] = 'display_data';\n",
              "        await google.colab.output.renderOutput(dataTable, element);\n",
              "        const docLink = document.createElement('div');\n",
              "        docLink.innerHTML = docLinkHtml;\n",
              "        element.appendChild(docLink);\n",
              "      }\n",
              "    </script>\n",
              "  </div>\n",
              "\n",
              "\n",
              "    <div id=\"df-b175d1fa-fc31-4a20-b3ca-631ef7e4e1aa\">\n",
              "      <button class=\"colab-df-quickchart\" onclick=\"quickchart('df-b175d1fa-fc31-4a20-b3ca-631ef7e4e1aa')\"\n",
              "                title=\"Suggest charts\"\n",
              "                style=\"display:none;\">\n",
              "\n",
              "<svg xmlns=\"http://www.w3.org/2000/svg\" height=\"24px\"viewBox=\"0 0 24 24\"\n",
              "     width=\"24px\">\n",
              "    <g>\n",
              "        <path d=\"M19 3H5c-1.1 0-2 .9-2 2v14c0 1.1.9 2 2 2h14c1.1 0 2-.9 2-2V5c0-1.1-.9-2-2-2zM9 17H7v-7h2v7zm4 0h-2V7h2v10zm4 0h-2v-4h2v4z\"/>\n",
              "    </g>\n",
              "</svg>\n",
              "      </button>\n",
              "\n",
              "<style>\n",
              "  .colab-df-quickchart {\n",
              "      --bg-color: #E8F0FE;\n",
              "      --fill-color: #1967D2;\n",
              "      --hover-bg-color: #E2EBFA;\n",
              "      --hover-fill-color: #174EA6;\n",
              "      --disabled-fill-color: #AAA;\n",
              "      --disabled-bg-color: #DDD;\n",
              "  }\n",
              "\n",
              "  [theme=dark] .colab-df-quickchart {\n",
              "      --bg-color: #3B4455;\n",
              "      --fill-color: #D2E3FC;\n",
              "      --hover-bg-color: #434B5C;\n",
              "      --hover-fill-color: #FFFFFF;\n",
              "      --disabled-bg-color: #3B4455;\n",
              "      --disabled-fill-color: #666;\n",
              "  }\n",
              "\n",
              "  .colab-df-quickchart {\n",
              "    background-color: var(--bg-color);\n",
              "    border: none;\n",
              "    border-radius: 50%;\n",
              "    cursor: pointer;\n",
              "    display: none;\n",
              "    fill: var(--fill-color);\n",
              "    height: 32px;\n",
              "    padding: 0;\n",
              "    width: 32px;\n",
              "  }\n",
              "\n",
              "  .colab-df-quickchart:hover {\n",
              "    background-color: var(--hover-bg-color);\n",
              "    box-shadow: 0 1px 2px rgba(60, 64, 67, 0.3), 0 1px 3px 1px rgba(60, 64, 67, 0.15);\n",
              "    fill: var(--button-hover-fill-color);\n",
              "  }\n",
              "\n",
              "  .colab-df-quickchart-complete:disabled,\n",
              "  .colab-df-quickchart-complete:disabled:hover {\n",
              "    background-color: var(--disabled-bg-color);\n",
              "    fill: var(--disabled-fill-color);\n",
              "    box-shadow: none;\n",
              "  }\n",
              "\n",
              "  .colab-df-spinner {\n",
              "    border: 2px solid var(--fill-color);\n",
              "    border-color: transparent;\n",
              "    border-bottom-color: var(--fill-color);\n",
              "    animation:\n",
              "      spin 1s steps(1) infinite;\n",
              "  }\n",
              "\n",
              "  @keyframes spin {\n",
              "    0% {\n",
              "      border-color: transparent;\n",
              "      border-bottom-color: var(--fill-color);\n",
              "      border-left-color: var(--fill-color);\n",
              "    }\n",
              "    20% {\n",
              "      border-color: transparent;\n",
              "      border-left-color: var(--fill-color);\n",
              "      border-top-color: var(--fill-color);\n",
              "    }\n",
              "    30% {\n",
              "      border-color: transparent;\n",
              "      border-left-color: var(--fill-color);\n",
              "      border-top-color: var(--fill-color);\n",
              "      border-right-color: var(--fill-color);\n",
              "    }\n",
              "    40% {\n",
              "      border-color: transparent;\n",
              "      border-right-color: var(--fill-color);\n",
              "      border-top-color: var(--fill-color);\n",
              "    }\n",
              "    60% {\n",
              "      border-color: transparent;\n",
              "      border-right-color: var(--fill-color);\n",
              "    }\n",
              "    80% {\n",
              "      border-color: transparent;\n",
              "      border-right-color: var(--fill-color);\n",
              "      border-bottom-color: var(--fill-color);\n",
              "    }\n",
              "    90% {\n",
              "      border-color: transparent;\n",
              "      border-bottom-color: var(--fill-color);\n",
              "    }\n",
              "  }\n",
              "</style>\n",
              "\n",
              "      <script>\n",
              "        async function quickchart(key) {\n",
              "          const quickchartButtonEl =\n",
              "            document.querySelector('#' + key + ' button');\n",
              "          quickchartButtonEl.disabled = true;  // To prevent multiple clicks.\n",
              "          quickchartButtonEl.classList.add('colab-df-spinner');\n",
              "          try {\n",
              "            const charts = await google.colab.kernel.invokeFunction(\n",
              "                'suggestCharts', [key], {});\n",
              "          } catch (error) {\n",
              "            console.error('Error during call to suggestCharts:', error);\n",
              "          }\n",
              "          quickchartButtonEl.classList.remove('colab-df-spinner');\n",
              "          quickchartButtonEl.classList.add('colab-df-quickchart-complete');\n",
              "        }\n",
              "        (() => {\n",
              "          let quickchartButtonEl =\n",
              "            document.querySelector('#df-b175d1fa-fc31-4a20-b3ca-631ef7e4e1aa button');\n",
              "          quickchartButtonEl.style.display =\n",
              "            google.colab.kernel.accessAllowed ? 'block' : 'none';\n",
              "        })();\n",
              "      </script>\n",
              "    </div>\n",
              "    </div>\n",
              "  </div>\n"
            ],
            "application/vnd.google.colaboratory.intrinsic+json": {
              "type": "dataframe",
              "variable_name": "df",
              "summary": "{\n  \"name\": \"df\",\n  \"rows\": 3525,\n  \"fields\": [\n    {\n      \"column\": \"id\",\n      \"properties\": {\n        \"dtype\": \"number\",\n        \"std\": 370854950,\n        \"min\": 19,\n        \"max\": 748203781,\n        \"num_unique_values\": 3367,\n        \"samples\": [\n          742391017,\n          744597090,\n          2360038\n        ],\n        \"semantic_type\": \"\",\n        \"description\": \"\"\n      }\n    },\n    {\n      \"column\": \"bdate\",\n      \"properties\": {\n        \"dtype\": \"string\",\n        \"num_unique_values\": 1970,\n        \"samples\": [\n          \"2.2.2003\",\n          \"8.7.1988\",\n          \"9.10.2000\"\n        ],\n        \"semantic_type\": \"\",\n        \"description\": \"\"\n      }\n    },\n    {\n      \"column\": \"city\",\n      \"properties\": {\n        \"dtype\": \"category\",\n        \"num_unique_values\": 302,\n        \"samples\": [\n          \"{'id': 1710959, 'title': '\\u041a\\u0438\\u0448\\u0438\\u043d\\u0435\\u0432'}\",\n          \"{'id': 824, 'title': '\\u0412\\u0435\\u043b\\u0438\\u043a\\u0438\\u0439 \\u0423\\u0441\\u0442\\u044e\\u0433'}\",\n          \"{'id': 1149977, 'title': '\\u041d\\u0438\\u0436\\u043d\\u044f\\u044f \\u042f\\u0437\\u044c\\u0432\\u0430'}\"\n        ],\n        \"semantic_type\": \"\",\n        \"description\": \"\"\n      }\n    },\n    {\n      \"column\": \"country\",\n      \"properties\": {\n        \"dtype\": \"category\",\n        \"num_unique_values\": 55,\n        \"samples\": [\n          \"{'id': 88, 'title': '\\u0418\\u0442\\u0430\\u043b\\u0438\\u044f'}\",\n          \"{'id': 229, 'title': '\\u042f\\u043f\\u043e\\u043d\\u0438\\u044f'}\",\n          \"{'id': 122, 'title': '\\u041c\\u0430\\u043b\\u044c\\u0442\\u0430'}\"\n        ],\n        \"semantic_type\": \"\",\n        \"description\": \"\"\n      }\n    },\n    {\n      \"column\": \"last_seen\",\n      \"properties\": {\n        \"dtype\": \"string\",\n        \"num_unique_values\": 3257,\n        \"samples\": [\n          \"{'platform': 4, 'time': 1662121169}\",\n          \"{'platform': 2, 'time': 1662233821}\",\n          \"{'platform': 2, 'time': 1662237296}\"\n        ],\n        \"semantic_type\": \"\",\n        \"description\": \"\"\n      }\n    },\n    {\n      \"column\": \"followers_count\",\n      \"properties\": {\n        \"dtype\": \"number\",\n        \"std\": 6964.017758827654,\n        \"min\": 0.0,\n        \"max\": 140969.0,\n        \"num_unique_values\": 770,\n        \"samples\": [\n          257.0,\n          819.0,\n          659.0\n        ],\n        \"semantic_type\": \"\",\n        \"description\": \"\"\n      }\n    },\n    {\n      \"column\": \"common_count\",\n      \"properties\": {\n        \"dtype\": \"number\",\n        \"std\": 0,\n        \"min\": 0,\n        \"max\": 5,\n        \"num_unique_values\": 4,\n        \"samples\": [\n          1,\n          2,\n          0\n        ],\n        \"semantic_type\": \"\",\n        \"description\": \"\"\n      }\n    },\n    {\n      \"column\": \"sex\",\n      \"properties\": {\n        \"dtype\": \"number\",\n        \"std\": 0,\n        \"min\": 0,\n        \"max\": 2,\n        \"num_unique_values\": 3,\n        \"samples\": [\n          1,\n          2,\n          0\n        ],\n        \"semantic_type\": \"\",\n        \"description\": \"\"\n      }\n    },\n    {\n      \"column\": \"is_closed\",\n      \"properties\": {\n        \"dtype\": \"number\",\n        \"std\": 0.43187868262887186,\n        \"min\": 0.0,\n        \"max\": 1.0,\n        \"num_unique_values\": 2,\n        \"samples\": [\n          1.0,\n          0.0\n        ],\n        \"semantic_type\": \"\",\n        \"description\": \"\"\n      }\n    },\n    {\n      \"column\": \"home_town\",\n      \"properties\": {\n        \"dtype\": \"category\",\n        \"num_unique_values\": 268,\n        \"samples\": [\n          \"Japan\",\n          \"\\u0423\\u043b\\u0430\\u043d - \\u0423\\u0434\\u044d\"\n        ],\n        \"semantic_type\": \"\",\n        \"description\": \"\"\n      }\n    },\n    {\n      \"column\": \"relation\",\n      \"properties\": {\n        \"dtype\": \"category\",\n        \"num_unique_values\": 11,\n        \"samples\": [\n          \"5\",\n          \"4\"\n        ],\n        \"semantic_type\": \"\",\n        \"description\": \"\"\n      }\n    },\n    {\n      \"column\": \"costs\",\n      \"properties\": {\n        \"dtype\": \"category\",\n        \"num_unique_values\": 17,\n        \"samples\": [\n          \"{'costs': 25000, 'currency': 'RUR'}\",\n          \"{'costs': 50000, 'currency': 'RUR'}\"\n        ],\n        \"semantic_type\": \"\",\n        \"description\": \"\"\n      }\n    },\n    {\n      \"column\": \"games\",\n      \"properties\": {\n        \"dtype\": \"category\",\n        \"num_unique_values\": 26,\n        \"samples\": [\n          \"[{'name': 'CS:GO'}]\",\n          \"[{'name': 'StarCraft 2'}]\"\n        ],\n        \"semantic_type\": \"\",\n        \"description\": \"\"\n      }\n    }\n  ]\n}"
            }
          },
          "metadata": {},
          "execution_count": 1055
        }
      ]
    },
    {
      "cell_type": "markdown",
      "source": [
        "# Формулировка задания"
      ],
      "metadata": {
        "id": "7aD9bYWiMBoA"
      }
    },
    {
      "cell_type": "markdown",
      "source": [
        "## Описание кейса"
      ],
      "metadata": {
        "id": "GkFOtkUgLWyS"
      }
    },
    {
      "cell_type": "markdown",
      "source": [
        "Компания, занимающаяся развитием киберспорта, планирует запустить таргетированную рекламу среди пользователей Вконтакте. В связи с этим им необходимо изучить целевую аудиторию и составить портреты пользователей, увлекающихся киберспортом, в том числе в разрезе онлайн-игр. Нашему коллеге-аналитику необходимо построить дашборд с анализом выборки пользователей из онлайн-магазина, расположенного на платформе Вконтакте. Специалист по сбору данных представил датасет с выгруженной информацией по профилям в формате csv. Однако данные в нем в том виде, в котором они есть, не подходят для построения дашборда."
      ],
      "metadata": {
        "id": "BNmhLEG1LlIs"
      }
    },
    {
      "cell_type": "markdown",
      "source": [
        "## Описание датасета"
      ],
      "metadata": {
        "id": "RTlyjNdoLsSi"
      }
    },
    {
      "cell_type": "markdown",
      "source": [
        "1. id пользователя\n",
        "2. возраст (кол-во лет)\n",
        "3. пол (1: женский, 2: мужской, 0: не указан)\n",
        "3. город проживания (если указан)\n",
        "4. страна проживания (если указана)\n",
        "5. количество подписчиков (если указано)\n",
        "6. дата последнего входа в магазин\n",
        "7. сумма трат в магазине (значение обязательно должно быть указано, пользователей с неуказанным значением необходимо исключить; значения должны быть соизмеримы, т.е. указаны в единой валюте)\n",
        "8. наименования игр, которыми интересуется пользователь (значение обязательно должно быть указано, пользователей с неуказанным значением необходимо исключить)"
      ],
      "metadata": {
        "id": "qGIYPGqJL11r"
      }
    },
    {
      "cell_type": "markdown",
      "source": [
        "# Предобработка"
      ],
      "metadata": {
        "id": "zjD2KFvTMLtK"
      }
    },
    {
      "cell_type": "markdown",
      "source": [
        "## Поиск пустых строк"
      ],
      "metadata": {
        "id": "uWCgAJP9RY8L"
      }
    },
    {
      "cell_type": "code",
      "source": [
        "df.isna().sum()"
      ],
      "metadata": {
        "colab": {
          "base_uri": "https://localhost:8080/",
          "height": 491
        },
        "id": "2ujDEm8ARbU8",
        "outputId": "412653ca-b826-44f4-d8fb-29df098efe27"
      },
      "execution_count": 1056,
      "outputs": [
        {
          "output_type": "execute_result",
          "data": {
            "text/plain": [
              "id                    0\n",
              "bdate                 0\n",
              "city               1553\n",
              "country               0\n",
              "last_seen            26\n",
              "followers_count     873\n",
              "common_count          0\n",
              "sex                   0\n",
              "is_closed             4\n",
              "home_town          2967\n",
              "relation           1941\n",
              "costs                30\n",
              "games                30\n",
              "dtype: int64"
            ],
            "text/html": [
              "<div>\n",
              "<style scoped>\n",
              "    .dataframe tbody tr th:only-of-type {\n",
              "        vertical-align: middle;\n",
              "    }\n",
              "\n",
              "    .dataframe tbody tr th {\n",
              "        vertical-align: top;\n",
              "    }\n",
              "\n",
              "    .dataframe thead th {\n",
              "        text-align: right;\n",
              "    }\n",
              "</style>\n",
              "<table border=\"1\" class=\"dataframe\">\n",
              "  <thead>\n",
              "    <tr style=\"text-align: right;\">\n",
              "      <th></th>\n",
              "      <th>0</th>\n",
              "    </tr>\n",
              "  </thead>\n",
              "  <tbody>\n",
              "    <tr>\n",
              "      <th>id</th>\n",
              "      <td>0</td>\n",
              "    </tr>\n",
              "    <tr>\n",
              "      <th>bdate</th>\n",
              "      <td>0</td>\n",
              "    </tr>\n",
              "    <tr>\n",
              "      <th>city</th>\n",
              "      <td>1553</td>\n",
              "    </tr>\n",
              "    <tr>\n",
              "      <th>country</th>\n",
              "      <td>0</td>\n",
              "    </tr>\n",
              "    <tr>\n",
              "      <th>last_seen</th>\n",
              "      <td>26</td>\n",
              "    </tr>\n",
              "    <tr>\n",
              "      <th>followers_count</th>\n",
              "      <td>873</td>\n",
              "    </tr>\n",
              "    <tr>\n",
              "      <th>common_count</th>\n",
              "      <td>0</td>\n",
              "    </tr>\n",
              "    <tr>\n",
              "      <th>sex</th>\n",
              "      <td>0</td>\n",
              "    </tr>\n",
              "    <tr>\n",
              "      <th>is_closed</th>\n",
              "      <td>4</td>\n",
              "    </tr>\n",
              "    <tr>\n",
              "      <th>home_town</th>\n",
              "      <td>2967</td>\n",
              "    </tr>\n",
              "    <tr>\n",
              "      <th>relation</th>\n",
              "      <td>1941</td>\n",
              "    </tr>\n",
              "    <tr>\n",
              "      <th>costs</th>\n",
              "      <td>30</td>\n",
              "    </tr>\n",
              "    <tr>\n",
              "      <th>games</th>\n",
              "      <td>30</td>\n",
              "    </tr>\n",
              "  </tbody>\n",
              "</table>\n",
              "</div><br><label><b>dtype:</b> int64</label>"
            ]
          },
          "metadata": {},
          "execution_count": 1056
        }
      ]
    },
    {
      "cell_type": "markdown",
      "source": [
        "## Удаление пустых строх (last_seen, sex, costs, games)"
      ],
      "metadata": {
        "id": "W3_j16hmMVMh"
      }
    },
    {
      "cell_type": "code",
      "source": [
        "df = df.dropna(subset=['last_seen', 'is_closed', 'sex', 'costs', 'games'])"
      ],
      "metadata": {
        "id": "iKIbCd3fOihf"
      },
      "execution_count": 1057,
      "outputs": []
    },
    {
      "cell_type": "code",
      "source": [
        "df = df.reset_index(drop=True)"
      ],
      "metadata": {
        "id": "DEIbdO2vOnsi"
      },
      "execution_count": 1058,
      "outputs": []
    },
    {
      "cell_type": "code",
      "source": [
        "df.isna().sum()"
      ],
      "metadata": {
        "colab": {
          "base_uri": "https://localhost:8080/",
          "height": 491
        },
        "id": "EMlaCM7yMfKp",
        "outputId": "7a6dd28a-0384-47a1-c3f7-f758cbee1ddf"
      },
      "execution_count": 1059,
      "outputs": [
        {
          "output_type": "execute_result",
          "data": {
            "text/plain": [
              "id                    0\n",
              "bdate                 0\n",
              "city               1539\n",
              "country               0\n",
              "last_seen             0\n",
              "followers_count     857\n",
              "common_count          0\n",
              "sex                   0\n",
              "is_closed             0\n",
              "home_town          2916\n",
              "relation           1906\n",
              "costs                 0\n",
              "games                 0\n",
              "dtype: int64"
            ],
            "text/html": [
              "<div>\n",
              "<style scoped>\n",
              "    .dataframe tbody tr th:only-of-type {\n",
              "        vertical-align: middle;\n",
              "    }\n",
              "\n",
              "    .dataframe tbody tr th {\n",
              "        vertical-align: top;\n",
              "    }\n",
              "\n",
              "    .dataframe thead th {\n",
              "        text-align: right;\n",
              "    }\n",
              "</style>\n",
              "<table border=\"1\" class=\"dataframe\">\n",
              "  <thead>\n",
              "    <tr style=\"text-align: right;\">\n",
              "      <th></th>\n",
              "      <th>0</th>\n",
              "    </tr>\n",
              "  </thead>\n",
              "  <tbody>\n",
              "    <tr>\n",
              "      <th>id</th>\n",
              "      <td>0</td>\n",
              "    </tr>\n",
              "    <tr>\n",
              "      <th>bdate</th>\n",
              "      <td>0</td>\n",
              "    </tr>\n",
              "    <tr>\n",
              "      <th>city</th>\n",
              "      <td>1539</td>\n",
              "    </tr>\n",
              "    <tr>\n",
              "      <th>country</th>\n",
              "      <td>0</td>\n",
              "    </tr>\n",
              "    <tr>\n",
              "      <th>last_seen</th>\n",
              "      <td>0</td>\n",
              "    </tr>\n",
              "    <tr>\n",
              "      <th>followers_count</th>\n",
              "      <td>857</td>\n",
              "    </tr>\n",
              "    <tr>\n",
              "      <th>common_count</th>\n",
              "      <td>0</td>\n",
              "    </tr>\n",
              "    <tr>\n",
              "      <th>sex</th>\n",
              "      <td>0</td>\n",
              "    </tr>\n",
              "    <tr>\n",
              "      <th>is_closed</th>\n",
              "      <td>0</td>\n",
              "    </tr>\n",
              "    <tr>\n",
              "      <th>home_town</th>\n",
              "      <td>2916</td>\n",
              "    </tr>\n",
              "    <tr>\n",
              "      <th>relation</th>\n",
              "      <td>1906</td>\n",
              "    </tr>\n",
              "    <tr>\n",
              "      <th>costs</th>\n",
              "      <td>0</td>\n",
              "    </tr>\n",
              "    <tr>\n",
              "      <th>games</th>\n",
              "      <td>0</td>\n",
              "    </tr>\n",
              "  </tbody>\n",
              "</table>\n",
              "</div><br><label><b>dtype:</b> int64</label>"
            ]
          },
          "metadata": {},
          "execution_count": 1059
        }
      ]
    },
    {
      "cell_type": "markdown",
      "source": [
        "Удалено **30** пустых строк"
      ],
      "metadata": {
        "id": "gOByfmrWOtPB"
      }
    },
    {
      "cell_type": "markdown",
      "source": [
        "## Подсчёт возраста (bdate, age)"
      ],
      "metadata": {
        "id": "QUXevHlwPVNt"
      }
    },
    {
      "cell_type": "code",
      "source": [
        "from datetime import datetime"
      ],
      "metadata": {
        "id": "EBs8K3iuP9-7"
      },
      "execution_count": 1060,
      "outputs": []
    },
    {
      "cell_type": "code",
      "source": [
        "df['bdate'] = pd.to_datetime(df['bdate'], format='%d.%m.%Y')"
      ],
      "metadata": {
        "id": "2kJLhptePqm0"
      },
      "execution_count": 1061,
      "outputs": []
    },
    {
      "cell_type": "code",
      "source": [
        "df['age'] = (datetime.now() - df['bdate']).dt.days / 365.25"
      ],
      "metadata": {
        "id": "veATFX5KP3kW"
      },
      "execution_count": 1062,
      "outputs": []
    },
    {
      "cell_type": "code",
      "source": [
        "df['age'] = df['age'].round().astype('int')"
      ],
      "metadata": {
        "id": "Ia-uh8owP6eO"
      },
      "execution_count": 1063,
      "outputs": []
    },
    {
      "cell_type": "code",
      "source": [
        "df.insert(1, 'age', df.pop('age'))"
      ],
      "metadata": {
        "id": "Gg9K9c5RsoLz"
      },
      "execution_count": 1064,
      "outputs": []
    },
    {
      "cell_type": "code",
      "source": [
        "df = df.drop(columns=['bdate'])"
      ],
      "metadata": {
        "id": "NDs7Jn_NV8uO"
      },
      "execution_count": 1065,
      "outputs": []
    },
    {
      "cell_type": "code",
      "source": [
        "df['age']"
      ],
      "metadata": {
        "colab": {
          "base_uri": "https://localhost:8080/",
          "height": 458
        },
        "id": "Atyqtyu0QG1c",
        "outputId": "7457ad04-f5be-4470-de73-59effebe6aa4"
      },
      "execution_count": 1066,
      "outputs": [
        {
          "output_type": "execute_result",
          "data": {
            "text/plain": [
              "0       21\n",
              "1       41\n",
              "2       47\n",
              "3       24\n",
              "4       37\n",
              "        ..\n",
              "3462    17\n",
              "3463    35\n",
              "3464    19\n",
              "3465    24\n",
              "3466    25\n",
              "Name: age, Length: 3467, dtype: int64"
            ],
            "text/html": [
              "<div>\n",
              "<style scoped>\n",
              "    .dataframe tbody tr th:only-of-type {\n",
              "        vertical-align: middle;\n",
              "    }\n",
              "\n",
              "    .dataframe tbody tr th {\n",
              "        vertical-align: top;\n",
              "    }\n",
              "\n",
              "    .dataframe thead th {\n",
              "        text-align: right;\n",
              "    }\n",
              "</style>\n",
              "<table border=\"1\" class=\"dataframe\">\n",
              "  <thead>\n",
              "    <tr style=\"text-align: right;\">\n",
              "      <th></th>\n",
              "      <th>age</th>\n",
              "    </tr>\n",
              "  </thead>\n",
              "  <tbody>\n",
              "    <tr>\n",
              "      <th>0</th>\n",
              "      <td>21</td>\n",
              "    </tr>\n",
              "    <tr>\n",
              "      <th>1</th>\n",
              "      <td>41</td>\n",
              "    </tr>\n",
              "    <tr>\n",
              "      <th>2</th>\n",
              "      <td>47</td>\n",
              "    </tr>\n",
              "    <tr>\n",
              "      <th>3</th>\n",
              "      <td>24</td>\n",
              "    </tr>\n",
              "    <tr>\n",
              "      <th>4</th>\n",
              "      <td>37</td>\n",
              "    </tr>\n",
              "    <tr>\n",
              "      <th>...</th>\n",
              "      <td>...</td>\n",
              "    </tr>\n",
              "    <tr>\n",
              "      <th>3462</th>\n",
              "      <td>17</td>\n",
              "    </tr>\n",
              "    <tr>\n",
              "      <th>3463</th>\n",
              "      <td>35</td>\n",
              "    </tr>\n",
              "    <tr>\n",
              "      <th>3464</th>\n",
              "      <td>19</td>\n",
              "    </tr>\n",
              "    <tr>\n",
              "      <th>3465</th>\n",
              "      <td>24</td>\n",
              "    </tr>\n",
              "    <tr>\n",
              "      <th>3466</th>\n",
              "      <td>25</td>\n",
              "    </tr>\n",
              "  </tbody>\n",
              "</table>\n",
              "<p>3467 rows × 1 columns</p>\n",
              "</div><br><label><b>dtype:</b> int64</label>"
            ]
          },
          "metadata": {},
          "execution_count": 1066
        }
      ]
    },
    {
      "cell_type": "markdown",
      "source": [
        "## Обрабатываем столбцы"
      ],
      "metadata": {
        "id": "4tveKFzAXAbT"
      }
    },
    {
      "cell_type": "markdown",
      "source": [
        "### city"
      ],
      "metadata": {
        "id": "o5WPRBtobnwn"
      }
    },
    {
      "cell_type": "code",
      "source": [
        "import numpy as np"
      ],
      "metadata": {
        "id": "_wC4euOkXHk6"
      },
      "execution_count": 1067,
      "outputs": []
    },
    {
      "cell_type": "code",
      "source": [
        "df['city'] = df['city'].str.extract(r\"'title':\\s*'([^']*)'\") if df['city'].dtype == 'object' else np.nan"
      ],
      "metadata": {
        "id": "lBhJCTkUXEmo"
      },
      "execution_count": 1068,
      "outputs": []
    },
    {
      "cell_type": "code",
      "source": [
        "df['city'].dropna().unique()"
      ],
      "metadata": {
        "colab": {
          "base_uri": "https://localhost:8080/"
        },
        "id": "N9NkXc0yY7wt",
        "outputId": "6b5c049f-65cf-48a2-ce80-d0e56e59a879"
      },
      "execution_count": 1069,
      "outputs": [
        {
          "output_type": "execute_result",
          "data": {
            "text/plain": [
              "array(['Saint-Petersburg', 'Новосибирск', 'москва', 'Саратов',\n",
              "       'Foster City', 'Донецк', 'Нижний Новгород', 'Рязань',\n",
              "       'Ивано-Франковск', 'Phuket', 'Краснодар', 'Los Angeles',\n",
              "       'Челябинск', 'Pattaya', 'Улан-Удэ', 'Алматы', 'Ногинск', 'Самара',\n",
              "       'Бийск', 'Кингисепп', 'Воронеж', 'Тель-Авив', 'Сочи', 'Мурманск',\n",
              "       'Киев', 'Praha', 'Кириши', 'Калининград', 'Братск', 'Элиста',\n",
              "       'Нефтеюганск', 'Минск', 'Сургут', 'Нур-Султан / Астана', 'Ижевск',\n",
              "       'Гатчина', 'Старая Русса', 'Казань', 'Пермь', 'Дюртюли',\n",
              "       'Смоленск', 'Moscow', 'Астрахань', 'Южно-Сахалинск', 'Paphos',\n",
              "       'Пятигорск', 'Орехово-Зуево', 'Саранск', 'Надым', 'Троицк',\n",
              "       'Североморск', 'Иркутск', 'Лида', 'Салехард', 'Уфа',\n",
              "       'Сосновый Бор', 'Усинск', 'Ростов-на-Дону', 'Новочеркасск',\n",
              "       'Leipzig', 'санкт-петербург', 'Чебоксары', 'Ломоносов', 'Обнинск',\n",
              "       'Хотьково', 'Хабаровск', 'Саянск', 'Белгород', 'Сестрорецк',\n",
              "       'Питкяранта', 'Барнаул', 'Балаково', 'Петрозаводск',\n",
              "       'Сергиев Посад', 'Кострома', 'Екатеринбург', 'Всеволожск',\n",
              "       'Оренбург', 'Владивосток', 'Amsterdam', 'Севастополь', 'Sofia',\n",
              "       'Якутск', 'Атырау', 'Hamburg', 'Калуга', 'Великий Новгород',\n",
              "       'Ярославль', 'Stockholm', 'Тосно', 'Таганрог', 'Гусиноозерск',\n",
              "       'Феодосия', 'Домодедово', 'Южноуральск', 'Budva', 'Череповец',\n",
              "       'Черновцы', 'Ессентуки', 'Набережные Челны', 'Симферополь',\n",
              "       'Геленджик', 'Выборг', 'Одесса', 'New York City', 'Туапсе', 'Баку',\n",
              "       'Нижняя Язьва', 'Кропоткин', 'Красноярск', 'Брянск', 'Кашира',\n",
              "       'Ульяновск', 'Гомель', 'Abu Dhabi', 'Чехов', 'Madrid',\n",
              "       'Нижний Тагил', 'Mardān', 'Кудрово', 'Boston', 'Клин',\n",
              "       'Магнитогорск', 'Курск', 'Ленинск-Кузнецкий', 'Липецк', 'Томск',\n",
              "       'Тогучин', 'Татарск', 'Благовещенск', 'Днепр (Днепропетровск)',\n",
              "       'Drammen', 'Ленск', 'Иткулово', 'Chicago', 'Beograd', 'Тюмень',\n",
              "       'Грозный', 'Абакан', 'Октябрьский', 'Юрюзань', 'Monaco',\n",
              "       'Frankfurt am Main', 'Жуковский', 'Washington, D.C.', 'Горловка',\n",
              "       'Иерусалим', 'Одинцово', 'Волгоград', 'Edinburgh', 'Шелехов',\n",
              "       'Bangkok', 'Essen', 'Энгельс', 'Выкса', 'Уссурийск', 'Владикавказ',\n",
              "       'Горно-Алтайск', 'London', 'Брест', 'Уральск', 'Москва',\n",
              "       'Мелитополь', 'Волжский', 'Milano', 'Ханты-Мансийск', 'Кишинев',\n",
              "       'Вязьма', 'Алейск', 'Черкесск', 'Тула', 'Бабаево', 'Королёв',\n",
              "       'Бердянск', 'Ставрополь', 'Емельяново', 'Toronto', 'Припять',\n",
              "       'Токмок', 'Сыктывкар', 'Анапа', 'Нововоронеж', 'Котлас', 'Кировск',\n",
              "       'Комсомольск-на-Амуре', 'Тикси', 'Волжск', 'Северодвинск',\n",
              "       'Helsinki', 'Old Fort', 'Альметьевск', 'Зеленоград',\n",
              "       'Санкт-Петербург', 'Салават', 'Апатиты', 'Архангельск',\n",
              "       'Düsseldorf', 'Нижневартовск', 'Лобня', 'Торжок', 'Таллин',\n",
              "       'Татарка', 'Старица', 'Новокузнецк', 'Петропавловск-Камчатский',\n",
              "       'Борисов', 'Краснознаменск', 'Омск', 'Львов', 'Псков', 'Вологда',\n",
              "       'Дубна', 'Солнечногорск', 'Колпино', 'Medellín', 'Великий Устюг',\n",
              "       'Владимир', 'Киров', 'Боготол', 'Кубинка', 'Liverpool', 'Подольск',\n",
              "       'Чаплыгин', 'Советск', 'Durrës', 'Кызыл', 'Мончегорск', 'Тихвин',\n",
              "       'Тверь', 'Фрязино', 'São Paulo', 'Кемерово', 'Иннополис',\n",
              "       'München', 'Limassol', 'Звенигород', 'Мытищи', 'Снежинск',\n",
              "       'Коломна', 'Тобольск', 'Партенит', 'Шадринск', 'Электросталь',\n",
              "       'Чебаркуль', 'Красный Кут', 'Йошкар-Ола', 'Златоуст', 'Тольятти',\n",
              "       'Пушкино', 'Ейск', 'Хохлята', 'Дмитров', 'Майкоп', 'Курган',\n",
              "       'Дедовичи', 'Павловский Посад', 'Detroit', 'Лох', 'Gdańsk', 'Орёл',\n",
              "       'Gaborone', 'Запорожье', 'Караганда', 'Краснодарский', 'Warszawa',\n",
              "       'Киселевск', 'Чита', 'Ковров', 'Stuttgart', 'Новоаганск',\n",
              "       'Елабуга', 'Орск', 'Усолье-Сибирское', 'Ташкент', 'Бишкек',\n",
              "       'Харьков', 'Вильнюс', 'Гродно', 'Амирово', 'Лоев', 'Абинск',\n",
              "       'Bruxelles', 'Махачкала', 'Муром', 'Норильск'], dtype=object)"
            ]
          },
          "metadata": {},
          "execution_count": 1069
        }
      ]
    },
    {
      "cell_type": "code",
      "source": [
        "city_mapping = {\n",
        "    'санкт-петербург': 'Санкт-Петербург',\n",
        "    'Saint-Petersburg': 'Санкт-Петербург',\n",
        "    'москва': 'Москва',\n",
        "    'Moscow': 'Москва',\n",
        "}"
      ],
      "metadata": {
        "id": "dYRcVgCJXOGW"
      },
      "execution_count": 1070,
      "outputs": []
    },
    {
      "cell_type": "code",
      "source": [
        "df['city'] = df['city'].map(city_mapping).fillna(df['city'])"
      ],
      "metadata": {
        "id": "8OaDr2ubZ-rX"
      },
      "execution_count": 1071,
      "outputs": []
    },
    {
      "cell_type": "code",
      "source": [
        "df['city'].dropna().unique()"
      ],
      "metadata": {
        "colab": {
          "base_uri": "https://localhost:8080/"
        },
        "id": "UsmWHr2cehfz",
        "outputId": "f17ac998-c4c4-4873-bebe-4a905e9e4b8e"
      },
      "execution_count": 1072,
      "outputs": [
        {
          "output_type": "execute_result",
          "data": {
            "text/plain": [
              "array(['Санкт-Петербург', 'Новосибирск', 'Москва', 'Саратов',\n",
              "       'Foster City', 'Донецк', 'Нижний Новгород', 'Рязань',\n",
              "       'Ивано-Франковск', 'Phuket', 'Краснодар', 'Los Angeles',\n",
              "       'Челябинск', 'Pattaya', 'Улан-Удэ', 'Алматы', 'Ногинск', 'Самара',\n",
              "       'Бийск', 'Кингисепп', 'Воронеж', 'Тель-Авив', 'Сочи', 'Мурманск',\n",
              "       'Киев', 'Praha', 'Кириши', 'Калининград', 'Братск', 'Элиста',\n",
              "       'Нефтеюганск', 'Минск', 'Сургут', 'Нур-Султан / Астана', 'Ижевск',\n",
              "       'Гатчина', 'Старая Русса', 'Казань', 'Пермь', 'Дюртюли',\n",
              "       'Смоленск', 'Астрахань', 'Южно-Сахалинск', 'Paphos', 'Пятигорск',\n",
              "       'Орехово-Зуево', 'Саранск', 'Надым', 'Троицк', 'Североморск',\n",
              "       'Иркутск', 'Лида', 'Салехард', 'Уфа', 'Сосновый Бор', 'Усинск',\n",
              "       'Ростов-на-Дону', 'Новочеркасск', 'Leipzig', 'Чебоксары',\n",
              "       'Ломоносов', 'Обнинск', 'Хотьково', 'Хабаровск', 'Саянск',\n",
              "       'Белгород', 'Сестрорецк', 'Питкяранта', 'Барнаул', 'Балаково',\n",
              "       'Петрозаводск', 'Сергиев Посад', 'Кострома', 'Екатеринбург',\n",
              "       'Всеволожск', 'Оренбург', 'Владивосток', 'Amsterdam',\n",
              "       'Севастополь', 'Sofia', 'Якутск', 'Атырау', 'Hamburg', 'Калуга',\n",
              "       'Великий Новгород', 'Ярославль', 'Stockholm', 'Тосно', 'Таганрог',\n",
              "       'Гусиноозерск', 'Феодосия', 'Домодедово', 'Южноуральск', 'Budva',\n",
              "       'Череповец', 'Черновцы', 'Ессентуки', 'Набережные Челны',\n",
              "       'Симферополь', 'Геленджик', 'Выборг', 'Одесса', 'New York City',\n",
              "       'Туапсе', 'Баку', 'Нижняя Язьва', 'Кропоткин', 'Красноярск',\n",
              "       'Брянск', 'Кашира', 'Ульяновск', 'Гомель', 'Abu Dhabi', 'Чехов',\n",
              "       'Madrid', 'Нижний Тагил', 'Mardān', 'Кудрово', 'Boston', 'Клин',\n",
              "       'Магнитогорск', 'Курск', 'Ленинск-Кузнецкий', 'Липецк', 'Томск',\n",
              "       'Тогучин', 'Татарск', 'Благовещенск', 'Днепр (Днепропетровск)',\n",
              "       'Drammen', 'Ленск', 'Иткулово', 'Chicago', 'Beograd', 'Тюмень',\n",
              "       'Грозный', 'Абакан', 'Октябрьский', 'Юрюзань', 'Monaco',\n",
              "       'Frankfurt am Main', 'Жуковский', 'Washington, D.C.', 'Горловка',\n",
              "       'Иерусалим', 'Одинцово', 'Волгоград', 'Edinburgh', 'Шелехов',\n",
              "       'Bangkok', 'Essen', 'Энгельс', 'Выкса', 'Уссурийск', 'Владикавказ',\n",
              "       'Горно-Алтайск', 'London', 'Брест', 'Уральск', 'Мелитополь',\n",
              "       'Волжский', 'Milano', 'Ханты-Мансийск', 'Кишинев', 'Вязьма',\n",
              "       'Алейск', 'Черкесск', 'Тула', 'Бабаево', 'Королёв', 'Бердянск',\n",
              "       'Ставрополь', 'Емельяново', 'Toronto', 'Припять', 'Токмок',\n",
              "       'Сыктывкар', 'Анапа', 'Нововоронеж', 'Котлас', 'Кировск',\n",
              "       'Комсомольск-на-Амуре', 'Тикси', 'Волжск', 'Северодвинск',\n",
              "       'Helsinki', 'Old Fort', 'Альметьевск', 'Зеленоград', 'Салават',\n",
              "       'Апатиты', 'Архангельск', 'Düsseldorf', 'Нижневартовск', 'Лобня',\n",
              "       'Торжок', 'Таллин', 'Татарка', 'Старица', 'Новокузнецк',\n",
              "       'Петропавловск-Камчатский', 'Борисов', 'Краснознаменск', 'Омск',\n",
              "       'Львов', 'Псков', 'Вологда', 'Дубна', 'Солнечногорск', 'Колпино',\n",
              "       'Medellín', 'Великий Устюг', 'Владимир', 'Киров', 'Боготол',\n",
              "       'Кубинка', 'Liverpool', 'Подольск', 'Чаплыгин', 'Советск',\n",
              "       'Durrës', 'Кызыл', 'Мончегорск', 'Тихвин', 'Тверь', 'Фрязино',\n",
              "       'São Paulo', 'Кемерово', 'Иннополис', 'München', 'Limassol',\n",
              "       'Звенигород', 'Мытищи', 'Снежинск', 'Коломна', 'Тобольск',\n",
              "       'Партенит', 'Шадринск', 'Электросталь', 'Чебаркуль', 'Красный Кут',\n",
              "       'Йошкар-Ола', 'Златоуст', 'Тольятти', 'Пушкино', 'Ейск', 'Хохлята',\n",
              "       'Дмитров', 'Майкоп', 'Курган', 'Дедовичи', 'Павловский Посад',\n",
              "       'Detroit', 'Лох', 'Gdańsk', 'Орёл', 'Gaborone', 'Запорожье',\n",
              "       'Караганда', 'Краснодарский', 'Warszawa', 'Киселевск', 'Чита',\n",
              "       'Ковров', 'Stuttgart', 'Новоаганск', 'Елабуга', 'Орск',\n",
              "       'Усолье-Сибирское', 'Ташкент', 'Бишкек', 'Харьков', 'Вильнюс',\n",
              "       'Гродно', 'Амирово', 'Лоев', 'Абинск', 'Bruxelles', 'Махачкала',\n",
              "       'Муром', 'Норильск'], dtype=object)"
            ]
          },
          "metadata": {},
          "execution_count": 1072
        }
      ]
    },
    {
      "cell_type": "markdown",
      "source": [
        "### country"
      ],
      "metadata": {
        "id": "taAJfk_9bqV9"
      }
    },
    {
      "cell_type": "code",
      "source": [
        "df['country'] = df['country'].str.extract(r\"'title':\\s*'([^']*)'\") if df['country'].dtype == 'object' else np.nan"
      ],
      "metadata": {
        "id": "oukgjFFOcbbH"
      },
      "execution_count": 1073,
      "outputs": []
    },
    {
      "cell_type": "code",
      "source": [
        "df['country'].dropna().unique()"
      ],
      "metadata": {
        "colab": {
          "base_uri": "https://localhost:8080/"
        },
        "id": "m2g8G7kJcigg",
        "outputId": "c309f197-0bd5-4ccc-9d8a-2be64ea211f2"
      },
      "execution_count": 1074,
      "outputs": [
        {
          "output_type": "execute_result",
          "data": {
            "text/plain": [
              "array(['Россия', 'США', 'Украина', 'Таиланд', 'Казахстан', 'Израиль',\n",
              "       'Чехия', 'Беларусь', 'Кипр', 'Антигуа и Барбуда', 'Германия',\n",
              "       'Нидерланды', 'Болгария', 'Швеция', 'Черногория', 'Азербайджан',\n",
              "       'Объединенные Арабские Эмираты', 'Испания', 'Пакистан', 'Норвегия',\n",
              "       'Сербия', 'Монако', 'Великобритания', 'Италия', 'Мальта',\n",
              "       'Молдова', 'Канада', 'Кыргызстан', 'Южно-Африканская Республика',\n",
              "       'Финляндия', 'Эстония', 'Колумбия', 'Албания', 'Бразилия',\n",
              "       'Польша', 'Ботсвана', 'Узбекистан', 'Джерси', 'Литва', 'Бельгия'],\n",
              "      dtype=object)"
            ]
          },
          "metadata": {},
          "execution_count": 1074
        }
      ]
    },
    {
      "cell_type": "markdown",
      "source": [
        "### last_seen"
      ],
      "metadata": {
        "id": "sgpNI8TZctuZ"
      }
    },
    {
      "cell_type": "code",
      "source": [
        "import ast"
      ],
      "metadata": {
        "id": "Bu_RgEZkf-ID"
      },
      "execution_count": 1075,
      "outputs": []
    },
    {
      "cell_type": "code",
      "source": [
        "df['last_seen'] = df['last_seen'].apply(lambda x: ast.literal_eval(x)['time'] if isinstance(x, str) else None)"
      ],
      "metadata": {
        "id": "_faJauzMgA6w"
      },
      "execution_count": 1076,
      "outputs": []
    },
    {
      "cell_type": "code",
      "source": [
        "df['last_seen'] = pd.to_datetime(df['last_seen'], unit='s')"
      ],
      "metadata": {
        "id": "smNxeXmSgVlm"
      },
      "execution_count": 1077,
      "outputs": []
    },
    {
      "cell_type": "code",
      "source": [
        "df['last_seen']"
      ],
      "metadata": {
        "colab": {
          "base_uri": "https://localhost:8080/",
          "height": 0
        },
        "id": "y0vtIQ-ccz8g",
        "outputId": "e0db0ad3-ff18-41d4-b63f-c93ca9ead913"
      },
      "execution_count": 1078,
      "outputs": [
        {
          "output_type": "execute_result",
          "data": {
            "text/plain": [
              "0      2022-09-03 20:36:02\n",
              "1      2022-08-24 06:16:43\n",
              "2      2022-09-03 10:56:59\n",
              "3      2021-02-19 04:15:36\n",
              "4      2021-04-27 19:12:50\n",
              "               ...        \n",
              "3462   2022-09-03 06:16:08\n",
              "3463   2022-07-26 07:20:57\n",
              "3464   2022-09-03 20:37:02\n",
              "3465   2022-09-03 19:15:23\n",
              "3466   2022-08-29 17:12:26\n",
              "Name: last_seen, Length: 3467, dtype: datetime64[ns]"
            ],
            "text/html": [
              "<div>\n",
              "<style scoped>\n",
              "    .dataframe tbody tr th:only-of-type {\n",
              "        vertical-align: middle;\n",
              "    }\n",
              "\n",
              "    .dataframe tbody tr th {\n",
              "        vertical-align: top;\n",
              "    }\n",
              "\n",
              "    .dataframe thead th {\n",
              "        text-align: right;\n",
              "    }\n",
              "</style>\n",
              "<table border=\"1\" class=\"dataframe\">\n",
              "  <thead>\n",
              "    <tr style=\"text-align: right;\">\n",
              "      <th></th>\n",
              "      <th>last_seen</th>\n",
              "    </tr>\n",
              "  </thead>\n",
              "  <tbody>\n",
              "    <tr>\n",
              "      <th>0</th>\n",
              "      <td>2022-09-03 20:36:02</td>\n",
              "    </tr>\n",
              "    <tr>\n",
              "      <th>1</th>\n",
              "      <td>2022-08-24 06:16:43</td>\n",
              "    </tr>\n",
              "    <tr>\n",
              "      <th>2</th>\n",
              "      <td>2022-09-03 10:56:59</td>\n",
              "    </tr>\n",
              "    <tr>\n",
              "      <th>3</th>\n",
              "      <td>2021-02-19 04:15:36</td>\n",
              "    </tr>\n",
              "    <tr>\n",
              "      <th>4</th>\n",
              "      <td>2021-04-27 19:12:50</td>\n",
              "    </tr>\n",
              "    <tr>\n",
              "      <th>...</th>\n",
              "      <td>...</td>\n",
              "    </tr>\n",
              "    <tr>\n",
              "      <th>3462</th>\n",
              "      <td>2022-09-03 06:16:08</td>\n",
              "    </tr>\n",
              "    <tr>\n",
              "      <th>3463</th>\n",
              "      <td>2022-07-26 07:20:57</td>\n",
              "    </tr>\n",
              "    <tr>\n",
              "      <th>3464</th>\n",
              "      <td>2022-09-03 20:37:02</td>\n",
              "    </tr>\n",
              "    <tr>\n",
              "      <th>3465</th>\n",
              "      <td>2022-09-03 19:15:23</td>\n",
              "    </tr>\n",
              "    <tr>\n",
              "      <th>3466</th>\n",
              "      <td>2022-08-29 17:12:26</td>\n",
              "    </tr>\n",
              "  </tbody>\n",
              "</table>\n",
              "<p>3467 rows × 1 columns</p>\n",
              "</div><br><label><b>dtype:</b> datetime64[ns]</label>"
            ]
          },
          "metadata": {},
          "execution_count": 1078
        }
      ]
    },
    {
      "cell_type": "markdown",
      "source": [
        "### followers_count"
      ],
      "metadata": {
        "id": "_PHtyD3Pg9WT"
      }
    },
    {
      "cell_type": "code",
      "source": [
        "df['followers_count'] = pd.to_numeric(df['followers_count'], errors='coerce').astype('Int64')"
      ],
      "metadata": {
        "id": "tANT7i7zg_sY"
      },
      "execution_count": 1079,
      "outputs": []
    },
    {
      "cell_type": "code",
      "source": [
        "df['followers_count']"
      ],
      "metadata": {
        "colab": {
          "base_uri": "https://localhost:8080/",
          "height": 0
        },
        "id": "cgoZnJp1hFGS",
        "outputId": "0c15d667-3e51-4e0d-e049-72ba13f898b7"
      },
      "execution_count": 1080,
      "outputs": [
        {
          "output_type": "execute_result",
          "data": {
            "text/plain": [
              "0       39326\n",
              "1       19698\n",
              "2        <NA>\n",
              "3        <NA>\n",
              "4       31433\n",
              "        ...  \n",
              "3462     <NA>\n",
              "3463     <NA>\n",
              "3464        0\n",
              "3465        1\n",
              "3466     <NA>\n",
              "Name: followers_count, Length: 3467, dtype: Int64"
            ],
            "text/html": [
              "<div>\n",
              "<style scoped>\n",
              "    .dataframe tbody tr th:only-of-type {\n",
              "        vertical-align: middle;\n",
              "    }\n",
              "\n",
              "    .dataframe tbody tr th {\n",
              "        vertical-align: top;\n",
              "    }\n",
              "\n",
              "    .dataframe thead th {\n",
              "        text-align: right;\n",
              "    }\n",
              "</style>\n",
              "<table border=\"1\" class=\"dataframe\">\n",
              "  <thead>\n",
              "    <tr style=\"text-align: right;\">\n",
              "      <th></th>\n",
              "      <th>followers_count</th>\n",
              "    </tr>\n",
              "  </thead>\n",
              "  <tbody>\n",
              "    <tr>\n",
              "      <th>0</th>\n",
              "      <td>39326</td>\n",
              "    </tr>\n",
              "    <tr>\n",
              "      <th>1</th>\n",
              "      <td>19698</td>\n",
              "    </tr>\n",
              "    <tr>\n",
              "      <th>2</th>\n",
              "      <td>&lt;NA&gt;</td>\n",
              "    </tr>\n",
              "    <tr>\n",
              "      <th>3</th>\n",
              "      <td>&lt;NA&gt;</td>\n",
              "    </tr>\n",
              "    <tr>\n",
              "      <th>4</th>\n",
              "      <td>31433</td>\n",
              "    </tr>\n",
              "    <tr>\n",
              "      <th>...</th>\n",
              "      <td>...</td>\n",
              "    </tr>\n",
              "    <tr>\n",
              "      <th>3462</th>\n",
              "      <td>&lt;NA&gt;</td>\n",
              "    </tr>\n",
              "    <tr>\n",
              "      <th>3463</th>\n",
              "      <td>&lt;NA&gt;</td>\n",
              "    </tr>\n",
              "    <tr>\n",
              "      <th>3464</th>\n",
              "      <td>0</td>\n",
              "    </tr>\n",
              "    <tr>\n",
              "      <th>3465</th>\n",
              "      <td>1</td>\n",
              "    </tr>\n",
              "    <tr>\n",
              "      <th>3466</th>\n",
              "      <td>&lt;NA&gt;</td>\n",
              "    </tr>\n",
              "  </tbody>\n",
              "</table>\n",
              "<p>3467 rows × 1 columns</p>\n",
              "</div><br><label><b>dtype:</b> Int64</label>"
            ]
          },
          "metadata": {},
          "execution_count": 1080
        }
      ]
    },
    {
      "cell_type": "markdown",
      "source": [
        "### common_count"
      ],
      "metadata": {
        "id": "eAa-ySrVideG"
      }
    },
    {
      "cell_type": "markdown",
      "source": [
        "В API ВК это количество общих друзей с текущим пользователем. Не требуется."
      ],
      "metadata": {
        "id": "K2TrTGRbifwF"
      }
    },
    {
      "cell_type": "code",
      "source": [
        "df = df.drop('common_count', axis=1)"
      ],
      "metadata": {
        "id": "fcfC9aXrirYl"
      },
      "execution_count": 1081,
      "outputs": []
    },
    {
      "cell_type": "markdown",
      "source": [
        "### sex"
      ],
      "metadata": {
        "id": "229527G3hyO4"
      }
    },
    {
      "cell_type": "code",
      "source": [
        "gender_map = {\n",
        "    0: 'не указан',\n",
        "    1: 'Женский',\n",
        "    2: 'Мужской'\n",
        "}"
      ],
      "metadata": {
        "id": "ZMhIDbqwhzvO"
      },
      "execution_count": 1082,
      "outputs": []
    },
    {
      "cell_type": "code",
      "source": [
        "df['sex'] = df['sex'].map(gender_map)"
      ],
      "metadata": {
        "id": "JZIAmcdch2jz"
      },
      "execution_count": 1083,
      "outputs": []
    },
    {
      "cell_type": "code",
      "source": [
        "df['sex']"
      ],
      "metadata": {
        "colab": {
          "base_uri": "https://localhost:8080/",
          "height": 458
        },
        "id": "TDJ5thb_h3jj",
        "outputId": "9b46e424-0c27-4435-aa3a-4fc1fb65d746"
      },
      "execution_count": 1084,
      "outputs": [
        {
          "output_type": "execute_result",
          "data": {
            "text/plain": [
              "0       Женский\n",
              "1       Мужской\n",
              "2       Мужской\n",
              "3       Мужской\n",
              "4       Мужской\n",
              "         ...   \n",
              "3462    Мужской\n",
              "3463    Мужской\n",
              "3464    Мужской\n",
              "3465    Мужской\n",
              "3466    Мужской\n",
              "Name: sex, Length: 3467, dtype: object"
            ],
            "text/html": [
              "<div>\n",
              "<style scoped>\n",
              "    .dataframe tbody tr th:only-of-type {\n",
              "        vertical-align: middle;\n",
              "    }\n",
              "\n",
              "    .dataframe tbody tr th {\n",
              "        vertical-align: top;\n",
              "    }\n",
              "\n",
              "    .dataframe thead th {\n",
              "        text-align: right;\n",
              "    }\n",
              "</style>\n",
              "<table border=\"1\" class=\"dataframe\">\n",
              "  <thead>\n",
              "    <tr style=\"text-align: right;\">\n",
              "      <th></th>\n",
              "      <th>sex</th>\n",
              "    </tr>\n",
              "  </thead>\n",
              "  <tbody>\n",
              "    <tr>\n",
              "      <th>0</th>\n",
              "      <td>Женский</td>\n",
              "    </tr>\n",
              "    <tr>\n",
              "      <th>1</th>\n",
              "      <td>Мужской</td>\n",
              "    </tr>\n",
              "    <tr>\n",
              "      <th>2</th>\n",
              "      <td>Мужской</td>\n",
              "    </tr>\n",
              "    <tr>\n",
              "      <th>3</th>\n",
              "      <td>Мужской</td>\n",
              "    </tr>\n",
              "    <tr>\n",
              "      <th>4</th>\n",
              "      <td>Мужской</td>\n",
              "    </tr>\n",
              "    <tr>\n",
              "      <th>...</th>\n",
              "      <td>...</td>\n",
              "    </tr>\n",
              "    <tr>\n",
              "      <th>3462</th>\n",
              "      <td>Мужской</td>\n",
              "    </tr>\n",
              "    <tr>\n",
              "      <th>3463</th>\n",
              "      <td>Мужской</td>\n",
              "    </tr>\n",
              "    <tr>\n",
              "      <th>3464</th>\n",
              "      <td>Мужской</td>\n",
              "    </tr>\n",
              "    <tr>\n",
              "      <th>3465</th>\n",
              "      <td>Мужской</td>\n",
              "    </tr>\n",
              "    <tr>\n",
              "      <th>3466</th>\n",
              "      <td>Мужской</td>\n",
              "    </tr>\n",
              "  </tbody>\n",
              "</table>\n",
              "<p>3467 rows × 1 columns</p>\n",
              "</div><br><label><b>dtype:</b> object</label>"
            ]
          },
          "metadata": {},
          "execution_count": 1084
        }
      ]
    },
    {
      "cell_type": "markdown",
      "source": [
        "### is_closed"
      ],
      "metadata": {
        "id": "EVQE3J5YjDMo"
      }
    },
    {
      "cell_type": "code",
      "source": [
        "df['is_closed'] = df['is_closed'].astype(int)"
      ],
      "metadata": {
        "id": "5kKcLhdbjG0U"
      },
      "execution_count": 1085,
      "outputs": []
    },
    {
      "cell_type": "code",
      "source": [
        "df['is_closed']"
      ],
      "metadata": {
        "colab": {
          "base_uri": "https://localhost:8080/",
          "height": 458
        },
        "id": "zgAyElNZk_sO",
        "outputId": "66e7c95e-cbba-4bf0-f42e-00bbd193005c"
      },
      "execution_count": 1086,
      "outputs": [
        {
          "output_type": "execute_result",
          "data": {
            "text/plain": [
              "0       0\n",
              "1       0\n",
              "2       1\n",
              "3       1\n",
              "4       0\n",
              "       ..\n",
              "3462    1\n",
              "3463    1\n",
              "3464    0\n",
              "3465    0\n",
              "3466    1\n",
              "Name: is_closed, Length: 3467, dtype: int64"
            ],
            "text/html": [
              "<div>\n",
              "<style scoped>\n",
              "    .dataframe tbody tr th:only-of-type {\n",
              "        vertical-align: middle;\n",
              "    }\n",
              "\n",
              "    .dataframe tbody tr th {\n",
              "        vertical-align: top;\n",
              "    }\n",
              "\n",
              "    .dataframe thead th {\n",
              "        text-align: right;\n",
              "    }\n",
              "</style>\n",
              "<table border=\"1\" class=\"dataframe\">\n",
              "  <thead>\n",
              "    <tr style=\"text-align: right;\">\n",
              "      <th></th>\n",
              "      <th>is_closed</th>\n",
              "    </tr>\n",
              "  </thead>\n",
              "  <tbody>\n",
              "    <tr>\n",
              "      <th>0</th>\n",
              "      <td>0</td>\n",
              "    </tr>\n",
              "    <tr>\n",
              "      <th>1</th>\n",
              "      <td>0</td>\n",
              "    </tr>\n",
              "    <tr>\n",
              "      <th>2</th>\n",
              "      <td>1</td>\n",
              "    </tr>\n",
              "    <tr>\n",
              "      <th>3</th>\n",
              "      <td>1</td>\n",
              "    </tr>\n",
              "    <tr>\n",
              "      <th>4</th>\n",
              "      <td>0</td>\n",
              "    </tr>\n",
              "    <tr>\n",
              "      <th>...</th>\n",
              "      <td>...</td>\n",
              "    </tr>\n",
              "    <tr>\n",
              "      <th>3462</th>\n",
              "      <td>1</td>\n",
              "    </tr>\n",
              "    <tr>\n",
              "      <th>3463</th>\n",
              "      <td>1</td>\n",
              "    </tr>\n",
              "    <tr>\n",
              "      <th>3464</th>\n",
              "      <td>0</td>\n",
              "    </tr>\n",
              "    <tr>\n",
              "      <th>3465</th>\n",
              "      <td>0</td>\n",
              "    </tr>\n",
              "    <tr>\n",
              "      <th>3466</th>\n",
              "      <td>1</td>\n",
              "    </tr>\n",
              "  </tbody>\n",
              "</table>\n",
              "<p>3467 rows × 1 columns</p>\n",
              "</div><br><label><b>dtype:</b> int64</label>"
            ]
          },
          "metadata": {},
          "execution_count": 1086
        }
      ]
    },
    {
      "cell_type": "markdown",
      "source": [
        "### home_town"
      ],
      "metadata": {
        "id": "WmeykoVij2UN"
      }
    },
    {
      "cell_type": "code",
      "source": [
        "df['home_town'].dropna().unique()"
      ],
      "metadata": {
        "colab": {
          "base_uri": "https://localhost:8080/"
        },
        "id": "pBu18M4BjaWf",
        "outputId": "2ccda5a1-195f-4827-dc43-b9dc174926c3"
      },
      "execution_count": 1087,
      "outputs": [
        {
          "output_type": "execute_result",
          "data": {
            "text/plain": [
              "array(['Москва, Bangkok', 'Нижнекамск', 'Санкт-Петербург',\n",
              "       'Донецкая Народная Республика', 'Москва', 'Великий Новгород',\n",
              "       'Питер', 'Санкт Петербург', 'Челябинск', 'г.Новосибирск',\n",
              "       'СПб, УУ', 'Канаш, Аликово, Москва', 'Leningrad', 'Ногинск',\n",
              "       'Озёрный', 'СПб', 'Ленинград',\n",
              "       'Новосибирск, Академгородок - Москва - Саратов', 'Сертолово',\n",
              "       'Воронеж', 'Санкт - Петербург', 'Уфа, хотя теперь уже Питер!))',\n",
              "       'Киев',\n",
              "       'Prague, Praha, Прага, Los Angeles,New York,Москва,Санкт-Петербург',\n",
              "       'Кириши', 'Калининград', 'Братск', 'Мурманск', 'Алматы', 'Россия',\n",
              "       'Казань', 'Планета Земля', 'Смоленск', 'Зеленоград',\n",
              "       'Нижний Новгород', 'Moscow', 'Орехово-Зуево', 'Октябррррьььский',\n",
              "       'Майкоп', 'Ленинград :)', 'Питер,Самара,Милан', 'Cуpгyт, Hехворoщ',\n",
              "       'Его нет на карте', 'ЯНАО, с. Лопхари, Питер', 'Уфа', 'KARELIA',\n",
              "       'Москва-Грозный', '...', 'Оха, Кильмезь',\n",
              "       'Белград, Сербия, <- соседи, сцуко, жгут))), Крымск, Ленинск, Байконур',\n",
              "       'Саянск', 'Ашхабад', 'Питкяранта', 'планета Венера', 'Горький',\n",
              "       'Балаково', 'Кондопога', 'Ковров', 'Иерусалим', 'Макеевка',\n",
              "       'Pk-town', 'Город дороГ', 'Тосно', 'Таганрог', 'Иваново', 'Якутск',\n",
              "       'Ulan-Ude', 'Бузулук', ' \\n Санкт-Петербург ', 'ЯРОСЛАВЛЬ',\n",
              "       'с. Затобольск', 'Нижнеудинск, Иркутской области',\n",
              "       'St.-Petersburg', 'Санкт-Петербург, Ленинград', 'Белгород',\n",
              "       'Данков', 'Kawasaki', 'Tokyo', 'Чехов', 'Орехово Зуево',\n",
              "       'Stockholm', 'Сургут', 'Череповец', 'сочи', 'Семёнов', 'Клин',\n",
              "       'New York City', 'Рязань', 'Курск', 'Татарск', 'Ухта', 'Пермь',\n",
              "       'Кемерово', 'Краснодар', 'Москва-Сити', 'Актаныш', 'Ривия', 'SPB',\n",
              "       'Жуковский', 'Кандапога', 'уфа', 'Железнодорожный', 'Серпухов',\n",
              "       'Владивосток', 'Нюрба', 'Бийск', 'Хабаровск', 'Камышин',\n",
              "       'Завитинск', 'ENGELS', 'Токио', 'Луна', 'Japan', 'Притон',\n",
              "       'Ростов-на-Дону', 'Вахдат', 'Архангельск', 'Екатеринбург',\n",
              "       'Дагестан', 'Киров', 'Акмола', 'Красноярск', 'Люберцы', 'Омск',\n",
              "       'Аддингтон.', 'Можайск', 'Алмата', 'Вязьма', 'Кчр', 'ТУЛА',\n",
              "       'Королёв', 'Бангкок', 'Дзержинск', 'Донецк', 'Худжанд', 'Tver`',\n",
              "       'Соликамск', 'Припять', 'Питер- столица мира!', 'Липецк',\n",
              "       'Cанкт-Петербург',\n",
              "       'Нижнее Блевково (Калужская область, Спасо-Деменский р-н)',\n",
              "       'Тайланд', 'Неместный=) Мурманск,Самарская обл,Ульяновская обл=)',\n",
              "       'Одесса', 'Даларан', 'Лесной', 'Санкт петербург', 'Чебоксары',\n",
              "       'Санкт-Петебрург',\n",
              "       '\"Это имя как гром и как град - Петербург, Петроград, Ленинград... \"',\n",
              "       'СПБ', 'Екб', 'Mǿşςǿω', 'Rome', 'Новозыбков',\n",
              "       'Гавана, Республика Куба',\n",
              "       'St.Petersburg - Moscow - London - Stockholm - Pittsburgh',\n",
              "       'Санкт-Петербург, Владивосток, Запорожье', 'Магадан',\n",
              "       'Город-герой Салават', 'Архангельск + Киев',\n",
              "       'рожден кстати в г Ленинград', 'Spb', 'Минск', 'Саяногорск', 'Оха',\n",
              "       'Пэлм Спрингс, Калифорния', 'Торжок', 'NewYork St.R', 'Татарка',\n",
              "       'Петропавловск-Камчатский', 'Ленинград Санкт-Петербург',\n",
              "       'Ставрополь', 'Sin City', 'Егорьевск',\n",
              "       'Ульяновск, Москва, Краснодар', 'Новгород', 'Новосибирск', 'Дубна',\n",
              "       'Великий Устюг', 'МОСКВА', 'Уже Москва', 'Боготол',\n",
              "       'Заречный, Екатеринбург', 'Sweet Home Alabama', 'Чита',\n",
              "       'Москва, Бригантинск', 'Подольск, Климовск', 'питер',\n",
              "       'St.Petersburg', 'Ставрополь, Невинномысск', 'Чернигов',\n",
              "       'Южно-Сахалинск', 'Kaliningrad', 'Хартленд', 'Курган', 'У-У',\n",
              "       'С-Петербург', 'Калуга', 'Пудож', 'Звенигород', '𝓢𝓐𝓘𝓝𝓣-𝓟𝓔𝓣𝓔𝓡𝓢𝓑𝓤𝓡𝓖',\n",
              "       'Ярославль', 'Екатеринбург ✈ Москва', 'N', 'Кострома',\n",
              "       'Севастополь', 'Й-Ола', 'Улан - Удэ', 'Вилючинск-3',\n",
              "       'Екатеринбург -> Санкт-Петербург', 'Испания', 'Набережные Челны',\n",
              "       'ИНТА', 'Культурная Столица России', 'Мордор-сити',\n",
              "       'Златоуст-36 aka Трёхгорный', 'Санкт - Петербург ,пос Рощино',\n",
              "       'ЛУГА - 𝓢𝓐𝓘𝓝𝓣-𝓟𝓔𝓣𝓔𝓡𝓢𝓑𝓤𝓡𝓖', 'Дедовичи', 'Московский', 'Ковдор',\n",
              "       'Northern Venice', 'Усть-Каменогорске', 'Y menya shiza',\n",
              "       'Калининград ', 'Bali', 'Sylhet, Bangladesh', 'Новокузнецк',\n",
              "       'Detroit', 'Кисловодск', 'jojolion', 'Херсон', 'Тель-Авив',\n",
              "       'америка', 'Мид', 'Пиво', 'Кладбище', 'Павловский Посад', 'Ижевск',\n",
              "       'Стокгольм', 'Орск', 'Екатеринбург ', 'Великобритания', 'Владимир',\n",
              "       'Тула', 'Сеул', 'Сыктывкар', 'Новоаганск', 'Гомель', 'Хайфа',\n",
              "       'Стаханов', 'Махачкала', 'Ульяновск', 'Ebnutay', 'Гродно',\n",
              "       'Узбекистан', 'Абинск', 'Соль-Илецк', '黎明时的木叶', 'Норильск',\n",
              "       'США 🇺🇸'], dtype=object)"
            ]
          },
          "metadata": {},
          "execution_count": 1087
        }
      ]
    },
    {
      "cell_type": "code",
      "source": [
        "df['home_town'].notna().sum()"
      ],
      "metadata": {
        "colab": {
          "base_uri": "https://localhost:8080/"
        },
        "id": "O7liT-6qkAeY",
        "outputId": "bc80d20e-1e5a-4440-dc50-5b79eae52d05"
      },
      "execution_count": 1088,
      "outputs": [
        {
          "output_type": "execute_result",
          "data": {
            "text/plain": [
              "np.int64(551)"
            ]
          },
          "metadata": {},
          "execution_count": 1088
        }
      ]
    },
    {
      "cell_type": "markdown",
      "source": [
        "Неиформативно. Не требуется."
      ],
      "metadata": {
        "id": "yg-sY3JNlI0a"
      }
    },
    {
      "cell_type": "code",
      "source": [
        "df = df.drop('home_town', axis=1)"
      ],
      "metadata": {
        "id": "HijJWIyRlj1Q"
      },
      "execution_count": 1089,
      "outputs": []
    },
    {
      "cell_type": "markdown",
      "source": [
        "### relation"
      ],
      "metadata": {
        "id": "1pDhsy-Sloql"
      }
    },
    {
      "cell_type": "code",
      "source": [
        "df['relation'].dropna().unique()"
      ],
      "metadata": {
        "colab": {
          "base_uri": "https://localhost:8080/"
        },
        "id": "XHeur_Mol7MZ",
        "outputId": "b918e877-8aef-4d6d-b712-25c6c40bf631"
      },
      "execution_count": 1090,
      "outputs": [
        {
          "output_type": "execute_result",
          "data": {
            "text/plain": [
              "array(['4', '0', '6', '1', '2', '5', '7', '3', '8'], dtype=object)"
            ]
          },
          "metadata": {},
          "execution_count": 1090
        }
      ]
    },
    {
      "cell_type": "markdown",
      "source": [
        "Из документации API ВК:  \n",
        "\n",
        "0. — не указано;  \n",
        "1. — не женат/не замужем;\n",
        "2. — есть друг/есть подруга;\n",
        "3. — помолвлен/помолвлена;\n",
        "4. — женат/замужем;\n",
        "5. — всё сложно;\n",
        "6. — в активном поиске;\n",
        "7. — влюблён/влюблена;\n",
        "8. — в гражданском браке."
      ],
      "metadata": {
        "id": "R5tD7REemhUa"
      }
    },
    {
      "cell_type": "markdown",
      "source": [
        "Неиформативно. Не требуется."
      ],
      "metadata": {
        "id": "iRNKmBhpmhuT"
      }
    },
    {
      "cell_type": "code",
      "source": [
        "df = df.drop('relation', axis=1)"
      ],
      "metadata": {
        "id": "kf1nzMCwmjcw"
      },
      "execution_count": 1091,
      "outputs": []
    },
    {
      "cell_type": "markdown",
      "source": [
        "### costs"
      ],
      "metadata": {
        "id": "M73NbVnpnOin"
      }
    },
    {
      "cell_type": "code",
      "source": [
        "df['costs'].dropna().unique()"
      ],
      "metadata": {
        "colab": {
          "base_uri": "https://localhost:8080/"
        },
        "id": "f_ydM3wfnQfe",
        "outputId": "648aceeb-b7c0-486b-d255-a7a5a061ef5b"
      },
      "execution_count": 1092,
      "outputs": [
        {
          "output_type": "execute_result",
          "data": {
            "text/plain": [
              "array([\"{'costs': 25000, 'currency': 'RUR'}\",\n",
              "       \"{'costs': 50000, 'currency': 'RUR'}\",\n",
              "       \"{'costs': 75000, 'currency': 'RUR'}\",\n",
              "       \"{'costs': 100000, 'currency': 'RUR'}\",\n",
              "       \"{'costs': 1500, 'currency': 'USD'}\",\n",
              "       \"{'costs': 2500, 'currency': 'USD'}\",\n",
              "       \"{'costs': 200000, 'currency': 'KZT'}\",\n",
              "       \"{'costs': 150000, 'currency': 'KZT'}\",\n",
              "       \"{'costs': 1500, 'currency': 'EUR'}\",\n",
              "       \"{'costs': 250000, 'currency': 'KZT'}\",\n",
              "       \"{'costs': 2000, 'currency': 'EUR'}\",\n",
              "       \"{'costs': 5000, 'currency': 'EUR'}\",\n",
              "       \"{'costs': 3000, 'currency': 'USD'}\"], dtype=object)"
            ]
          },
          "metadata": {},
          "execution_count": 1092
        }
      ]
    },
    {
      "cell_type": "markdown",
      "source": [
        "Курс валют на 07.07.2025 (Т.к. дата покупки не указана, считаем по нынешнему курсу)"
      ],
      "metadata": {
        "id": "OX58YRJnqNxu"
      }
    },
    {
      "cell_type": "code",
      "source": [
        "exchange_rates = {\n",
        "    'USD': 78.72,\n",
        "    'EUR': 92.41,\n",
        "    'KZT': 0.1515,\n",
        "    'RUR': 1.0\n",
        "}"
      ],
      "metadata": {
        "id": "r9ftVIi6oRZx"
      },
      "execution_count": 1093,
      "outputs": []
    },
    {
      "cell_type": "code",
      "source": [
        "def convert_to_rur(row):\n",
        "    try:\n",
        "        data = ast.literal_eval(row)\n",
        "        amount = data['costs']\n",
        "        currency = data['currency']\n",
        "        return amount * exchange_rates.get(currency, 1.0)\n",
        "    except:\n",
        "        return None"
      ],
      "metadata": {
        "id": "dBe-LLXtoWCP"
      },
      "execution_count": 1094,
      "outputs": []
    },
    {
      "cell_type": "code",
      "source": [
        "df['costs'] = df['costs'].apply(convert_to_rur)"
      ],
      "metadata": {
        "id": "brGWAXn9pF_m"
      },
      "execution_count": 1095,
      "outputs": []
    },
    {
      "cell_type": "code",
      "source": [
        "df['costs'] = df['costs'].round().astype('Int64')"
      ],
      "metadata": {
        "id": "mDyEHaUis-jW"
      },
      "execution_count": 1096,
      "outputs": []
    },
    {
      "cell_type": "code",
      "source": [
        "df['costs'].dropna().unique()"
      ],
      "metadata": {
        "colab": {
          "base_uri": "https://localhost:8080/"
        },
        "id": "NpneXBnYpLUf",
        "outputId": "08b66df2-57dd-4062-9d8f-0918e4d413f0"
      },
      "execution_count": 1097,
      "outputs": [
        {
          "output_type": "execute_result",
          "data": {
            "text/plain": [
              "<IntegerArray>\n",
              "[ 25000,  50000,  75000, 100000, 118080, 196800,  30300,  22725, 138615,\n",
              "  37875, 184820, 462050, 236160]\n",
              "Length: 13, dtype: Int64"
            ]
          },
          "metadata": {},
          "execution_count": 1097
        }
      ]
    },
    {
      "cell_type": "markdown",
      "source": [
        "### games"
      ],
      "metadata": {
        "id": "rAiMpb2xq1Nh"
      }
    },
    {
      "cell_type": "code",
      "source": [
        "df['games'] = df['games'].apply(\n",
        "    lambda x: [game['name'] for game in ast.literal_eval(x)]\n",
        "    if isinstance(x, str) and x.startswith('[') else []\n",
        ")"
      ],
      "metadata": {
        "id": "IIY9I_T_q2hF"
      },
      "execution_count": 1098,
      "outputs": []
    },
    {
      "cell_type": "code",
      "source": [
        "df['games']"
      ],
      "metadata": {
        "colab": {
          "base_uri": "https://localhost:8080/",
          "height": 458
        },
        "id": "Sncm0VQKq4nR",
        "outputId": "a87f55a2-cec7-4681-c368-8c24e9601018"
      },
      "execution_count": 1099,
      "outputs": [
        {
          "output_type": "execute_result",
          "data": {
            "text/plain": [
              "0                     [Dota 2, CS:GO, Warcraft III]\n",
              "1       [League of Legends, Valorant, Apex Legends]\n",
              "2                                        [Fortnite]\n",
              "3                    [PUBG, Hearthstone, Overwatch]\n",
              "4                                            [FIFA]\n",
              "                           ...                     \n",
              "3462                 [PUBG, Hearthstone, Overwatch]\n",
              "3463                 [PUBG, Hearthstone, Overwatch]\n",
              "3464                                        [CS:GO]\n",
              "3465                                        [CS:GO]\n",
              "3466                                        [CS:GO]\n",
              "Name: games, Length: 3467, dtype: object"
            ],
            "text/html": [
              "<div>\n",
              "<style scoped>\n",
              "    .dataframe tbody tr th:only-of-type {\n",
              "        vertical-align: middle;\n",
              "    }\n",
              "\n",
              "    .dataframe tbody tr th {\n",
              "        vertical-align: top;\n",
              "    }\n",
              "\n",
              "    .dataframe thead th {\n",
              "        text-align: right;\n",
              "    }\n",
              "</style>\n",
              "<table border=\"1\" class=\"dataframe\">\n",
              "  <thead>\n",
              "    <tr style=\"text-align: right;\">\n",
              "      <th></th>\n",
              "      <th>games</th>\n",
              "    </tr>\n",
              "  </thead>\n",
              "  <tbody>\n",
              "    <tr>\n",
              "      <th>0</th>\n",
              "      <td>[Dota 2, CS:GO, Warcraft III]</td>\n",
              "    </tr>\n",
              "    <tr>\n",
              "      <th>1</th>\n",
              "      <td>[League of Legends, Valorant, Apex Legends]</td>\n",
              "    </tr>\n",
              "    <tr>\n",
              "      <th>2</th>\n",
              "      <td>[Fortnite]</td>\n",
              "    </tr>\n",
              "    <tr>\n",
              "      <th>3</th>\n",
              "      <td>[PUBG, Hearthstone, Overwatch]</td>\n",
              "    </tr>\n",
              "    <tr>\n",
              "      <th>4</th>\n",
              "      <td>[FIFA]</td>\n",
              "    </tr>\n",
              "    <tr>\n",
              "      <th>...</th>\n",
              "      <td>...</td>\n",
              "    </tr>\n",
              "    <tr>\n",
              "      <th>3462</th>\n",
              "      <td>[PUBG, Hearthstone, Overwatch]</td>\n",
              "    </tr>\n",
              "    <tr>\n",
              "      <th>3463</th>\n",
              "      <td>[PUBG, Hearthstone, Overwatch]</td>\n",
              "    </tr>\n",
              "    <tr>\n",
              "      <th>3464</th>\n",
              "      <td>[CS:GO]</td>\n",
              "    </tr>\n",
              "    <tr>\n",
              "      <th>3465</th>\n",
              "      <td>[CS:GO]</td>\n",
              "    </tr>\n",
              "    <tr>\n",
              "      <th>3466</th>\n",
              "      <td>[CS:GO]</td>\n",
              "    </tr>\n",
              "  </tbody>\n",
              "</table>\n",
              "<p>3467 rows × 1 columns</p>\n",
              "</div><br><label><b>dtype:</b> object</label>"
            ]
          },
          "metadata": {},
          "execution_count": 1099
        }
      ]
    },
    {
      "cell_type": "markdown",
      "source": [
        "## Результат"
      ],
      "metadata": {
        "id": "4NTClhyiU24D"
      }
    },
    {
      "cell_type": "code",
      "source": [
        "df.isna().sum()"
      ],
      "metadata": {
        "colab": {
          "base_uri": "https://localhost:8080/",
          "height": 397
        },
        "id": "PWD_wqp3s2F1",
        "outputId": "68619907-0c6e-479d-8d90-fc47c14c1578"
      },
      "execution_count": 1100,
      "outputs": [
        {
          "output_type": "execute_result",
          "data": {
            "text/plain": [
              "id                    0\n",
              "age                   0\n",
              "city               1539\n",
              "country               0\n",
              "last_seen             0\n",
              "followers_count     857\n",
              "sex                   0\n",
              "is_closed             0\n",
              "costs                 0\n",
              "games                 0\n",
              "dtype: int64"
            ],
            "text/html": [
              "<div>\n",
              "<style scoped>\n",
              "    .dataframe tbody tr th:only-of-type {\n",
              "        vertical-align: middle;\n",
              "    }\n",
              "\n",
              "    .dataframe tbody tr th {\n",
              "        vertical-align: top;\n",
              "    }\n",
              "\n",
              "    .dataframe thead th {\n",
              "        text-align: right;\n",
              "    }\n",
              "</style>\n",
              "<table border=\"1\" class=\"dataframe\">\n",
              "  <thead>\n",
              "    <tr style=\"text-align: right;\">\n",
              "      <th></th>\n",
              "      <th>0</th>\n",
              "    </tr>\n",
              "  </thead>\n",
              "  <tbody>\n",
              "    <tr>\n",
              "      <th>id</th>\n",
              "      <td>0</td>\n",
              "    </tr>\n",
              "    <tr>\n",
              "      <th>age</th>\n",
              "      <td>0</td>\n",
              "    </tr>\n",
              "    <tr>\n",
              "      <th>city</th>\n",
              "      <td>1539</td>\n",
              "    </tr>\n",
              "    <tr>\n",
              "      <th>country</th>\n",
              "      <td>0</td>\n",
              "    </tr>\n",
              "    <tr>\n",
              "      <th>last_seen</th>\n",
              "      <td>0</td>\n",
              "    </tr>\n",
              "    <tr>\n",
              "      <th>followers_count</th>\n",
              "      <td>857</td>\n",
              "    </tr>\n",
              "    <tr>\n",
              "      <th>sex</th>\n",
              "      <td>0</td>\n",
              "    </tr>\n",
              "    <tr>\n",
              "      <th>is_closed</th>\n",
              "      <td>0</td>\n",
              "    </tr>\n",
              "    <tr>\n",
              "      <th>costs</th>\n",
              "      <td>0</td>\n",
              "    </tr>\n",
              "    <tr>\n",
              "      <th>games</th>\n",
              "      <td>0</td>\n",
              "    </tr>\n",
              "  </tbody>\n",
              "</table>\n",
              "</div><br><label><b>dtype:</b> int64</label>"
            ]
          },
          "metadata": {},
          "execution_count": 1100
        }
      ]
    },
    {
      "cell_type": "code",
      "source": [
        "df"
      ],
      "metadata": {
        "colab": {
          "base_uri": "https://localhost:8080/",
          "height": 597
        },
        "id": "cdfx_pEQVNUT",
        "outputId": "846ab327-cede-4b53-a8f1-4b6708a91ffa"
      },
      "execution_count": 1101,
      "outputs": [
        {
          "output_type": "execute_result",
          "data": {
            "text/plain": [
              "             id  age             city country           last_seen  \\\n",
              "0            19   21  Санкт-Петербург  Россия 2022-09-03 20:36:02   \n",
              "1           510   41              NaN  Россия 2022-08-24 06:16:43   \n",
              "2           674   47      Новосибирск  Россия 2022-09-03 10:56:59   \n",
              "3          1018   24  Санкт-Петербург  Россия 2021-02-19 04:15:36   \n",
              "4          1586   37              NaN  Россия 2021-04-27 19:12:50   \n",
              "...         ...  ...              ...     ...                 ...   \n",
              "3462  741281008   17  Санкт-Петербург  Россия 2022-09-03 06:16:08   \n",
              "3463  741278238   35              NaN  Россия 2022-07-26 07:20:57   \n",
              "3464  741268233   19              NaN  Россия 2022-09-03 20:37:02   \n",
              "3465  741254343   24              NaN  Россия 2022-09-03 19:15:23   \n",
              "3466  741237782   25              NaN  Россия 2022-08-29 17:12:26   \n",
              "\n",
              "      followers_count      sex  is_closed   costs  \\\n",
              "0               39326  Женский          0   25000   \n",
              "1               19698  Мужской          0   50000   \n",
              "2                <NA>  Мужской          1   75000   \n",
              "3                <NA>  Мужской          1  100000   \n",
              "4               31433  Мужской          0  100000   \n",
              "...               ...      ...        ...     ...   \n",
              "3462             <NA>  Мужской          1   50000   \n",
              "3463             <NA>  Мужской          1   50000   \n",
              "3464                0  Мужской          0   50000   \n",
              "3465                1  Мужской          0   25000   \n",
              "3466             <NA>  Мужской          1   25000   \n",
              "\n",
              "                                            games  \n",
              "0                   [Dota 2, CS:GO, Warcraft III]  \n",
              "1     [League of Legends, Valorant, Apex Legends]  \n",
              "2                                      [Fortnite]  \n",
              "3                  [PUBG, Hearthstone, Overwatch]  \n",
              "4                                          [FIFA]  \n",
              "...                                           ...  \n",
              "3462               [PUBG, Hearthstone, Overwatch]  \n",
              "3463               [PUBG, Hearthstone, Overwatch]  \n",
              "3464                                      [CS:GO]  \n",
              "3465                                      [CS:GO]  \n",
              "3466                                      [CS:GO]  \n",
              "\n",
              "[3467 rows x 10 columns]"
            ],
            "text/html": [
              "\n",
              "  <div id=\"df-b7816c51-ae98-4be9-a00c-2de228e19abd\" class=\"colab-df-container\">\n",
              "    <div>\n",
              "<style scoped>\n",
              "    .dataframe tbody tr th:only-of-type {\n",
              "        vertical-align: middle;\n",
              "    }\n",
              "\n",
              "    .dataframe tbody tr th {\n",
              "        vertical-align: top;\n",
              "    }\n",
              "\n",
              "    .dataframe thead th {\n",
              "        text-align: right;\n",
              "    }\n",
              "</style>\n",
              "<table border=\"1\" class=\"dataframe\">\n",
              "  <thead>\n",
              "    <tr style=\"text-align: right;\">\n",
              "      <th></th>\n",
              "      <th>id</th>\n",
              "      <th>age</th>\n",
              "      <th>city</th>\n",
              "      <th>country</th>\n",
              "      <th>last_seen</th>\n",
              "      <th>followers_count</th>\n",
              "      <th>sex</th>\n",
              "      <th>is_closed</th>\n",
              "      <th>costs</th>\n",
              "      <th>games</th>\n",
              "    </tr>\n",
              "  </thead>\n",
              "  <tbody>\n",
              "    <tr>\n",
              "      <th>0</th>\n",
              "      <td>19</td>\n",
              "      <td>21</td>\n",
              "      <td>Санкт-Петербург</td>\n",
              "      <td>Россия</td>\n",
              "      <td>2022-09-03 20:36:02</td>\n",
              "      <td>39326</td>\n",
              "      <td>Женский</td>\n",
              "      <td>0</td>\n",
              "      <td>25000</td>\n",
              "      <td>[Dota 2, CS:GO, Warcraft III]</td>\n",
              "    </tr>\n",
              "    <tr>\n",
              "      <th>1</th>\n",
              "      <td>510</td>\n",
              "      <td>41</td>\n",
              "      <td>NaN</td>\n",
              "      <td>Россия</td>\n",
              "      <td>2022-08-24 06:16:43</td>\n",
              "      <td>19698</td>\n",
              "      <td>Мужской</td>\n",
              "      <td>0</td>\n",
              "      <td>50000</td>\n",
              "      <td>[League of Legends, Valorant, Apex Legends]</td>\n",
              "    </tr>\n",
              "    <tr>\n",
              "      <th>2</th>\n",
              "      <td>674</td>\n",
              "      <td>47</td>\n",
              "      <td>Новосибирск</td>\n",
              "      <td>Россия</td>\n",
              "      <td>2022-09-03 10:56:59</td>\n",
              "      <td>&lt;NA&gt;</td>\n",
              "      <td>Мужской</td>\n",
              "      <td>1</td>\n",
              "      <td>75000</td>\n",
              "      <td>[Fortnite]</td>\n",
              "    </tr>\n",
              "    <tr>\n",
              "      <th>3</th>\n",
              "      <td>1018</td>\n",
              "      <td>24</td>\n",
              "      <td>Санкт-Петербург</td>\n",
              "      <td>Россия</td>\n",
              "      <td>2021-02-19 04:15:36</td>\n",
              "      <td>&lt;NA&gt;</td>\n",
              "      <td>Мужской</td>\n",
              "      <td>1</td>\n",
              "      <td>100000</td>\n",
              "      <td>[PUBG, Hearthstone, Overwatch]</td>\n",
              "    </tr>\n",
              "    <tr>\n",
              "      <th>4</th>\n",
              "      <td>1586</td>\n",
              "      <td>37</td>\n",
              "      <td>NaN</td>\n",
              "      <td>Россия</td>\n",
              "      <td>2021-04-27 19:12:50</td>\n",
              "      <td>31433</td>\n",
              "      <td>Мужской</td>\n",
              "      <td>0</td>\n",
              "      <td>100000</td>\n",
              "      <td>[FIFA]</td>\n",
              "    </tr>\n",
              "    <tr>\n",
              "      <th>...</th>\n",
              "      <td>...</td>\n",
              "      <td>...</td>\n",
              "      <td>...</td>\n",
              "      <td>...</td>\n",
              "      <td>...</td>\n",
              "      <td>...</td>\n",
              "      <td>...</td>\n",
              "      <td>...</td>\n",
              "      <td>...</td>\n",
              "      <td>...</td>\n",
              "    </tr>\n",
              "    <tr>\n",
              "      <th>3462</th>\n",
              "      <td>741281008</td>\n",
              "      <td>17</td>\n",
              "      <td>Санкт-Петербург</td>\n",
              "      <td>Россия</td>\n",
              "      <td>2022-09-03 06:16:08</td>\n",
              "      <td>&lt;NA&gt;</td>\n",
              "      <td>Мужской</td>\n",
              "      <td>1</td>\n",
              "      <td>50000</td>\n",
              "      <td>[PUBG, Hearthstone, Overwatch]</td>\n",
              "    </tr>\n",
              "    <tr>\n",
              "      <th>3463</th>\n",
              "      <td>741278238</td>\n",
              "      <td>35</td>\n",
              "      <td>NaN</td>\n",
              "      <td>Россия</td>\n",
              "      <td>2022-07-26 07:20:57</td>\n",
              "      <td>&lt;NA&gt;</td>\n",
              "      <td>Мужской</td>\n",
              "      <td>1</td>\n",
              "      <td>50000</td>\n",
              "      <td>[PUBG, Hearthstone, Overwatch]</td>\n",
              "    </tr>\n",
              "    <tr>\n",
              "      <th>3464</th>\n",
              "      <td>741268233</td>\n",
              "      <td>19</td>\n",
              "      <td>NaN</td>\n",
              "      <td>Россия</td>\n",
              "      <td>2022-09-03 20:37:02</td>\n",
              "      <td>0</td>\n",
              "      <td>Мужской</td>\n",
              "      <td>0</td>\n",
              "      <td>50000</td>\n",
              "      <td>[CS:GO]</td>\n",
              "    </tr>\n",
              "    <tr>\n",
              "      <th>3465</th>\n",
              "      <td>741254343</td>\n",
              "      <td>24</td>\n",
              "      <td>NaN</td>\n",
              "      <td>Россия</td>\n",
              "      <td>2022-09-03 19:15:23</td>\n",
              "      <td>1</td>\n",
              "      <td>Мужской</td>\n",
              "      <td>0</td>\n",
              "      <td>25000</td>\n",
              "      <td>[CS:GO]</td>\n",
              "    </tr>\n",
              "    <tr>\n",
              "      <th>3466</th>\n",
              "      <td>741237782</td>\n",
              "      <td>25</td>\n",
              "      <td>NaN</td>\n",
              "      <td>Россия</td>\n",
              "      <td>2022-08-29 17:12:26</td>\n",
              "      <td>&lt;NA&gt;</td>\n",
              "      <td>Мужской</td>\n",
              "      <td>1</td>\n",
              "      <td>25000</td>\n",
              "      <td>[CS:GO]</td>\n",
              "    </tr>\n",
              "  </tbody>\n",
              "</table>\n",
              "<p>3467 rows × 10 columns</p>\n",
              "</div>\n",
              "    <div class=\"colab-df-buttons\">\n",
              "\n",
              "  <div class=\"colab-df-container\">\n",
              "    <button class=\"colab-df-convert\" onclick=\"convertToInteractive('df-b7816c51-ae98-4be9-a00c-2de228e19abd')\"\n",
              "            title=\"Convert this dataframe to an interactive table.\"\n",
              "            style=\"display:none;\">\n",
              "\n",
              "  <svg xmlns=\"http://www.w3.org/2000/svg\" height=\"24px\" viewBox=\"0 -960 960 960\">\n",
              "    <path d=\"M120-120v-720h720v720H120Zm60-500h600v-160H180v160Zm220 220h160v-160H400v160Zm0 220h160v-160H400v160ZM180-400h160v-160H180v160Zm440 0h160v-160H620v160ZM180-180h160v-160H180v160Zm440 0h160v-160H620v160Z\"/>\n",
              "  </svg>\n",
              "    </button>\n",
              "\n",
              "  <style>\n",
              "    .colab-df-container {\n",
              "      display:flex;\n",
              "      gap: 12px;\n",
              "    }\n",
              "\n",
              "    .colab-df-convert {\n",
              "      background-color: #E8F0FE;\n",
              "      border: none;\n",
              "      border-radius: 50%;\n",
              "      cursor: pointer;\n",
              "      display: none;\n",
              "      fill: #1967D2;\n",
              "      height: 32px;\n",
              "      padding: 0 0 0 0;\n",
              "      width: 32px;\n",
              "    }\n",
              "\n",
              "    .colab-df-convert:hover {\n",
              "      background-color: #E2EBFA;\n",
              "      box-shadow: 0px 1px 2px rgba(60, 64, 67, 0.3), 0px 1px 3px 1px rgba(60, 64, 67, 0.15);\n",
              "      fill: #174EA6;\n",
              "    }\n",
              "\n",
              "    .colab-df-buttons div {\n",
              "      margin-bottom: 4px;\n",
              "    }\n",
              "\n",
              "    [theme=dark] .colab-df-convert {\n",
              "      background-color: #3B4455;\n",
              "      fill: #D2E3FC;\n",
              "    }\n",
              "\n",
              "    [theme=dark] .colab-df-convert:hover {\n",
              "      background-color: #434B5C;\n",
              "      box-shadow: 0px 1px 3px 1px rgba(0, 0, 0, 0.15);\n",
              "      filter: drop-shadow(0px 1px 2px rgba(0, 0, 0, 0.3));\n",
              "      fill: #FFFFFF;\n",
              "    }\n",
              "  </style>\n",
              "\n",
              "    <script>\n",
              "      const buttonEl =\n",
              "        document.querySelector('#df-b7816c51-ae98-4be9-a00c-2de228e19abd button.colab-df-convert');\n",
              "      buttonEl.style.display =\n",
              "        google.colab.kernel.accessAllowed ? 'block' : 'none';\n",
              "\n",
              "      async function convertToInteractive(key) {\n",
              "        const element = document.querySelector('#df-b7816c51-ae98-4be9-a00c-2de228e19abd');\n",
              "        const dataTable =\n",
              "          await google.colab.kernel.invokeFunction('convertToInteractive',\n",
              "                                                    [key], {});\n",
              "        if (!dataTable) return;\n",
              "\n",
              "        const docLinkHtml = 'Like what you see? Visit the ' +\n",
              "          '<a target=\"_blank\" href=https://colab.research.google.com/notebooks/data_table.ipynb>data table notebook</a>'\n",
              "          + ' to learn more about interactive tables.';\n",
              "        element.innerHTML = '';\n",
              "        dataTable['output_type'] = 'display_data';\n",
              "        await google.colab.output.renderOutput(dataTable, element);\n",
              "        const docLink = document.createElement('div');\n",
              "        docLink.innerHTML = docLinkHtml;\n",
              "        element.appendChild(docLink);\n",
              "      }\n",
              "    </script>\n",
              "  </div>\n",
              "\n",
              "\n",
              "    <div id=\"df-11c2387d-85b8-4ab4-b509-b4c7ca10ac6c\">\n",
              "      <button class=\"colab-df-quickchart\" onclick=\"quickchart('df-11c2387d-85b8-4ab4-b509-b4c7ca10ac6c')\"\n",
              "                title=\"Suggest charts\"\n",
              "                style=\"display:none;\">\n",
              "\n",
              "<svg xmlns=\"http://www.w3.org/2000/svg\" height=\"24px\"viewBox=\"0 0 24 24\"\n",
              "     width=\"24px\">\n",
              "    <g>\n",
              "        <path d=\"M19 3H5c-1.1 0-2 .9-2 2v14c0 1.1.9 2 2 2h14c1.1 0 2-.9 2-2V5c0-1.1-.9-2-2-2zM9 17H7v-7h2v7zm4 0h-2V7h2v10zm4 0h-2v-4h2v4z\"/>\n",
              "    </g>\n",
              "</svg>\n",
              "      </button>\n",
              "\n",
              "<style>\n",
              "  .colab-df-quickchart {\n",
              "      --bg-color: #E8F0FE;\n",
              "      --fill-color: #1967D2;\n",
              "      --hover-bg-color: #E2EBFA;\n",
              "      --hover-fill-color: #174EA6;\n",
              "      --disabled-fill-color: #AAA;\n",
              "      --disabled-bg-color: #DDD;\n",
              "  }\n",
              "\n",
              "  [theme=dark] .colab-df-quickchart {\n",
              "      --bg-color: #3B4455;\n",
              "      --fill-color: #D2E3FC;\n",
              "      --hover-bg-color: #434B5C;\n",
              "      --hover-fill-color: #FFFFFF;\n",
              "      --disabled-bg-color: #3B4455;\n",
              "      --disabled-fill-color: #666;\n",
              "  }\n",
              "\n",
              "  .colab-df-quickchart {\n",
              "    background-color: var(--bg-color);\n",
              "    border: none;\n",
              "    border-radius: 50%;\n",
              "    cursor: pointer;\n",
              "    display: none;\n",
              "    fill: var(--fill-color);\n",
              "    height: 32px;\n",
              "    padding: 0;\n",
              "    width: 32px;\n",
              "  }\n",
              "\n",
              "  .colab-df-quickchart:hover {\n",
              "    background-color: var(--hover-bg-color);\n",
              "    box-shadow: 0 1px 2px rgba(60, 64, 67, 0.3), 0 1px 3px 1px rgba(60, 64, 67, 0.15);\n",
              "    fill: var(--button-hover-fill-color);\n",
              "  }\n",
              "\n",
              "  .colab-df-quickchart-complete:disabled,\n",
              "  .colab-df-quickchart-complete:disabled:hover {\n",
              "    background-color: var(--disabled-bg-color);\n",
              "    fill: var(--disabled-fill-color);\n",
              "    box-shadow: none;\n",
              "  }\n",
              "\n",
              "  .colab-df-spinner {\n",
              "    border: 2px solid var(--fill-color);\n",
              "    border-color: transparent;\n",
              "    border-bottom-color: var(--fill-color);\n",
              "    animation:\n",
              "      spin 1s steps(1) infinite;\n",
              "  }\n",
              "\n",
              "  @keyframes spin {\n",
              "    0% {\n",
              "      border-color: transparent;\n",
              "      border-bottom-color: var(--fill-color);\n",
              "      border-left-color: var(--fill-color);\n",
              "    }\n",
              "    20% {\n",
              "      border-color: transparent;\n",
              "      border-left-color: var(--fill-color);\n",
              "      border-top-color: var(--fill-color);\n",
              "    }\n",
              "    30% {\n",
              "      border-color: transparent;\n",
              "      border-left-color: var(--fill-color);\n",
              "      border-top-color: var(--fill-color);\n",
              "      border-right-color: var(--fill-color);\n",
              "    }\n",
              "    40% {\n",
              "      border-color: transparent;\n",
              "      border-right-color: var(--fill-color);\n",
              "      border-top-color: var(--fill-color);\n",
              "    }\n",
              "    60% {\n",
              "      border-color: transparent;\n",
              "      border-right-color: var(--fill-color);\n",
              "    }\n",
              "    80% {\n",
              "      border-color: transparent;\n",
              "      border-right-color: var(--fill-color);\n",
              "      border-bottom-color: var(--fill-color);\n",
              "    }\n",
              "    90% {\n",
              "      border-color: transparent;\n",
              "      border-bottom-color: var(--fill-color);\n",
              "    }\n",
              "  }\n",
              "</style>\n",
              "\n",
              "      <script>\n",
              "        async function quickchart(key) {\n",
              "          const quickchartButtonEl =\n",
              "            document.querySelector('#' + key + ' button');\n",
              "          quickchartButtonEl.disabled = true;  // To prevent multiple clicks.\n",
              "          quickchartButtonEl.classList.add('colab-df-spinner');\n",
              "          try {\n",
              "            const charts = await google.colab.kernel.invokeFunction(\n",
              "                'suggestCharts', [key], {});\n",
              "          } catch (error) {\n",
              "            console.error('Error during call to suggestCharts:', error);\n",
              "          }\n",
              "          quickchartButtonEl.classList.remove('colab-df-spinner');\n",
              "          quickchartButtonEl.classList.add('colab-df-quickchart-complete');\n",
              "        }\n",
              "        (() => {\n",
              "          let quickchartButtonEl =\n",
              "            document.querySelector('#df-11c2387d-85b8-4ab4-b509-b4c7ca10ac6c button');\n",
              "          quickchartButtonEl.style.display =\n",
              "            google.colab.kernel.accessAllowed ? 'block' : 'none';\n",
              "        })();\n",
              "      </script>\n",
              "    </div>\n",
              "    </div>\n",
              "  </div>\n"
            ],
            "application/vnd.google.colaboratory.intrinsic+json": {
              "type": "dataframe",
              "variable_name": "df",
              "summary": "{\n  \"name\": \"df\",\n  \"rows\": 3467,\n  \"fields\": [\n    {\n      \"column\": \"id\",\n      \"properties\": {\n        \"dtype\": \"number\",\n        \"std\": 370817441,\n        \"min\": 19,\n        \"max\": 748203781,\n        \"num_unique_values\": 3310,\n        \"samples\": [\n          18747,\n          448504,\n          738472375\n        ],\n        \"semantic_type\": \"\",\n        \"description\": \"\"\n      }\n    },\n    {\n      \"column\": \"age\",\n      \"properties\": {\n        \"dtype\": \"number\",\n        \"std\": 12,\n        \"min\": 17,\n        \"max\": 123,\n        \"num_unique_values\": 67,\n        \"samples\": [\n          17,\n          33,\n          37\n        ],\n        \"semantic_type\": \"\",\n        \"description\": \"\"\n      }\n    },\n    {\n      \"column\": \"city\",\n      \"properties\": {\n        \"dtype\": \"category\",\n        \"num_unique_values\": 281,\n        \"samples\": [\n          \"\\u041d\\u0443\\u0440-\\u0421\\u0443\\u043b\\u0442\\u0430\\u043d / \\u0410\\u0441\\u0442\\u0430\\u043d\\u0430\",\n          \"\\u0423\\u0440\\u0430\\u043b\\u044c\\u0441\\u043a\",\n          \"\\u041a\\u0443\\u0440\\u0433\\u0430\\u043d\"\n        ],\n        \"semantic_type\": \"\",\n        \"description\": \"\"\n      }\n    },\n    {\n      \"column\": \"country\",\n      \"properties\": {\n        \"dtype\": \"category\",\n        \"num_unique_values\": 40,\n        \"samples\": [\n          \"\\u041d\\u043e\\u0440\\u0432\\u0435\\u0433\\u0438\\u044f\",\n          \"\\u041e\\u0431\\u044a\\u0435\\u0434\\u0438\\u043d\\u0435\\u043d\\u043d\\u044b\\u0435 \\u0410\\u0440\\u0430\\u0431\\u0441\\u043a\\u0438\\u0435 \\u042d\\u043c\\u0438\\u0440\\u0430\\u0442\\u044b\",\n          \"\\u0410\\u0437\\u0435\\u0440\\u0431\\u0430\\u0439\\u0434\\u0436\\u0430\\u043d\"\n        ],\n        \"semantic_type\": \"\",\n        \"description\": \"\"\n      }\n    },\n    {\n      \"column\": \"last_seen\",\n      \"properties\": {\n        \"dtype\": \"date\",\n        \"min\": \"2015-02-27 07:04:51\",\n        \"max\": \"2022-09-03 20:37:02\",\n        \"num_unique_values\": 3115,\n        \"samples\": [\n          \"2022-09-03 09:37:56\",\n          \"2022-09-02 20:40:23\",\n          \"2022-09-03 19:21:09\"\n        ],\n        \"semantic_type\": \"\",\n        \"description\": \"\"\n      }\n    },\n    {\n      \"column\": \"followers_count\",\n      \"properties\": {\n        \"dtype\": \"Int64\",\n        \"num_unique_values\": 762,\n        \"samples\": [\n          1850,\n          135,\n          541\n        ],\n        \"semantic_type\": \"\",\n        \"description\": \"\"\n      }\n    },\n    {\n      \"column\": \"sex\",\n      \"properties\": {\n        \"dtype\": \"category\",\n        \"num_unique_values\": 2,\n        \"samples\": [\n          \"\\u041c\\u0443\\u0436\\u0441\\u043a\\u043e\\u0439\",\n          \"\\u0416\\u0435\\u043d\\u0441\\u043a\\u0438\\u0439\"\n        ],\n        \"semantic_type\": \"\",\n        \"description\": \"\"\n      }\n    },\n    {\n      \"column\": \"is_closed\",\n      \"properties\": {\n        \"dtype\": \"number\",\n        \"std\": 0,\n        \"min\": 0,\n        \"max\": 1,\n        \"num_unique_values\": 2,\n        \"samples\": [\n          1,\n          0\n        ],\n        \"semantic_type\": \"\",\n        \"description\": \"\"\n      }\n    },\n    {\n      \"column\": \"costs\",\n      \"properties\": {\n        \"dtype\": \"Int64\",\n        \"num_unique_values\": 13,\n        \"samples\": [\n          462050,\n          37875\n        ],\n        \"semantic_type\": \"\",\n        \"description\": \"\"\n      }\n    },\n    {\n      \"column\": \"games\",\n      \"properties\": {\n        \"dtype\": \"object\",\n        \"semantic_type\": \"\",\n        \"description\": \"\"\n      }\n    }\n  ]\n}"
            }
          },
          "metadata": {},
          "execution_count": 1101
        }
      ]
    },
    {
      "cell_type": "markdown",
      "source": [
        "Данные подготовлены, теперь можно строить дашборды."
      ],
      "metadata": {
        "id": "DgsCqoaAtGzB"
      }
    }
  ]
}